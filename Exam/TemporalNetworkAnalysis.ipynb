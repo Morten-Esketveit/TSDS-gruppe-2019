{
 "cells": [
  {
   "cell_type": "code",
   "execution_count": 1,
   "metadata": {},
   "outputs": [],
   "source": [
    "import numpy as np\n",
    "import pandas as pd\n",
    "import matplotlib.pyplot as plt\n",
    "from shapely.geometry import Point\n",
    "import geopandas as gpd\n",
    "import copy\n",
    "import networkx as nx"
   ]
  },
  {
   "cell_type": "code",
   "execution_count": 29,
   "metadata": {},
   "outputs": [],
   "source": [
    "FlightsNx98 = pd.read_pickle(\"FlightsNx98.pkl\")\n",
    "FlightsNx07 = pd.read_pickle(\"FlightsNx.pkl\")\n",
    "FlightsNx18 = pd.read_pickle(\"FlightsNx18.pkl\")"
   ]
  },
  {
   "cell_type": "code",
   "execution_count": 30,
   "metadata": {},
   "outputs": [],
   "source": [
    "net1998 = nx.from_pandas_edgelist(FlightsNx98, source = \"Origin\", target = \"Dest\", edge_attr = True)\n",
    "net2007 = nx.from_pandas_edgelist(FlightsNx07, source = \"Origin\", target = \"Dest\", edge_attr = True)\n",
    "net2018 = nx.from_pandas_edgelist(FlightsNx18, source = \"Origin\", target = \"Dest\", edge_attr = True)"
   ]
  },
  {
   "cell_type": "code",
   "execution_count": 31,
   "metadata": {},
   "outputs": [
    {
     "name": "stdout",
     "output_type": "stream",
     "text": [
      "Name: \n",
      "Type: Graph\n",
      "Number of nodes: 209\n",
      "Number of edges: 1614\n",
      "Average degree:  15.4450\n",
      "Name: \n",
      "Type: Graph\n",
      "Number of nodes: 310\n",
      "Number of edges: 2868\n",
      "Average degree:  18.5032\n",
      "Name: \n",
      "Type: Graph\n",
      "Number of nodes: 358\n",
      "Number of edges: 3220\n",
      "Average degree:  17.9888\n"
     ]
    }
   ],
   "source": [
    "print(nx.info(net1998))\n",
    "print(nx.info(net2007))\n",
    "print(nx.info(net2018))"
   ]
  },
  {
   "cell_type": "code",
   "execution_count": 33,
   "metadata": {},
   "outputs": [
    {
     "name": "stdout",
     "output_type": "stream",
     "text": [
      "0.6274181169963035\n",
      "0.45442813765182366\n"
     ]
    },
    {
     "data": {
      "text/plain": [
       "15.444976076555024"
      ]
     },
     "execution_count": 33,
     "metadata": {},
     "output_type": "execute_result"
    }
   ],
   "source": [
    "# Basic information on network in 1998\n",
    "print(nx.average_clustering(net1998))\n",
    "    \n",
    "#print(nx.average_shortest_path_length(net1998))\n",
    "    \n",
    "print(nx.global_efficiency(net1998))\n",
    "    \n",
    "sum(dict(net1998.degree()).values())/len(dict(net1998.degree()).values())"
   ]
  },
  {
   "cell_type": "code",
   "execution_count": 7,
   "metadata": {},
   "outputs": [
    {
     "name": "stdout",
     "output_type": "stream",
     "text": [
      "0.6329597748621263\n",
      "2.3133312454327175\n",
      "0.46953265824570517\n"
     ]
    },
    {
     "data": {
      "text/plain": [
       "18.503225806451614"
      ]
     },
     "execution_count": 7,
     "metadata": {},
     "output_type": "execute_result"
    }
   ],
   "source": [
    "# Basic information on network in 2007\n",
    "print(nx.average_clustering(net2007))\n",
    "    \n",
    "print(nx.average_shortest_path_length(net2007))\n",
    "    \n",
    "print(nx.global_efficiency(net2007))\n",
    "    \n",
    "sum(dict(net2007.degree()).values())/len(dict(net2007.degree()).values())"
   ]
  },
  {
   "cell_type": "code",
   "execution_count": 8,
   "metadata": {},
   "outputs": [
    {
     "name": "stdout",
     "output_type": "stream",
     "text": [
      "0.5671628544291067\n",
      "2.3794657527815595\n",
      "0.4571454652628847\n"
     ]
    },
    {
     "data": {
      "text/plain": [
       "17.988826815642458"
      ]
     },
     "execution_count": 8,
     "metadata": {},
     "output_type": "execute_result"
    }
   ],
   "source": [
    "# Basic information on network in 2018\n",
    "print(nx.average_clustering(net2018))\n",
    "    \n",
    "print(nx.average_shortest_path_length(net2018))\n",
    "    \n",
    "print(nx.global_efficiency(net2018))\n",
    "    \n",
    "sum(dict(net2018.degree()).values())/len(dict(net2018.degree()).values())"
   ]
  },
  {
   "cell_type": "code",
   "execution_count": 11,
   "metadata": {},
   "outputs": [
    {
     "data": {
      "text/plain": [
       "0.050388870632051705"
      ]
     },
     "execution_count": 11,
     "metadata": {},
     "output_type": "execute_result"
    }
   ],
   "source": [
    "#sparseness\n",
    "L_max_2018 = (358*(358-1))/2\n",
    "3220/L_max_2018"
   ]
  },
  {
   "cell_type": "code",
   "execution_count": 44,
   "metadata": {
    "scrolled": true
   },
   "outputs": [
    {
     "name": "stdout",
     "output_type": "stream",
     "text": [
      "1998:99\n",
      "2007:186\n",
      "2018:176\n"
     ]
    }
   ],
   "source": [
    "# Maximum degree\n",
    "print(\"1998:{}\".format(max(dict(net1998.degree()).values())))\n",
    "print(\"2007:{}\".format(max(dict(net2007.degree()).values())))\n",
    "print(\"2018:{}\".format(max(dict(net2018.degree()).values())))"
   ]
  },
  {
   "cell_type": "code",
   "execution_count": 40,
   "metadata": {},
   "outputs": [
    {
     "data": {
      "text/plain": [
       "186"
      ]
     },
     "execution_count": 40,
     "metadata": {},
     "output_type": "execute_result"
    }
   ],
   "source": [
    "max(dict(net2007.degree()).values())"
   ]
  }
 ],
 "metadata": {
  "kernelspec": {
   "display_name": "Python 3",
   "language": "python",
   "name": "python3"
  },
  "language_info": {
   "codemirror_mode": {
    "name": "ipython",
    "version": 3
   },
   "file_extension": ".py",
   "mimetype": "text/x-python",
   "name": "python",
   "nbconvert_exporter": "python",
   "pygments_lexer": "ipython3",
   "version": "3.7.1"
  }
 },
 "nbformat": 4,
 "nbformat_minor": 2
}
