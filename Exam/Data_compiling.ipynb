{
 "cells": [
  {
   "cell_type": "markdown",
   "metadata": {},
   "source": [
    "*Downloading and cleaning data on flights and airports*"
   ]
  },
  {
   "cell_type": "code",
   "execution_count": 1,
   "metadata": {},
   "outputs": [],
   "source": [
    "# imports\n",
    "import numpy as np\n",
    "import pandas as pd\n",
    "import matplotlib.pyplot as plt\n",
    "import networkx as nx\n",
    "import urllib.request as req"
   ]
  },
  {
   "cell_type": "markdown",
   "metadata": {},
   "source": [
    "# Download data on flights and airports"
   ]
  },
  {
   "cell_type": "markdown",
   "metadata": {},
   "source": [
    "### Flights, 2007\n",
    "\n",
    "Data comes from the US Bureau of Transportation Statistics (BTS) but is gathered with complete data up to 2007 at\n",
    "\n",
    "http://stat-computing.org/dataexpo/2009/the-data.html"
   ]
  },
  {
   "cell_type": "code",
   "execution_count": 2,
   "metadata": {
    "scrolled": true
   },
   "outputs": [
    {
     "name": "stdout",
     "output_type": "stream",
     "text": [
      "Wall time: 14.5 s\n",
      "Wall time: 51.7 s\n",
      "Rows: 7453215\n"
     ]
    }
   ],
   "source": [
    "# Flights\n",
    "filename = '2007.csv.bz2'\n",
    "url = 'http://stat-computing.org/dataexpo/2009/'+str(filename)\n",
    "%time req.urlretrieve(url,filename)\n",
    "%time Flights = pd.read_csv(filename)\n",
    "\n",
    "# Pickle un-cleaned: too big for Github, as >100 MB\n",
    "Flights.to_pickle(\"Flights.pkl\")\n",
    "\n",
    "print('Rows:', len(Flights.index))"
   ]
  },
  {
   "cell_type": "markdown",
   "metadata": {},
   "source": [
    "***Unique journeys for price scraping***"
   ]
  },
  {
   "cell_type": "code",
   "execution_count": 4,
   "metadata": {},
   "outputs": [
    {
     "data": {
      "text/html": [
       "<div>\n",
       "<style scoped>\n",
       "    .dataframe tbody tr th:only-of-type {\n",
       "        vertical-align: middle;\n",
       "    }\n",
       "\n",
       "    .dataframe tbody tr th {\n",
       "        vertical-align: top;\n",
       "    }\n",
       "\n",
       "    .dataframe thead th {\n",
       "        text-align: right;\n",
       "    }\n",
       "</style>\n",
       "<table border=\"1\" class=\"dataframe\">\n",
       "  <thead>\n",
       "    <tr style=\"text-align: right;\">\n",
       "      <th></th>\n",
       "      <th>Year</th>\n",
       "      <th>Month</th>\n",
       "      <th>DayofMonth</th>\n",
       "      <th>DayOfWeek</th>\n",
       "      <th>DepTime</th>\n",
       "      <th>UniqueCarrier</th>\n",
       "      <th>Origin</th>\n",
       "      <th>Dest</th>\n",
       "      <th>Distance</th>\n",
       "      <th>Journey</th>\n",
       "    </tr>\n",
       "  </thead>\n",
       "  <tbody>\n",
       "    <tr>\n",
       "      <th>5340</th>\n",
       "      <td>2007</td>\n",
       "      <td>12</td>\n",
       "      <td>3</td>\n",
       "      <td>1</td>\n",
       "      <td>1045.0</td>\n",
       "      <td>9E</td>\n",
       "      <td>PIR</td>\n",
       "      <td>JAX</td>\n",
       "      <td>1395</td>\n",
       "      <td>PIRJAX</td>\n",
       "    </tr>\n",
       "    <tr>\n",
       "      <th>5341</th>\n",
       "      <td>2007</td>\n",
       "      <td>12</td>\n",
       "      <td>9</td>\n",
       "      <td>7</td>\n",
       "      <td>1519.0</td>\n",
       "      <td>AS</td>\n",
       "      <td>ANC</td>\n",
       "      <td>HNL</td>\n",
       "      <td>2777</td>\n",
       "      <td>ANCHNL</td>\n",
       "    </tr>\n",
       "  </tbody>\n",
       "</table>\n",
       "</div>"
      ],
      "text/plain": [
       "      Year  Month  DayofMonth  DayOfWeek  DepTime UniqueCarrier Origin Dest  \\\n",
       "5340  2007     12           3          1   1045.0            9E    PIR  JAX   \n",
       "5341  2007     12           9          7   1519.0            AS    ANC  HNL   \n",
       "\n",
       "      Distance Journey  \n",
       "5340      1395  PIRJAX  \n",
       "5341      2777  ANCHNL  "
      ]
     },
     "execution_count": 4,
     "metadata": {},
     "output_type": "execute_result"
    }
   ],
   "source": [
    "# Choose columns for later\n",
    "scrape_data = Flights[[\"Year\",\"Month\",\"DayofMonth\",\"DayOfWeek\",\"DepTime\",\"UniqueCarrier\",\"Origin\",\"Dest\",\"Distance\"]]\n",
    "\n",
    "# Prepare data for scraping\n",
    "scrape_data[\"Journey\"] = scrape_data[\"Origin\"]+Flights[\"Dest\"]\n",
    "scrape_data = scrape_data.drop_duplicates(subset = \"Journey\", keep = \"first\").reset_index(drop=True)\n",
    "\n",
    "# Pickle it for price scraping\n",
    "scrape_data.to_pickle(\"scrape_data.pkl\")\n",
    "\n",
    "scrape_data.tail(2)"
   ]
  },
  {
   "cell_type": "markdown",
   "metadata": {},
   "source": [
    "### Flights, 2018\n",
    "\n",
    "The newest data from BTS must be downloaded manually from https://www.transtats.bts.gov/DL_SelectFields.asp?Table_ID=236\n",
    "\n",
    "First tick the following \"Field Names\":\n",
    "\n",
    "* \"Year\"\n",
    "* \"Month\"\n",
    "* \"DayofMonth\"\n",
    "* \"DayOfWeek\"\n",
    "* \"Reporting_Airline\" (UniqueCarrier)\n",
    "* \"Origin\"\n",
    "* \"Dest\"\n",
    "* \"DepTime\"\n",
    "* \"Distance\"\n",
    "\n",
    "For each month of 2018:\n",
    "\n",
    "1. Press download\n",
    "2. Locate (or create) the folder \"Data\" within the cd of this .ipynb-file\n",
    "3. Name the download after the number of the month, i.e. from 1-12\n",
    "4. Save it in the folder"
   ]
  },
  {
   "cell_type": "code",
   "execution_count": 7,
   "metadata": {},
   "outputs": [
    {
     "data": {
      "text/html": [
       "<div>\n",
       "<style scoped>\n",
       "    .dataframe tbody tr th:only-of-type {\n",
       "        vertical-align: middle;\n",
       "    }\n",
       "\n",
       "    .dataframe tbody tr th {\n",
       "        vertical-align: top;\n",
       "    }\n",
       "\n",
       "    .dataframe thead th {\n",
       "        text-align: right;\n",
       "    }\n",
       "</style>\n",
       "<table border=\"1\" class=\"dataframe\">\n",
       "  <thead>\n",
       "    <tr style=\"text-align: right;\">\n",
       "      <th></th>\n",
       "      <th>Year</th>\n",
       "      <th>Month</th>\n",
       "      <th>DayofMonth</th>\n",
       "      <th>DayOfWeek</th>\n",
       "      <th>DepTime</th>\n",
       "      <th>UniqueCarrier</th>\n",
       "      <th>Origin</th>\n",
       "      <th>Dest</th>\n",
       "      <th>Distance</th>\n",
       "    </tr>\n",
       "  </thead>\n",
       "  <tbody>\n",
       "    <tr>\n",
       "      <th>7175428</th>\n",
       "      <td>2018</td>\n",
       "      <td>11</td>\n",
       "      <td>23</td>\n",
       "      <td>5</td>\n",
       "      <td>2226.0</td>\n",
       "      <td>YX</td>\n",
       "      <td>CLT</td>\n",
       "      <td>DCA</td>\n",
       "      <td>331.0</td>\n",
       "    </tr>\n",
       "    <tr>\n",
       "      <th>7175429</th>\n",
       "      <td>2018</td>\n",
       "      <td>11</td>\n",
       "      <td>25</td>\n",
       "      <td>7</td>\n",
       "      <td>2216.0</td>\n",
       "      <td>YX</td>\n",
       "      <td>CLT</td>\n",
       "      <td>DCA</td>\n",
       "      <td>331.0</td>\n",
       "    </tr>\n",
       "  </tbody>\n",
       "</table>\n",
       "</div>"
      ],
      "text/plain": [
       "         Year  Month  DayofMonth  DayOfWeek  DepTime UniqueCarrier Origin  \\\n",
       "7175428  2018     11          23          5   2226.0            YX    CLT   \n",
       "7175429  2018     11          25          7   2216.0            YX    CLT   \n",
       "\n",
       "        Dest  Distance  \n",
       "7175428  DCA     331.0  \n",
       "7175429  DCA     331.0  "
      ]
     },
     "execution_count": 7,
     "metadata": {},
     "output_type": "execute_result"
    }
   ],
   "source": [
    "data = []\n",
    "for m in range(1,13):\n",
    "    df = pd.read_csv(\"Data/\"+str(m)+\".zip\")\n",
    "    data.append(df)\n",
    "Flights18 = pd.concat(data, axis=0).drop('Unnamed: 9', axis=1).reset_index(drop=True)\n",
    "Flights18.columns = [\"Year\",\"Month\",\"DayofMonth\",\"DayOfWeek\",\"UniqueCarrier\",\"Origin\",\"Dest\",\"DepTime\",\"Distance\"]\n",
    "Flights18 = Flights18[[\"Year\",\"Month\",\"DayofMonth\",\"DayOfWeek\",\"DepTime\",\"UniqueCarrier\",\"Origin\",\"Dest\",\"Distance\"]]\n",
    "\n",
    "Flights18.tail(2)"
   ]
  },
  {
   "cell_type": "markdown",
   "metadata": {},
   "source": [
    "### Airports\n",
    "\n",
    "Data comes from https://openflights.org/data.html"
   ]
  },
  {
   "cell_type": "code",
   "execution_count": 8,
   "metadata": {
    "scrolled": true
   },
   "outputs": [
    {
     "name": "stdout",
     "output_type": "stream",
     "text": [
      "Rows, all: 7698\n",
      "Rows, US:  1512\n",
      "- of which missing 3DigitId: 261\n",
      "- of which containing 3DigitId: 1252\n"
     ]
    },
    {
     "data": {
      "text/html": [
       "<div>\n",
       "<style scoped>\n",
       "    .dataframe tbody tr th:only-of-type {\n",
       "        vertical-align: middle;\n",
       "    }\n",
       "\n",
       "    .dataframe tbody tr th {\n",
       "        vertical-align: top;\n",
       "    }\n",
       "\n",
       "    .dataframe thead th {\n",
       "        text-align: right;\n",
       "    }\n",
       "</style>\n",
       "<table border=\"1\" class=\"dataframe\">\n",
       "  <thead>\n",
       "    <tr style=\"text-align: right;\">\n",
       "      <th></th>\n",
       "      <th>Airport_id</th>\n",
       "      <th>Name</th>\n",
       "      <th>City</th>\n",
       "      <th>Country</th>\n",
       "      <th>3DigitId</th>\n",
       "      <th>Lat</th>\n",
       "      <th>Lon</th>\n",
       "      <th>Altitude_ft</th>\n",
       "    </tr>\n",
       "  </thead>\n",
       "  <tbody>\n",
       "    <tr>\n",
       "      <th>1510</th>\n",
       "      <td>13759</td>\n",
       "      <td>Oswego County Airport</td>\n",
       "      <td>Fulton</td>\n",
       "      <td>United States</td>\n",
       "      <td>\\N</td>\n",
       "      <td>43.350800</td>\n",
       "      <td>-76.388100</td>\n",
       "      <td>475</td>\n",
       "    </tr>\n",
       "    <tr>\n",
       "      <th>1511</th>\n",
       "      <td>13803</td>\n",
       "      <td>Mitchell Municipal Airport</td>\n",
       "      <td>Mitchell</td>\n",
       "      <td>United States</td>\n",
       "      <td>MHE</td>\n",
       "      <td>43.774799</td>\n",
       "      <td>-98.038597</td>\n",
       "      <td>1304</td>\n",
       "    </tr>\n",
       "  </tbody>\n",
       "</table>\n",
       "</div>"
      ],
      "text/plain": [
       "      Airport_id                        Name      City        Country  \\\n",
       "1510       13759       Oswego County Airport    Fulton  United States   \n",
       "1511       13803  Mitchell Municipal Airport  Mitchell  United States   \n",
       "\n",
       "     3DigitId        Lat        Lon  Altitude_ft  \n",
       "1510       \\N  43.350800 -76.388100          475  \n",
       "1511      MHE  43.774799 -98.038597         1304  "
      ]
     },
     "execution_count": 8,
     "metadata": {},
     "output_type": "execute_result"
    }
   ],
   "source": [
    "# Load data\n",
    "airports_raw = pd.read_csv('https://raw.githubusercontent.com/jpatokal/openflights/master/data/airports.dat', header = None) #load data\n",
    "\n",
    "# Assign column names\n",
    "airports_raw.columns = [\"Airport_id\",\"Name\",\"City\",\"Country\",\"3DigitId\",\"4DigitId\",\"Lat\",\"Lon\",\"Altitude_ft\",\"Timezone\",\"DST\",\"TZ\",\"Type\",\"Source\"] \n",
    "\n",
    "# Pick relevant columns for analysis\n",
    "airports_df = airports_raw[[\"Airport_id\",\"Name\",\"City\",\"Country\",\"3DigitId\",\"Lat\",\"Lon\",\"Altitude_ft\"]]\n",
    "\n",
    "# Limit to US Airports\n",
    "airports_US = airports_df[airports_df['Country']=='United States'].reset_index(drop=True)\n",
    "\n",
    "# Pickle the dataframe for future use\n",
    "airports_US.to_pickle(\"Airports.pkl\")\n",
    "\n",
    "print('Rows, all:', len(airports_df.index))\n",
    "print('Rows, US: ', len(airports_US.index))\n",
    "print('- of which missing 3DigitId:', airports_US['3DigitId'].value_counts(dropna=False).nlargest(1)[0])\n",
    "print('- of which containing 3DigitId:', airports_US['3DigitId'].nunique())\n",
    "airports_US.tail(2)"
   ]
  },
  {
   "cell_type": "code",
   "execution_count": 9,
   "metadata": {},
   "outputs": [],
   "source": [
    "# Data on US airports from stat-computing.org\n",
    "# filename = 'airports.csv'\n",
    "# url = 'http://stat-computing.org/dataexpo/2009/'+str(filename)\n",
    "# req.urlretrieve(url,filename)\n",
    "# Airports = pd.read_csv(filename)\n",
    "\n",
    "# print('Shape:', Airports.shape)\n",
    "# Airports.head(2)"
   ]
  },
  {
   "cell_type": "markdown",
   "metadata": {},
   "source": [
    "# Data cleaning for flights data, 2007"
   ]
  },
  {
   "cell_type": "markdown",
   "metadata": {},
   "source": [
    "### Count number of flights between airports"
   ]
  },
  {
   "cell_type": "code",
   "execution_count": 10,
   "metadata": {},
   "outputs": [
    {
     "name": "stdout",
     "output_type": "stream",
     "text": [
      "Rows: 5342\n"
     ]
    },
    {
     "data": {
      "text/html": [
       "<div>\n",
       "<style scoped>\n",
       "    .dataframe tbody tr th:only-of-type {\n",
       "        vertical-align: middle;\n",
       "    }\n",
       "\n",
       "    .dataframe tbody tr th {\n",
       "        vertical-align: top;\n",
       "    }\n",
       "\n",
       "    .dataframe thead th {\n",
       "        text-align: right;\n",
       "    }\n",
       "</style>\n",
       "<table border=\"1\" class=\"dataframe\">\n",
       "  <thead>\n",
       "    <tr style=\"text-align: right;\">\n",
       "      <th></th>\n",
       "      <th>Origin</th>\n",
       "      <th>Dest</th>\n",
       "      <th>Distance</th>\n",
       "      <th>count</th>\n",
       "      <th>Origin_flights</th>\n",
       "      <th>Destination_flights</th>\n",
       "    </tr>\n",
       "  </thead>\n",
       "  <tbody>\n",
       "    <tr>\n",
       "      <th>0</th>\n",
       "      <td>SMF</td>\n",
       "      <td>ONT</td>\n",
       "      <td>389</td>\n",
       "      <td>4093</td>\n",
       "      <td>116158</td>\n",
       "      <td>83287.0</td>\n",
       "    </tr>\n",
       "    <tr>\n",
       "      <th>1</th>\n",
       "      <td>SMF</td>\n",
       "      <td>PDX</td>\n",
       "      <td>479</td>\n",
       "      <td>2721</td>\n",
       "      <td>116158</td>\n",
       "      <td>117237.0</td>\n",
       "    </tr>\n",
       "  </tbody>\n",
       "</table>\n",
       "</div>"
      ],
      "text/plain": [
       "  Origin Dest  Distance  count  Origin_flights  Destination_flights\n",
       "0    SMF  ONT       389   4093          116158              83287.0\n",
       "1    SMF  PDX       479   2721          116158             117237.0"
      ]
     },
     "execution_count": 10,
     "metadata": {},
     "output_type": "execute_result"
    }
   ],
   "source": [
    "# Select variables from which to create network. Must contain two columns of nodes, since \n",
    "# nx.from_pandas_edgelist() views each row as an edge. Can also contains attributes, e.g. Distance. \n",
    "FlightsNx = Flights[[\"Origin\",\"Dest\",\"Distance\"]]\n",
    "\n",
    "# Take counts (i.e. how many origin to destination flights in the dataset)\n",
    "counts = pd.DataFrame(Flights.groupby([\"Origin\",\"Dest\"])[\"Year\"].count())\n",
    "counts.columns = [\"count\"]\n",
    "FlightsNx = FlightsNx.merge(counts, how = 'left', on = [\"Origin\",\"Dest\"])\n",
    "\n",
    "# Drop duplicates \n",
    "FlightsNx = FlightsNx.drop_duplicates()\n",
    "\n",
    "# Count number of take-offs from origin: \n",
    "orig_takeoff = pd.DataFrame(FlightsNx.groupby([\"Origin\"])[\"count\"].sum())\n",
    "orig_takeoff.columns = [\"origin_takeoff\"]\n",
    "# Merge to network dataset: \n",
    "FlightsNx = FlightsNx.merge(orig_takeoff, how = \"left\", on = \"Origin\")\n",
    "\n",
    "# Count number of take-offs from dest\n",
    "dest_takeoff = pd.DataFrame(FlightsNx.groupby([\"Origin\"])[\"count\"].sum())\n",
    "dest_takeoff.columns = [\"dest_takeoff\"]\n",
    "FlightsNx = FlightsNx.merge(dest_takeoff, how = \"left\", left_on = \"Dest\", right_on = \"Origin\")\n",
    "\n",
    "# Count number of landings at destination\n",
    "dest_lands = pd.DataFrame(FlightsNx.groupby([\"Dest\"])[\"count\"].sum())\n",
    "dest_lands.columns = [\"dest_landing\"]\n",
    "FlightsNx = FlightsNx.merge(dest_lands, how = \"left\", on = \"Dest\")\n",
    "\n",
    "orig_lands = pd.DataFrame(FlightsNx.groupby([\"Dest\"])[\"count\"].sum())\n",
    "orig_lands.columns = [\"orig_landing\"]\n",
    "FlightsNx = FlightsNx.merge(orig_lands, how = \"left\", left_on = \"Origin\", right_on = \"Dest\")\n",
    "\n",
    "# Construct totals (flights)\n",
    "FlightsNx[\"Origin_flights\"] = FlightsNx[\"origin_takeoff\"]+FlightsNx[\"orig_landing\"]\n",
    "FlightsNx[\"Destination_flights\"] = FlightsNx[\"dest_takeoff\"]+FlightsNx[\"dest_landing\"]\n",
    "\n",
    "# Drop auxiliary vars\n",
    "FlightsNx.drop([\"origin_takeoff\",\"dest_takeoff\",\"dest_landing\",\"orig_landing\"], axis = 1, inplace = True)\n",
    "\n",
    "print('Rows:', len(FlightsNx.index))\n",
    "FlightsNx.head(2)"
   ]
  },
  {
   "cell_type": "markdown",
   "metadata": {},
   "source": [
    "### Implement as network\n",
    "For function documentation, see:  \n",
    "https://networkx.github.io/documentation/stable/reference/generated/networkx.convert_matrix.from_pandas_edgelist.html?highlight=from_pandas_edgelist#networkx.convert_matrix.from_pandas_edgelist"
   ]
  },
  {
   "cell_type": "code",
   "execution_count": 11,
   "metadata": {},
   "outputs": [],
   "source": [
    "Network = nx.from_pandas_edgelist(FlightsNx, source = \"Origin\", target = \"Dest\", edge_attr = True)"
   ]
  },
  {
   "cell_type": "markdown",
   "metadata": {},
   "source": [
    "### Degree distribution"
   ]
  },
  {
   "cell_type": "code",
   "execution_count": 12,
   "metadata": {},
   "outputs": [],
   "source": [
    "# docs: https://networkx.github.io/documentation/stable/reference/algorithms/generated/networkx.algorithms.centrality.degree_centrality.html#networkx.algorithms.centrality.degree_centrality \n",
    "# Find degree: \n",
    "degree_dict = nx.algorithms.centrality.degree_centrality(Network) \n",
    "degree_values = list(degree_dict.values())\n",
    "# Create dataframe\n",
    "degrees = pd.DataFrame(degree_values)\n",
    "degrees.columns = [\"degree\"]\n",
    "degrees[\"degree_unnormalized\"] = degrees[\"degree\"]*(len(Network.nodes)-1)\n",
    "degrees[\"airport\"] = degree_dict.keys()\n",
    "\n",
    "# Pickle for descriptive\n",
    "degrees.to_pickle(\"Degrees.pkl\")"
   ]
  },
  {
   "cell_type": "code",
   "execution_count": 13,
   "metadata": {
    "scrolled": true
   },
   "outputs": [
    {
     "data": {
      "text/html": [
       "<div>\n",
       "<style scoped>\n",
       "    .dataframe tbody tr th:only-of-type {\n",
       "        vertical-align: middle;\n",
       "    }\n",
       "\n",
       "    .dataframe tbody tr th {\n",
       "        vertical-align: top;\n",
       "    }\n",
       "\n",
       "    .dataframe thead th {\n",
       "        text-align: right;\n",
       "    }\n",
       "</style>\n",
       "<table border=\"1\" class=\"dataframe\">\n",
       "  <thead>\n",
       "    <tr style=\"text-align: right;\">\n",
       "      <th></th>\n",
       "      <th>Origin</th>\n",
       "      <th>Dest</th>\n",
       "      <th>Distance</th>\n",
       "      <th>count</th>\n",
       "      <th>Origin_flights</th>\n",
       "      <th>Destination_flights</th>\n",
       "      <th>origin_degree</th>\n",
       "      <th>origin_degree_unn</th>\n",
       "      <th>dest_degree</th>\n",
       "      <th>dest_degree_unn</th>\n",
       "    </tr>\n",
       "  </thead>\n",
       "  <tbody>\n",
       "    <tr>\n",
       "      <th>5340</th>\n",
       "      <td>PIR</td>\n",
       "      <td>JAX</td>\n",
       "      <td>1395</td>\n",
       "      <td>2</td>\n",
       "      <td>8</td>\n",
       "      <td>71860.0</td>\n",
       "      <td>0.006472</td>\n",
       "      <td>2.0</td>\n",
       "      <td>0.126214</td>\n",
       "      <td>39.0</td>\n",
       "    </tr>\n",
       "    <tr>\n",
       "      <th>5341</th>\n",
       "      <td>ANC</td>\n",
       "      <td>HNL</td>\n",
       "      <td>2777</td>\n",
       "      <td>23</td>\n",
       "      <td>39504</td>\n",
       "      <td>135193.0</td>\n",
       "      <td>0.097087</td>\n",
       "      <td>30.0</td>\n",
       "      <td>0.080906</td>\n",
       "      <td>25.0</td>\n",
       "    </tr>\n",
       "  </tbody>\n",
       "</table>\n",
       "</div>"
      ],
      "text/plain": [
       "     Origin Dest  Distance  count  Origin_flights  Destination_flights  \\\n",
       "5340    PIR  JAX      1395      2               8              71860.0   \n",
       "5341    ANC  HNL      2777     23           39504             135193.0   \n",
       "\n",
       "      origin_degree  origin_degree_unn  dest_degree  dest_degree_unn  \n",
       "5340       0.006472                2.0     0.126214             39.0  \n",
       "5341       0.097087               30.0     0.080906             25.0  "
      ]
     },
     "execution_count": 13,
     "metadata": {},
     "output_type": "execute_result"
    }
   ],
   "source": [
    "# Add degree to FlightsNx data\n",
    "FlightsNx = FlightsNx.merge(degrees, how = \"left\", left_on = \"Origin\", right_on = \"airport\")\n",
    "FlightsNx = FlightsNx.drop(\"airport\", axis = 1)\n",
    "FlightsNx = FlightsNx.rename(columns = {\"degree\": \"origin_degree\", \"degree_unnormalized\": \"origin_degree_unn\"})\n",
    "\n",
    "FlightsNx = FlightsNx.merge(degrees, how = \"left\", left_on = \"Dest\", right_on = \"airport\")\n",
    "FlightsNx = FlightsNx.drop(\"airport\", axis = 1).reset_index(drop=True)\n",
    "FlightsNx = FlightsNx.rename(columns = {\"degree\": \"dest_degree\", \"degree_unnormalized\": \"dest_degree_unn\"})\n",
    "\n",
    "FlightsNx.tail(2)"
   ]
  },
  {
   "cell_type": "code",
   "execution_count": 14,
   "metadata": {},
   "outputs": [],
   "source": [
    "# Save cleaned to pickle\n",
    "FlightsNx.to_pickle(\"FlightsNx.pkl\") # only 0.4 MB"
   ]
  },
  {
   "cell_type": "markdown",
   "metadata": {},
   "source": [
    "# Data cleaning for flights data, 2018 (same code)"
   ]
  },
  {
   "cell_type": "code",
   "execution_count": 15,
   "metadata": {},
   "outputs": [
    {
     "data": {
      "text/html": [
       "<div>\n",
       "<style scoped>\n",
       "    .dataframe tbody tr th:only-of-type {\n",
       "        vertical-align: middle;\n",
       "    }\n",
       "\n",
       "    .dataframe tbody tr th {\n",
       "        vertical-align: top;\n",
       "    }\n",
       "\n",
       "    .dataframe thead th {\n",
       "        text-align: right;\n",
       "    }\n",
       "</style>\n",
       "<table border=\"1\" class=\"dataframe\">\n",
       "  <thead>\n",
       "    <tr style=\"text-align: right;\">\n",
       "      <th></th>\n",
       "      <th>Origin</th>\n",
       "      <th>Dest</th>\n",
       "      <th>Distance</th>\n",
       "      <th>count</th>\n",
       "      <th>Origin_flights</th>\n",
       "      <th>Destination_flights</th>\n",
       "      <th>origin_degree</th>\n",
       "      <th>origin_degree_unn</th>\n",
       "      <th>dest_degree</th>\n",
       "      <th>dest_degree_unn</th>\n",
       "    </tr>\n",
       "  </thead>\n",
       "  <tbody>\n",
       "    <tr>\n",
       "      <th>6336</th>\n",
       "      <td>PHL</td>\n",
       "      <td>ABE</td>\n",
       "      <td>55.0</td>\n",
       "      <td>NaN</td>\n",
       "      <td>207165.0</td>\n",
       "      <td>10582.0</td>\n",
       "      <td>0.233146</td>\n",
       "      <td>83.0</td>\n",
       "      <td>0.030899</td>\n",
       "      <td>11.0</td>\n",
       "    </tr>\n",
       "    <tr>\n",
       "      <th>6337</th>\n",
       "      <td>HSV</td>\n",
       "      <td>IAD</td>\n",
       "      <td>596.0</td>\n",
       "      <td>534.0</td>\n",
       "      <td>15803.0</td>\n",
       "      <td>163852.0</td>\n",
       "      <td>0.030899</td>\n",
       "      <td>11.0</td>\n",
       "      <td>0.202247</td>\n",
       "      <td>72.0</td>\n",
       "    </tr>\n",
       "  </tbody>\n",
       "</table>\n",
       "</div>"
      ],
      "text/plain": [
       "     Origin Dest  Distance  count  Origin_flights  Destination_flights  \\\n",
       "6336    PHL  ABE      55.0    NaN        207165.0              10582.0   \n",
       "6337    HSV  IAD     596.0  534.0         15803.0             163852.0   \n",
       "\n",
       "      origin_degree  origin_degree_unn  dest_degree  dest_degree_unn  \n",
       "6336       0.233146               83.0     0.030899             11.0  \n",
       "6337       0.030899               11.0     0.202247             72.0  "
      ]
     },
     "execution_count": 15,
     "metadata": {},
     "output_type": "execute_result"
    }
   ],
   "source": [
    "### Count number of flights between airports\n",
    "\n",
    "# Select variables from which to create network. Must contain two columns of nodes, since \n",
    "# nx.from_pandas_edgelist() views each row as an edge. Can also contains attributes, e.g. Distance. \n",
    "FlightsNx = Flights18[[\"Origin\",\"Dest\",\"Distance\"]]\n",
    "\n",
    "# Take counts (i.e. how many origin to destination flights in the dataset)\n",
    "counts = pd.DataFrame(Flights.groupby([\"Origin\",\"Dest\"])[\"Year\"].count())\n",
    "counts.columns = [\"count\"]\n",
    "FlightsNx = FlightsNx.merge(counts, how = 'left', on = [\"Origin\",\"Dest\"])\n",
    "\n",
    "# Drop duplicates \n",
    "FlightsNx = FlightsNx.drop_duplicates()\n",
    "\n",
    "# Count number of take-offs from origin: \n",
    "orig_takeoff = pd.DataFrame(FlightsNx.groupby([\"Origin\"])[\"count\"].sum())\n",
    "orig_takeoff.columns = [\"origin_takeoff\"]\n",
    "# Merge to network dataset: \n",
    "FlightsNx = FlightsNx.merge(orig_takeoff, how = \"left\", on = \"Origin\")\n",
    "\n",
    "# Count number of take-offs from dest\n",
    "dest_takeoff = pd.DataFrame(FlightsNx.groupby([\"Origin\"])[\"count\"].sum())\n",
    "dest_takeoff.columns = [\"dest_takeoff\"]\n",
    "FlightsNx = FlightsNx.merge(dest_takeoff, how = \"left\", left_on = \"Dest\", right_on = \"Origin\")\n",
    "\n",
    "# Count number of landings at destination\n",
    "dest_lands = pd.DataFrame(FlightsNx.groupby([\"Dest\"])[\"count\"].sum())\n",
    "dest_lands.columns = [\"dest_landing\"]\n",
    "FlightsNx = FlightsNx.merge(dest_lands, how = \"left\", on = \"Dest\")\n",
    "\n",
    "orig_lands = pd.DataFrame(FlightsNx.groupby([\"Dest\"])[\"count\"].sum())\n",
    "orig_lands.columns = [\"orig_landing\"]\n",
    "FlightsNx = FlightsNx.merge(orig_lands, how = \"left\", left_on = \"Origin\", right_on = \"Dest\")\n",
    "\n",
    "# Construct totals (flights)\n",
    "FlightsNx[\"Origin_flights\"] = FlightsNx[\"origin_takeoff\"]+FlightsNx[\"orig_landing\"]\n",
    "FlightsNx[\"Destination_flights\"] = FlightsNx[\"dest_takeoff\"]+FlightsNx[\"dest_landing\"]\n",
    "\n",
    "# Drop auxiliary vars\n",
    "FlightsNx.drop([\"origin_takeoff\",\"dest_takeoff\",\"dest_landing\",\"orig_landing\"], axis = 1, inplace = True)\n",
    "\n",
    "\n",
    "### Implement as network\n",
    "\n",
    "Network = nx.from_pandas_edgelist(FlightsNx, source = \"Origin\", target = \"Dest\", edge_attr = True)\n",
    "\n",
    "\n",
    "### Degree distribution\n",
    "\n",
    "# docs: https://networkx.github.io/documentation/stable/reference/algorithms/generated/networkx.algorithms.centrality.degree_centrality.html#networkx.algorithms.centrality.degree_centrality \n",
    "# Find degree: \n",
    "degree_dict = nx.algorithms.centrality.degree_centrality(Network) \n",
    "degree_values = list(degree_dict.values())\n",
    "# Create dataframe\n",
    "degrees = pd.DataFrame(degree_values)\n",
    "degrees.columns = [\"degree\"]\n",
    "degrees[\"degree_unnormalized\"] = degrees[\"degree\"]*(len(Network.nodes)-1)\n",
    "degrees[\"airport\"] = degree_dict.keys()\n",
    "\n",
    "# Pickle for descriptive\n",
    "degrees.to_pickle(\"Degrees18.pkl\")\n",
    "\n",
    "\n",
    "# Add degree to FlightsNx data\n",
    "FlightsNx = FlightsNx.merge(degrees, how = \"left\", left_on = \"Origin\", right_on = \"airport\")\n",
    "FlightsNx = FlightsNx.drop(\"airport\", axis = 1)\n",
    "FlightsNx = FlightsNx.rename(columns = {\"degree\": \"origin_degree\", \"degree_unnormalized\": \"origin_degree_unn\"})\n",
    "\n",
    "FlightsNx = FlightsNx.merge(degrees, how = \"left\", left_on = \"Dest\", right_on = \"airport\")\n",
    "FlightsNx = FlightsNx.drop(\"airport\", axis = 1).reset_index(drop=True)\n",
    "FlightsNx = FlightsNx.rename(columns = {\"degree\": \"dest_degree\", \"degree_unnormalized\": \"dest_degree_unn\"})\n",
    "\n",
    "\n",
    "# Save cleaned to pickle\n",
    "FlightsNx.to_pickle(\"FlightsNx18.pkl\")\n",
    "\n",
    "FlightsNx.tail(2)"
   ]
  }
 ],
 "metadata": {
  "kernelspec": {
   "display_name": "Python 3",
   "language": "python",
   "name": "python3"
  },
  "language_info": {
   "codemirror_mode": {
    "name": "ipython",
    "version": 3
   },
   "file_extension": ".py",
   "mimetype": "text/x-python",
   "name": "python",
   "nbconvert_exporter": "python",
   "pygments_lexer": "ipython3",
   "version": "3.6.8"
  }
 },
 "nbformat": 4,
 "nbformat_minor": 2
}
