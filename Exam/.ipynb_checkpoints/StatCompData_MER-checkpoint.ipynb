{
 "cells": [
  {
   "cell_type": "code",
   "execution_count": 5,
   "metadata": {},
   "outputs": [],
   "source": [
    "import numpy as np\n",
    "import pandas as pd\n",
    "import matplotlib.pyplot as plt\n",
    "from shapely.geometry import Point\n",
    "import geopandas as gpd\n",
    "import copy\n",
    "import networkx as nx"
   ]
  },
  {
   "cell_type": "code",
   "execution_count": 14,
   "metadata": {},
   "outputs": [],
   "source": [
    "Network = nx.from_pandas_edgelist(FlightsNx, source = \"Origin\", target = \"Dest\", edge_attr = True)"
   ]
  },
  {
   "cell_type": "code",
   "execution_count": 16,
   "metadata": {},
   "outputs": [
    {
     "data": {
      "text/plain": [
       "EdgeView([('SMF', 'ONT'), ('SMF', 'PDX'), ('SMF', 'PHX'), ('SMF', 'SAN'), ('SMF', 'SEA'), ('SMF', 'SNA'), ('SMF', 'BUR'), ('SMF', 'LAS'), ('SMF', 'LAX'), ('SMF', 'MCI'), ('SMF', 'MDW'), ('SMF', 'SLC'), ('SMF', 'ACV'), ('SMF', 'SFO'), ('SMF', 'CEC'), ('SMF', 'IDA'), ('SMF', 'ORD'), ('SMF', 'IAD'), ('SMF', 'DEN'), ('SMF', 'ATL'), ('SMF', 'HNL'), ('SMF', 'MSP'), ('SMF', 'DFW'), ('SMF', 'OGG'), ('SMF', 'JFK'), ('SMF', 'LGB'), ('SMF', 'IAH'), ('SMF', 'CIC'), ('SMF', 'FAT'), ('SMF', 'MFR'), ('SMF', 'GEG'), ('SMF', 'SAT'), ('SMF', 'TUS'), ('SMF', 'COS'), ('SMF', 'OKC'), ('SMF', 'ABQ'), ('SMF', 'TUL'), ('SMF', 'RNO'), ('SMF', 'AUS'), ('SMF', 'BFL'), ('SMF', 'SBA'), ('SMF', 'RDM'), ('SMF', 'RDD'), ('SMF', 'CVG'), ('ONT', 'BNA'), ('ONT', 'LAS'), ('ONT', 'OAK'), ('ONT', 'PHX'), ('ONT', 'SJC'), ('ONT', 'IAH'), ('ONT', 'SLC'), ('ONT', 'LAX'), ('ONT', 'SFO'), ('ONT', 'GJT'), ('ONT', 'TWF'), ('ONT', 'DEN'), ('ONT', 'ATL'), ('ONT', 'DFW'), ('ONT', 'SEA'), ('ONT', 'JFK'), ('ONT', 'IAD'), ('ONT', 'ORD'), ('ONT', 'AUS'), ('ONT', 'MCI'), ('ONT', 'BOI'), ('ONT', 'GEG'), ('ONT', 'TUS'), ('ONT', 'SAT'), ('ONT', 'OMA'), ('ONT', 'ABQ'), ('ONT', 'TUL'), ('ONT', 'OKC'), ('ONT', 'COS'), ('ONT', 'FAT'), ('ONT', 'MRY'), ('ONT', 'ELP'), ('ONT', 'SAN'), ('ONT', 'STL'), ('ONT', 'PDX'), ('ONT', 'SBA'), ('ONT', 'RNO'), ('ONT', 'OXR'), ('ONT', 'PSP'), ('PDX', 'ABQ'), ('PDX', 'BOI'), ('PDX', 'GEG'), ('PDX', 'LAS'), ('PDX', 'MCI'), ('PDX', 'MDW'), ('PDX', 'OAK'), ('PDX', 'PHX'), ('PDX', 'RNO'), ('PDX', 'SJC'), ('PDX', 'SLC'), ('PDX', 'EUG'), ('PDX', 'MFR'), ('PDX', 'RDM'), ('PDX', 'SEA'), ('PDX', 'SFO'), ('PDX', 'LAX'), ('PDX', 'ORD'), ('PDX', 'DEN'), ('PDX', 'IAD'), ('PDX', 'PHL'), ('PDX', 'CVG'), ('PDX', 'ATL'), ('PDX', 'HNL'), ('PDX', 'OGG'), ('PDX', 'MSP'), ('PDX', 'DTW'), ('PDX', 'DFW'), ('PDX', 'SNA'), ('PDX', 'ANC'), ('PDX', 'SAN'), ('PDX', 'PSP'), ('PDX', 'JFK'), ('PDX', 'IAH'), ('PDX', 'EWR'), ('PDX', 'CLT'), ('PDX', 'PIH'), ('PDX', 'MCO'), ('PDX', 'BOS'), ('PDX', 'PSC'), ('PDX', 'BUR'), ('PHX', 'SNA'), ('PHX', 'STL'), ('PHX', 'TPA'), ('PHX', 'TUL'), ('PHX', 'ABQ'), ('PHX', 'AUS'), ('PHX', 'BHM'), ('PHX', 'BNA'), ('PHX', 'BOI'), ('PHX', 'BUF'), ('PHX', 'BUR'), ('PHX', 'BWI'), ('PHX', 'CLE'), ('PHX', 'CMH'), ('PHX', 'DEN'), ('PHX', 'DTW'), ('PHX', 'ELP'), ('PHX', 'HOU'), ('PHX', 'IND'), ('PHX', 'LAS'), ('PHX', 'LAX'), ('PHX', 'LIT'), ('PHX', 'MCI'), ('PHX', 'MCO'), ('PHX', 'MDW'), ('PHX', 'MSY'), ('PHX', 'OAK'), ('PHX', 'OKC'), ('PHX', 'OMA'), ('PHX', 'PHL'), ('PHX', 'PIT'), ('PHX', 'PVD'), ('PHX', 'RDU'), ('PHX', 'RNO'), ('PHX', 'SAN'), ('PHX', 'SAT'), ('PHX', 'SDF'), ('PHX', 'SEA'), ('PHX', 'SJC'), ('PHX', 'SLC'), ('PHX', 'IAH'), ('PHX', 'ASE'), ('PHX', 'BFL'), ('PHX', 'CLD'), ('PHX', 'COS'), ('PHX', 'DFW'), ('PHX', 'DRO'), ('PHX', 'DSM'), ('PHX', 'EUG'), ('PHX', 'FAT'), ('PHX', 'FLG'), ('PHX', 'GJT'), ('PHX', 'ICT'), ('PHX', 'LGB'), ('PHX', 'MEM'), ('PHX', 'MFR'), ('PHX', 'MRY'), ('PHX', 'PSP'), ('PHX', 'SBA'), ('PHX', 'SBP'), ('PHX', 'TEX'), ('PHX', 'TUS'), ('PHX', 'YUM'), ('PHX', 'GEG'), ('PHX', 'SFO'), ('PHX', 'IAD'), ('PHX', 'ORD'), ('PHX', 'ANC'), ('PHX', 'ATL'), ('PHX', 'BDL'), ('PHX', 'BOS'), ('PHX', 'DCA'), ('PHX', 'EWR'), ('PHX', 'FLL'), ('PHX', 'HNL'), ('PHX', 'JFK'), ('PHX', 'KOA'), ('PHX', 'LIH'), ('PHX', 'MKE'), ('PHX', 'MSP'), ('PHX', 'OGG'), ('PHX', 'CLT'), ('PHX', 'MIA'), ('PHX', 'CVG'), ('PHX', 'MHT'), ('SAN', 'TUS'), ('SAN', 'ABQ'), ('SAN', 'AUS'), ('SAN', 'BNA'), ('SAN', 'BWI'), ('SAN', 'ELP'), ('SAN', 'LAS'), ('SAN', 'MCI'), ('SAN', 'MDW'), ('SAN', 'OAK'), ('SAN', 'SAT'), ('SAN', 'SJC'), ('SAN', 'DEN'), ('SAN', 'SLC'), ('SAN', 'LAX'), ('SAN', 'SFO'), ('SAN', 'ORD'), ('SAN', 'IAD'), ('SAN', 'HNL'), ('SAN', 'PHL'), ('SAN', 'CLT'), ('SAN', 'ATL'), ('SAN', 'JFK'), ('SAN', 'CVG'), ('SAN', 'OGG'), ('SAN', 'MSP'), ('SAN', 'DTW'), ('SAN', 'BOS'), ('SAN', 'DFW'), ('SAN', 'STL'), ('SAN', 'SEA'), ('SAN', 'IAH'), ('SAN', 'EWR'), ('SAN', 'CLE'), ('SAN', 'RNO'), ('SAN', 'OKC'), ('SAN', 'COS'), ('SAN', 'BOI'), ('SAN', 'BFL'), ('SAN', 'FAT'), ('SAN', 'MRY'), ('SAN', 'OMA'), ('SAN', 'TUL'), ('SAN', 'HOU'), ('SAN', 'GEG'), ('SAN', 'PSP'), ('SAN', 'PIT'), ('SAN', 'MCO'), ('SAN', 'SBA'), ('SEA', 'ABQ'), ('SEA', 'BNA'), ('SEA', 'BOI'), ('SEA', 'GEG'), ('SEA', 'LAS'), ('SEA', 'MCI'), ('SEA', 'MDW'), ('SEA', 'OAK'), ('SEA', 'RNO'), ('SEA', 'SJC'), ('SEA', 'SLC'), ('SEA', 'TWF'), ('SEA', 'OGD'), ('SEA', 'DEN'), ('SEA', 'ORD'), ('SEA', 'SFO'), ('SEA', 'IAD'), ('SEA', 'LAX'), ('SEA', 'HNL'), ('SEA', 'CLT'), ('SEA', 'PHL'), ('SEA', 'JFK'), ('SEA', 'ATL'), ('SEA', 'CVG'), ('SEA', 'OGG'), ('SEA', 'KOA'), ('SEA', 'MSP'), ('SEA', 'DTW'), ('SEA', 'MEM'), ('SEA', 'DFW'), ('SEA', 'STL'), ('SEA', 'LGB'), ('SEA', 'ANC'), ('SEA', 'SNA'), ('SEA', 'DCA'), ('SEA', 'KTN'), ('SEA', 'PSP'), ('SEA', 'EWR'), ('SEA', 'BUR'), ('SEA', 'BOS'), ('SEA', 'MCO'), ('SEA', 'FAI'), ('SEA', 'MIA'), ('SEA', 'JNU'), ('SEA', 'TUS'), ('SEA', 'IAH'), ('SEA', 'CLE'), ('SEA', 'MSY'), ('SEA', 'AUS'), ('SEA', 'SIT'), ('SEA', 'BWI'), ('SEA', 'PIT'), ('SEA', 'IND'), ('SEA', 'BLI'), ('SEA', 'LIH'), ('SEA', 'EUG'), ('SNA', 'LAS'), ('SNA', 'MDW'), ('SNA', 'OAK'), ('SNA', 'SJC'), ('SNA', 'SLC'), ('SNA', 'LAX'), ('SNA', 'SFO'), ('SNA', 'DEN'), ('SNA', 'ORD'), ('SNA', 'ATL'), ('SNA', 'CVG'), ('SNA', 'MSP'), ('SNA', 'DFW'), ('SNA', 'STL'), ('SNA', 'HNL'), ('SNA', 'RNO'), ('SNA', 'OGG'), ('SNA', 'KOA'), ('SNA', 'IAH'), ('SNA', 'EWR'), ('SNA', 'CLD'), ('SNA', 'BFL'), ('SNA', 'MOD'), ('SNA', 'GJT'), ('SNA', 'AUS'), ('LAS', 'STL'), ('LAS', 'TPA'), ('LAS', 'TUL'), ('LAS', 'TUS'), ('LAS', 'ABQ'), ('LAS', 'ALB'), ('LAS', 'AMA'), ('LAS', 'AUS'), ('LAS', 'BDL'), ('LAS', 'BHM'), ('LAS', 'BNA'), ('LAS', 'BOI'), ('LAS', 'BUF'), ('LAS', 'BUR'), ('LAS', 'BWI'), ('LAS', 'CLE'), ('LAS', 'CMH'), ('LAS', 'DEN'), ('LAS', 'ELP'), ('LAS', 'GEG'), ('LAS', 'HOU'), ('LAS', 'IAD'), ('LAS', 'IND'), ('LAS', 'ISP'), ('LAS', 'LAX'), ('LAS', 'LBB'), ('LAS', 'LIT'), ('LAS', 'MAF'), ('LAS', 'MCI'), ('LAS', 'MCO'), ('LAS', 'MDW'), ('LAS', 'MHT'), ('LAS', 'MSY'), ('LAS', 'OAK'), ('LAS', 'OKC'), ('LAS', 'OMA'), ('LAS', 'ORF'), ('LAS', 'PHL'), ('LAS', 'PIT'), ('LAS', 'PVD'), ('LAS', 'RDU'), ('LAS', 'RNO'), ('LAS', 'SAT'), ('LAS', 'SDF'), ('LAS', 'SJC'), ('LAS', 'SLC'), ('LAS', 'BFL'), ('LAS', 'COS'), ('LAS', 'EUG'), ('LAS', 'FAT'), ('LAS', 'IAH'), ('LAS', 'MFR'), ('LAS', 'MRY'), ('LAS', 'PSP'), ('LAS', 'SBA'), ('LAS', 'SBP'), ('LAS', 'PIH'), ('LAS', 'SFO'), ('LAS', 'ORD'), ('LAS', 'ANC'), ('LAS', 'ATL'), ('LAS', 'BOS'), ('LAS', 'DCA'), ('LAS', 'DFW'), ('LAS', 'DTW'), ('LAS', 'EWR'), ('LAS', 'JFK'), ('LAS', 'MSP'), ('LAS', 'OGG'), ('LAS', 'FLL'), ('LAS', 'CLT'), ('LAS', 'MIA'), ('LAS', 'CVG'), ('LAS', 'HNL'), ('LAS', 'MEM'), ('LAS', 'MKE'), ('LAS', 'FNT'), ('LAS', 'LGB'), ('LAS', 'PBI'), ('LAS', 'YUM'), ('LAS', 'BMI'), ('LAS', 'CAK'), ('LAS', 'DAY'), ('LAS', 'MLI'), ('LAS', 'ROC'), ('MDW', 'STL'), ('MDW', 'TPA'), ('MDW', 'TUS'), ('MDW', 'ABQ'), ('MDW', 'ALB'), ('MDW', 'AUS'), ('MDW', 'BDL'), ('MDW', 'BHM'), ('MDW', 'BNA'), ('MDW', 'BUF'), ('MDW', 'BWI'), ('MDW', 'CLE'), ('MDW', 'CMH'), ('MDW', 'DEN'), ('MDW', 'DTW'), ('MDW', 'FLL'), ('MDW', 'HOU'), ('MDW', 'IAD'), ('MDW', 'IND'), ('MDW', 'ISP'), ('MDW', 'JAN'), ('MDW', 'LAX'), ('MDW', 'LIT'), ('MDW', 'MCI'), ('MDW', 'MCO'), ('MDW', 'MHT'), ('MDW', 'MSY'), ('MDW', 'OAK'), ('MDW', 'OMA'), ('MDW', 'ORF'), ('MDW', 'PHL'), ('MDW', 'PIT'), ('MDW', 'PVD'), ('MDW', 'RDU'), ('MDW', 'RNO'), ('MDW', 'RSW'), ('MDW', 'SAT'), ('MDW', 'SDF'), ('MDW', 'SJC'), ('MDW', 'SLC'), ('MDW', 'EWR'), ('MDW', 'ATL'), ('MDW', 'BOS'), ('MDW', 'MKE'), ('MDW', 'CLT'), ('MDW', 'DFW'), ('MDW', 'MSP'), ('MDW', 'SRQ'), ('MDW', 'MIA'), ('MDW', 'PBI'), ('MDW', 'LGA'), ('MDW', 'SFO'), ('OAK', 'ABQ'), ('OAK', 'BNA'), ('OAK', 'BOI'), ('OAK', 'BUR'), ('OAK', 'BWI'), ('OAK', 'GEG'), ('OAK', 'HOU'), ('OAK', 'LAX'), ('OAK', 'MCI'), ('OAK', 'PHL'), ('OAK', 'RNO'), ('OAK', 'SLC'), ('OAK', 'TWF'), ('OAK', 'DEN'), ('OAK', 'ORD'), ('OAK', 'IAD'), ('OAK', 'ATL'), ('OAK', 'DFW'), ('OAK', 'HNL'), ('OAK', 'OGG'), ('OAK', 'KOA'), ('OAK', 'BOS'), ('OAK', 'FLL'), ('OAK', 'JFK'), ('OAK', 'LGB'), ('OAK', 'IAH'), ('OAK', 'SFO'), ('OAK', 'GJT'), ('OAK', 'TUS'), ('OAK', 'FAT'), ('OAK', 'BFL'), ('SJC', 'BUR'), ('SJC', 'LAX'), ('SJC', 'RNO'), ('SJC', 'SLC'), ('SJC', 'SBA'), ('SJC', 'DEN'), ('SJC', 'ORD'), ('SJC', 'IAD'), ('SJC', 'ATL'), ('SJC', 'HNL'), ('SJC', 'MSP'), ('SJC', 'DFW'), ('SJC', 'AUS'), ('SJC', 'BOS'), ('SJC', 'JFK'), ('SJC', 'IAH'), ('SJC', 'EWR'), ('SJC', 'RDM'), ('SJC', 'MFR'), ('SJC', 'SMX'), ('SJC', 'GJT'), ('SJC', 'EUG'), ('SJC', 'PIH'), ('SJC', 'RDD'), ('SJC', 'SBP'), ('SJC', 'SFO'), ('STL', 'ABQ'), ('STL', 'BHM'), ('STL', 'BWI'), ('STL', 'CLE'), ('STL', 'CMH'), ('STL', 'DAL'), ('STL', 'DTW'), ('STL', 'FLL'), ('STL', 'HOU'), ('STL', 'LAX'), ('STL', 'LIT'), ('STL', 'MCI'), ('STL', 'MCO'), ('STL', 'OKC'), ('STL', 'OMA'), ('STL', 'SDF'), ('STL', 'SLC'), ('STL', 'TPA'), ('STL', 'TUL'), ('STL', 'IAH'), ('STL', 'EWR'), ('STL', 'CLT'), ('STL', 'ATL'), ('STL', 'CVG'), ('STL', 'ORD'), ('STL', 'GJT'), ('STL', 'DEN'), ('STL', 'BOS'), ('STL', 'JFK'), ('STL', 'MEM'), ('STL', 'MSP'), ('STL', 'DFW'), ('STL', 'LGA'), ('STL', 'MSY'), ('STL', 'DCA'), ('STL', 'MIA'), ('STL', 'SFO'), ('STL', 'RSW'), ('STL', 'BNA'), ('STL', 'SGF'), ('STL', 'SAT'), ('STL', 'RDU'), ('STL', 'AUS'), ('STL', 'CID'), ('STL', 'SRQ'), ('STL', 'PHL'), ('ABQ', 'TPA'), ('ABQ', 'TUS'), ('ABQ', 'AMA'), ('ABQ', 'BWI'), ('ABQ', 'DAL'), ('ABQ', 'ELP'), ('ABQ', 'HOU'), ('ABQ', 'LAX'), ('ABQ', 'LBB'), ('ABQ', 'MAF'), ('ABQ', 'MCI'), ('ABQ', 'MCO'), ('ABQ', 'SLC'), ('ABQ', 'IAH'), ('ABQ', 'SFO'), ('ABQ', 'DEN'), ('ABQ', 'GJT'), ('ABQ', 'IAD'), ('ABQ', 'ATL'), ('ABQ', 'CVG'), ('ABQ', 'MSP'), ('ABQ', 'DFW'), ('ABQ', 'ORD'), ('ABQ', 'EWR'), ('ABQ', 'OKC'), ('ABQ', 'TUL'), ('ABQ', 'SAT'), ('ABQ', 'AUS'), ('ABQ', 'CLE'), ('ABQ', 'COS'), ('BHM', 'TPA'), ('BHM', 'BNA'), ('BHM', 'BWI'), ('BHM', 'HOU'), ('BHM', 'JAX'), ('BHM', 'MCO'), ('BHM', 'SDF'), ('BHM', 'IAH'), ('BHM', 'EWR'), ('BHM', 'CLT'), ('BHM', 'IAD'), ('BHM', 'ORD'), ('BHM', 'CVG'), ('BHM', 'LGA'), ('BHM', 'DEN'), ('BHM', 'ATL'), ('BHM', 'DTW'), ('BHM', 'MEM'), ('BHM', 'DFW'), ('BHM', 'DAL'), ('BHM', 'OKC'), ('BHM', 'RDU'), ('BHM', 'MSY'), ('BHM', 'MKE'), ('BHM', 'SLC'), ('BHM', 'XNA'), ('BHM', 'AUS'), ('BHM', 'MSP'), ('BHM', 'COS'), ('BWI', 'TPA'), ('BWI', 'ALB'), ('BWI', 'AUS'), ('BWI', 'BDL'), ('BWI', 'BNA'), ('BWI', 'BUF'), ('BWI', 'CLE'), ('BWI', 'CMH'), ('BWI', 'DEN'), ('BWI', 'DTW'), ('BWI', 'FLL'), ('BWI', 'HOU'), ('BWI', 'IND'), ('BWI', 'ISP'), ('BWI', 'JAN'), ('BWI', 'JAX'), ('BWI', 'LAX'), ('BWI', 'LIT'), ('BWI', 'MCI'), ('BWI', 'MCO'), ('BWI', 'MHT'), ('BWI', 'MSY'), ('BWI', 'ORF'), ('BWI', 'PBI'), ('BWI', 'PVD'), ('BWI', 'RDU'), ('BWI', 'RSW'), ('BWI', 'SAT'), ('BWI', 'SDF'), ('BWI', 'SLC'), ('BWI', 'EWR'), ('BWI', 'CLT'), ('BWI', 'CVG'), ('BWI', 'BOS'), ('BWI', 'ABE'), ('BWI', 'AVP'), ('BWI', 'ORD'), ('BWI', 'SFO'), ('BWI', 'PHL'), ('BWI', 'ATL'), ('BWI', 'DAY'), ('BWI', 'ROC'), ('BWI', 'SRQ'), ('BWI', 'JFK'), ('BWI', 'MSP'), ('BWI', 'MEM'), ('BWI', 'DFW'), ('BWI', 'SJU'), ('BWI', 'MIA'), ('BWI', 'IAH'), ('BWI', 'DAB'), ('BWI', 'PIT'), ('BWI', 'LGA'), ('BWI', 'MKE'), ('BWI', 'ACY'), ('BWI', 'DCA'), ('BWI', 'RIC'), ('BWI', 'PWM'), ('BWI', 'OKC'), ('BWI', 'IAD'), ('BWI', 'MSN'), ('BWI', 'GRR'), ('CLE', 'BNA'), ('CLE', 'CLT'), ('CLE', 'CMH'), ('CLE', 'SDF'), ('CLE', 'MSY'), ('CLE', 'RDU'), ('CLE', 'MSP'), ('CLE', 'LGA'), ('CLE', 'DAY'), ('CLE', 'HPN'), ('CLE', 'SYR'), ('CLE', 'MDT'), ('CLE', 'JFK'), ('CLE', 'SRQ'), ('CLE', 'GRR'), ('CLE', 'BOS'), ('CLE', 'PHL'), ('CLE', 'MCO'), ('CLE', 'ATL'), ('CLE', 'IND'), ('CLE', 'ORF'), ('CLE', 'ROC'), ('CLE', 'BUF'), ('CLE', 'RIC'), ('CLE', 'IAD'), ('CLE', 'BDL'), ('CLE', 'AUS'), ('CLE', 'ORD'), ('CLE', 'DTW'), ('CLE', 'MCI'), ('CLE', 'ABE'), ('CLE', 'DEN'), ('CLE', 'DFW'), ('CLE', 'DCA'), ('CLE', 'ALB'), ('CLE', 'TYS'), ('CLE', 'MSN'), ('CLE', 'MKE'), ('CLE', 'PVD'), ('CLE', 'BTV'), ('CLE', 'LEX'), ('CLE', 'SAT'), ('CLE', 'GSP'), ('CLE', 'MIA'), ('CLE', 'PBI'), ('CLE', 'MHT'), ('CLE', 'JAX'), ('CLE', 'PWM'), ('CLE', 'ERI'), ('CLE', 'TPA'), ('CLE', 'CVG'), ('CLE', 'SLC'), ('CLE', 'MEM'), ('CLE', 'IAH'), ('CLE', 'RSW'), ('CLE', 'EWR'), ('CLE', 'FLL'), ('CLE', 'LAX'), ('CLE', 'SFO'), ('CLE', 'SJU'), ('CLE', 'DAB'), ('CLE', 'FWA'), ('CLE', 'OKC'), ('CMH', 'TPA'), ('CMH', 'BNA'), ('CMH', 'MCO'), ('CMH', 'PHL'), ('CMH', 'IAH'), ('CMH', 'EWR'), ('CMH', 'CLT'), ('CMH', 'DCA'), ('CMH', 'JFK'), ('CMH', 'BOS'), ('CMH', 'LGA'), ('CMH', 'CVG'), ('CMH', 'RSW'), ('CMH', 'ORD'), ('CMH', 'DEN'), ('CMH', 'ATL'), ('CMH', 'LAX'), ('CMH', 'DFW'), ('CMH', 'MIA'), ('CMH', 'RDU'), ('CMH', 'MSP'), ('CMH', 'DTW'), ('CMH', 'MEM'), ('CMH', 'SLC'), ('CMH', 'GSO'), ('CMH', 'MKE'), ('CMH', 'CAK'), ('CMH', 'MCI'), ('CMH', 'PIT'), ('CMH', 'FLL'), ('CMH', 'JAX'), ('CMH', 'MSN'), ('DAL', 'TUL'), ('DAL', 'AMA'), ('DAL', 'AUS'), ('DAL', 'ELP'), ('DAL', 'HOU'), ('DAL', 'LBB'), ('DAL', 'LIT'), ('DAL', 'MAF'), ('DAL', 'MCI'), ('DAL', 'MSY'), ('DAL', 'OKC'), ('DAL', 'SAT'), ('DAL', 'IAH'), ('DTW', 'BNA'), ('DTW', 'MCO'), ('DTW', 'EWR'), ('DTW', 'CLT'), ('DTW', 'IAD'), ('DTW', 'CVG'), ('DTW', 'JFK'), ('DTW', 'DEN'), ('DTW', 'ORD'), ('DTW', 'PHL'), ('DTW', 'SLC'), ('DTW', 'ATL'), ('DTW', 'FLL'), ('DTW', 'RSW'), ('DTW', 'SRQ'), ('DTW', 'TPA'), ('DTW', 'LGA'), ('DTW', 'BOS'), ('DTW', 'AZO'), ('DTW', 'FNT'), ('DTW', 'MSP'), ('DTW', 'DCA'), ('DTW', 'MSN'), ('DTW', 'GRB'), ('DTW', 'GRR'), ('DTW', 'LAX'), ('DTW', 'MKE'), ('DTW', 'PVD'), ('DTW', 'MBS'), ('DTW', 'MEM'), ('DTW', 'SYR'), ('DTW', 'BDL'), ('DTW', 'BUF'), ('DTW', 'SDF'), ('DTW', 'LAN'), ('DTW', 'RDU'), ('DTW', 'SFO'), ('DTW', 'IND'), ('DTW', 'MCI'), ('DTW', 'DFW'), ('DTW', 'TVC'), ('DTW', 'ALB'), ('DTW', 'MHT'), ('DTW', 'ROC'), ('DTW', 'PBI'), ('DTW', 'PIT'), ('DTW', 'OMA'), ('DTW', 'MIA'), ('DTW', 'PWM'), ('DTW', 'SAT'), ('DTW', 'MDT'), ('DTW', 'ORF'), ('DTW', 'MSY'), ('DTW', 'GSP'), ('DTW', 'JAX'), ('DTW', 'SJU'), ('DTW', 'IAH'), ('DTW', 'RIC'), ('DTW', 'STT'), ('DTW', 'ATW'), ('DTW', 'DAY'), ('DTW', 'CWA'), ('DTW', 'SWF'), ('DTW', 'SBN'), ('DTW', 'LNK'), ('DTW', 'AVP'), ('DTW', 'HSV'), ('DTW', 'BGR'), ('DTW', 'BGM'), ('DTW', 'XNA'), ('DTW', 'HPN'), ('DTW', 'ERI'), ('DTW', 'EVV'), ('DTW', 'CAK'), ('DTW', 'TUL'), ('DTW', 'MLI'), ('DTW', 'SCE'), ('DTW', 'ABE'), ('DTW', 'AUS'), ('DTW', 'ROA'), ('DTW', 'FWA'), ('DTW', 'DSM'), ('DTW', 'GSO'), ('DTW', 'CID'), ('DTW', 'TYS'), ('DTW', 'LEX'), ('DTW', 'OKC'), ('DTW', 'MYR'), ('DTW', 'AVL'), ('DTW', 'CHS'), ('DTW', 'BTV'), ('DTW', 'JAN'), ('DTW', 'SAV'), ('DTW', 'RST'), ('DTW', 'ELM'), ('DTW', 'DLH'), ('DTW', 'PLN'), ('DTW', 'LIT'), ('DTW', 'CAE'), ('DTW', 'SGF'), ('DTW', 'SHV'), ('DTW', 'BZN'), ('DTW', 'ANC'), ('DTW', 'PIA'), ('FLL', 'TPA'), ('FLL', 'BNA'), ('FLL', 'HOU'), ('FLL', 'ISP'), ('FLL', 'JAX'), ('FLL', 'MCO'), ('FLL', 'MSY'), ('FLL', 'PHL'), ('FLL', 'PVD'), ('FLL', 'ORD'), ('FLL', 'DEN'), ('FLL', 'IAD'), ('FLL', 'CLT'), ('FLL', 'DCA'), ('FLL', 'PIT'), ('FLL', 'LGA'), ('FLL', 'BOS'), ('FLL', 'ATL'), ('FLL', 'LAX'), ('FLL', 'JFK'), ('FLL', 'CVG'), ('FLL', 'SLC'), ('FLL', 'BDL'), ('FLL', 'GPT'), ('FLL', 'HPN'), ('FLL', 'IND'), ('FLL', 'PHF'), ('FLL', 'ROC'), ('FLL', 'CAK'), ('FLL', 'SWF'), ('FLL', 'MEM'), ('FLL', 'MSP'), ('FLL', 'DFW'), ('FLL', 'SJU'), ('FLL', 'EWR'), ('FLL', 'LGB'), ('FLL', 'IAH'), ('FLL', 'BUF'), ('FLL', 'MIA'), ('FLL', 'RSW'), ('FLL', 'RIC'), ('FLL', 'SYR'), ('FLL', 'PSE'), ('HOU', 'TPA'), ('HOU', 'TUL'), ('HOU', 'AUS'), ('HOU', 'BNA'), ('HOU', 'CRP'), ('HOU', 'DEN'), ('HOU', 'ELP'), ('HOU', 'HRL'), ('HOU', 'JAN'), ('HOU', 'JAX'), ('HOU', 'LAX'), ('HOU', 'LIT'), ('HOU', 'MAF'), ('HOU', 'MCO'), ('HOU', 'MSY'), ('HOU', 'OKC'), ('HOU', 'PHL'), ('HOU', 'SAT'), ('HOU', 'ATL'), ('HOU', 'DFW'), ('HOU', 'JFK'), ('HOU', 'SLC'), ('LAX', 'TUS'), ('LAX', 'AUS'), ('LAX', 'BNA'), ('LAX', 'ELP'), ('LAX', 'MCI'), ('LAX', 'PHL'), ('LAX', 'RNO'), ('LAX', 'SAT'), ('LAX', 'SLC'), ('LAX', 'SGU'), ('LAX', 'YUM'), ('LAX', 'IPL'), ('LAX', 'CLD'), ('LAX', 'MOD'), ('LAX', 'PSP'), ('LAX', 'SBA'), ('LAX', 'BFL'), ('LAX', 'MRY'), ('LAX', 'FAT'), ('LAX', 'IYK'), ('LAX', 'SBP'), ('LAX', 'OXR'), ('LAX', 'SMX'), ('LAX', 'ASE'), ('LAX', 'COS'), ('LAX', 'OKC'), ('LAX', 'BOI'), ('LAX', 'MTJ'), ('LAX', 'DEN'), ('LAX', 'JFK'), ('LAX', 'HNL'), ('LAX', 'OGG'), ('LAX', 'ORD'), ('LAX', 'IAD'), ('LAX', 'KOA'), ('LAX', 'SFO'), ('LAX', 'LIH'), ('LAX', 'EWR'), ('LAX', 'DFW'), ('LAX', 'BOS'), ('LAX', 'MSY'), ('LAX', 'MCO'), ('LAX', 'CLT'), ('LAX', 'PIT'), ('LAX', 'TPA'), ('LAX', 'CVG'), ('LAX', 'ATL'), ('LAX', 'BDL'), ('LAX', 'JAX'), ('LAX', 'RDU'), ('LAX', 'XNA'), ('LAX', 'MSP'), ('LAX', 'MEM'), ('LAX', 'IND'), ('LAX', 'MKE'), ('LAX', 'MIA'), ('LAX', 'SJU'), ('LAX', 'EGE'), ('LAX', 'GEG'), ('LAX', 'DCA'), ('LAX', 'ANC'), ('LAX', 'IAH'), ('LAX', 'CDC'), ('LAX', 'PMD'), ('LAX', 'SDF'), ('LAX', 'MFE'), ('LAX', 'EUG'), ('LAX', 'ICT'), ('LAX', 'IDA'), ('LAX', 'DRO'), ('LAX', 'BUR'), ('LAX', 'GJT'), ('LAX', 'JAC'), ('LIT', 'IAH'), ('LIT', 'EWR'), ('LIT', 'SLC'), ('LIT', 'ATL'), ('LIT', 'DFW'), ('LIT', 'ORD'), ('LIT', 'MEM'), ('LIT', 'MSP'), ('LIT', 'CLT'), ('LIT', 'CVG'), ('LIT', 'MCO'), ('LIT', 'GJT'), ('LIT', 'DEN'), ('LIT', 'COS'), ('MCI', 'TPA'), ('MCI', 'TUL'), ('MCI', 'BNA'), ('MCI', 'DEN'), ('MCI', 'IND'), ('MCI', 'MCO'), ('MCI', 'OKC'), ('MCI', 'IAH'), ('MCI', 'EWR'), ('MCI', 'CLT'), ('MCI', 'IAD'), ('MCI', 'ORD'), ('MCI', 'CVG'), ('MCI', 'SLC'), ('MCI', 'ATL'), ('MCI', 'MSP'), ('MCI', 'MEM'), ('MCI', 'DFW'), ('MCI', 'TUS'), ('MCI', 'AUS'), ('MCI', 'JAX'), ('MCI', 'OMA'), ('MCI', 'SDF'), ('MCI', 'RDU'), ('MCI', 'MSY'), ('MCI', 'SAT'), ('MCI', 'PIT'), ('MCI', 'MSN'), ('MCI', 'COS'), ('MCI', 'GSO'), ('MCI', 'MKE'), ('MCI', 'TYS'), ('MCI', 'MIA'), ('MCI', 'SGF'), ('MCO', 'ALB'), ('MCO', 'AUS'), ('MCO', 'BDL'), ('MCO', 'BNA'), ('MCO', 'BUF'), ('MCO', 'DEN'), ('MCO', 'IAD'), ('MCO', 'IND'), ('MCO', 'ISP'), ('MCO', 'JAN'), ('MCO', 'MHT'), ('MCO', 'MSY'), ('MCO', 'ORF'), ('MCO', 'PHL'), ('MCO', 'PIT'), ('MCO', 'PVD'), ('MCO', 'RDU'), ('MCO', 'RSW'), ('MCO', 'SAT'), ('MCO', 'SDF'), ('MCO', 'IAH'), ('MCO', 'ACY'), ('MCO', 'GSO'), ('MCO', 'CHS'), ('MCO', 'SFO'), ('MCO', 'ORD'), ('MCO', 'CLT'), ('MCO', 'DCA'), ('MCO', 'ATL'), ('MCO', 'BOS'), ('MCO', 'JFK'), ('MCO', 'LGA'), ('MCO', 'CVG'), ('MCO', 'SLC'), ('MCO', 'SJU'), ('MCO', 'CAK'), ('MCO', 'DAY'), ('MCO', 'DFW'), ('MCO', 'FNT'), ('MCO', 'HPN'), ('MCO', 'MKE'), ('MCO', 'MLI'), ('MCO', 'MSP'), ('MCO', 'PHF'), ('MCO', 'ROC'), ('MCO', 'BMI'), ('MCO', 'RIC'), ('MCO', 'SWF'), ('MCO', 'MEM'), ('MCO', 'GRR'), ('MCO', 'MIA'), ('MCO', 'BQN'), ('MCO', 'EWR'), ('MCO', 'SYR'), ('MCO', 'BTV'), ('MCO', 'GSP'), ('MCO', 'LEX'), ('MCO', 'TYS'), ('MCO', 'PNS'), ('MCO', 'PSE'), ('MCO', 'TPA'), ('MCO', 'TLH'), ('MCO', 'TRI'), ('MCO', 'MLB'), ('MCO', 'PBI'), ('MCO', 'PWM'), ('MCO', 'SAV'), ('OKC', 'IAH'), ('OKC', 'EWR'), ('OKC', 'ORD'), ('OKC', 'CVG'), ('OKC', 'SLC'), ('OKC', 'DEN'), ('OKC', 'GJT'), ('OKC', 'ATL'), ('OKC', 'DFW'), ('OKC', 'MEM'), ('OKC', 'MSP'), ('OKC', 'AUS'), ('OKC', 'SAT'), ('OKC', 'IAD'), ('OKC', 'TUL'), ('OMA', 'EWR'), ('OMA', 'IAH'), ('OMA', 'CVG'), ('OMA', 'DEN'), ('OMA', 'SLC'), ('OMA', 'ORD'), ('OMA', 'ATL'), ('OMA', 'MSP'), ('OMA', 'MEM'), ('OMA', 'DFW'), ('OMA', 'PIH'), ('OMA', 'CID'), ('OMA', 'MSN'), ('OMA', 'MKE'), ('OMA', 'TUS'), ('OMA', 'DSM'), ('OMA', 'SBN'), ('SDF', 'TPA'), ('SDF', 'IAH'), ('SDF', 'EWR'), ('SDF', 'CVG'), ('SDF', 'ATL'), ('SDF', 'ORD'), ('SDF', 'DFW'), ('SDF', 'MIA'), ('SDF', 'MEM'), ('SDF', 'MSP'), ('SDF', 'RDU'), ('SDF', 'CLT'), ('SDF', 'LGA'), ('SDF', 'JFK'), ('SDF', 'SLC'), ('SDF', 'FWA'), ('SDF', 'DEN'), ('SDF', 'BOS'), ('SDF', 'JAX'), ('SLC', 'BOI'), ('SLC', 'DEN'), ('SLC', 'GEG'), ('SLC', 'RNO'), ('SLC', 'IAH'), ('SLC', 'SUN'), ('SLC', 'PIH'), ('SLC', 'COD'), ('SLC', 'TWF'), ('SLC', 'EKO'), ('SLC', 'SGU'), ('SLC', 'CPR'), ('SLC', 'PSC'), ('SLC', 'HLN'), ('SLC', 'SFO'), ('SLC', 'ELP'), ('SLC', 'IDA'), ('SLC', 'TUS'), ('SLC', 'BIL'), ('SLC', 'BFL'), ('SLC', 'FCA'), ('SLC', 'BTM'), ('SLC', 'MTJ'), ('SLC', 'BZN'), ('SLC', 'BUR'), ('SLC', 'LGB'), ('SLC', 'MSO'), ('SLC', 'XNA'), ('SLC', 'DRO'), ('SLC', 'DSM'), ('SLC', 'EUG'), ('SLC', 'MRY'), ('SLC', 'SBA'), ('SLC', 'COS'), ('SLC', 'GJT'), ('SLC', 'FAR'), ('SLC', 'RAP'), ('SLC', 'FAT'), ('SLC', 'LWS'), ('SLC', 'RDM'), ('SLC', 'BLI'), ('SLC', 'PSP'), ('SLC', 'MFR'), ('SLC', 'FSD'), ('SLC', 'GTF'), ('SLC', 'TUL'), ('SLC', 'AUS'), ('SLC', 'SAT'), ('SLC', 'MSP'), ('SLC', 'MKE'), ('SLC', 'JAC'), ('SLC', 'HDN'), ('SLC', 'MEM'), ('SLC', 'ASE'), ('SLC', 'DFW'), ('SLC', 'MSY'), ('SLC', 'ORD'), ('SLC', 'PHL'), ('SLC', 'JFK'), ('SLC', 'ATL'), ('SLC', 'HNL'), ('SLC', 'TPA'), ('SLC', 'OGG'), ('SLC', 'EWR'), ('SLC', 'RDU'), ('SLC', 'BOS'), ('SLC', 'IAD'), ('SLC', 'CVG'), ('SLC', 'ANC'), ('SLC', 'BNA'), ('SLC', 'DCA'), ('SLC', 'LGA'), ('SLC', 'KOA'), ('SLC', 'BIS'), ('SLC', 'PIT'), ('SLC', 'ABI'), ('SLC', 'SHV'), ('SLC', 'CLT'), ('SLC', 'SGF'), ('SLC', 'WYS'), ('SLC', 'YKM'), ('SLC', 'SLE'), ('SLC', 'GRR'), ('SLC', 'SBP'), ('SLC', 'SUX'), ('SLC', 'FAI'), ('SLC', 'CDC'), ('SLC', 'ICT'), ('SLC', 'HSV'), ('SLC', 'AMA'), ('SLC', 'LNK'), ('SLC', 'LBB'), ('SLC', 'CYS'), ('SLC', 'MSN'), ('SLC', 'EAU'), ('SLC', 'YUM'), ('TPA', 'ALB'), ('TPA', 'AUS'), ('TPA', 'BDL'), ('TPA', 'BNA'), ('TPA', 'BUF'), ('TPA', 'IAD'), ('TPA', 'IND'), ('TPA', 'ISP'), ('TPA', 'JAX'), ('TPA', 'MHT'), ('TPA', 'MSY'), ('TPA', 'PBI'), ('TPA', 'PHL'), ('TPA', 'PIT'), ('TPA', 'PVD'), ('TPA', 'RDU'), ('TPA', 'SAT'), ('TPA', 'IAH'), ('TPA', 'CVG'), ('TPA', 'DEN'), ('TPA', 'ORD'), ('TPA', 'CLT'), ('TPA', 'DCA'), ('TPA', 'LGA'), ('TPA', 'BOS'), ('TPA', 'ATL'), ('TPA', 'JFK'), ('TPA', 'CAK'), ('TPA', 'DAY'), ('TPA', 'FNT'), ('TPA', 'GPT'), ('TPA', 'HPN'), ('TPA', 'MKE'), ('TPA', 'ROC'), ('TPA', 'SWF'), ('TPA', 'MSP'), ('TPA', 'MEM'), ('TPA', 'GRR'), ('TPA', 'DFW'), ('TPA', 'SJU'), ('TPA', 'MIA'), ('TPA', 'EWR'), ('TPA', 'SYR'), ('TPA', 'GSO'), ('TPA', 'TYS'), ('TPA', 'ORF'), ('TUL', 'IAH'), ('TUL', 'EWR'), ('TUL', 'CVG'), ('TUL', 'ORD'), ('TUL', 'DEN'), ('TUL', 'GJT'), ('TUL', 'ATL'), ('TUL', 'DFW'), ('TUL', 'MSP'), ('TUL', 'MEM'), ('TUL', 'PIA'), ('TUL', 'SAT'), ('TUL', 'FWA'), ('TUL', 'HSV'), ('TUL', 'AUS'), ('TUL', 'RFD'), ('TUL', 'COS'), ('TUL', 'PVU'), ('ALB', 'EWR'), ('ALB', 'CVG'), ('ALB', 'ORD'), ('ALB', 'CLT'), ('ALB', 'PHL'), ('ALB', 'DCA'), ('ALB', 'ATL'), ('ALB', 'MSP'), ('ALB', 'LGA'), ('ALB', 'JFK'), ('ALB', 'MKE'), ('AUS', 'BNA'), ('AUS', 'ELP'), ('AUS', 'HRL'), ('AUS', 'LBB'), ('AUS', 'MAF'), ('AUS', 'IAD'), ('AUS', 'ORD'), ('AUS', 'CVG'), ('AUS', 'DEN'), ('AUS', 'SFO'), ('AUS', 'ATL'), ('AUS', 'RDU'), ('AUS', 'MSP'), ('AUS', 'MEM'), ('AUS', 'DFW'), ('AUS', 'BOS'), ('AUS', 'JFK'), ('AUS', 'EWR'), ('AUS', 'IAH'), ('AUS', 'CID'), ('AUS', 'PWM'), ('AUS', 'TUS'), ('AUS', 'CRP'), ('AUS', 'JAX'), ('AUS', 'MCN'), ('AUS', 'MSY'), ('AUS', 'GPT'), ('AUS', 'SAT'), ('AUS', 'COS'), ('AUS', 'BTR'), ('AUS', 'IND'), ('AUS', 'RFD'), ('AUS', 'GJT'), ('AUS', 'PIA'), ('AUS', 'TYS'), ('BDL', 'BNA'), ('BDL', 'PHL'), ('BDL', 'EWR'), ('BDL', 'ORD'), ('BDL', 'IAD'), ('BDL', 'CLT'), ('BDL', 'CVG'), ('BDL', 'ATL'), ('BDL', 'DCA'), ('BDL', 'RSW'), ('BDL', 'PBI'), ('BDL', 'RDU'), ('BDL', 'MSP'), ('BDL', 'IND'), ('BDL', 'DFW'), ('BDL', 'SJU'), ('BDL', 'MIA'), ('BDL', 'IAH'), ('BDL', 'DEN'), ('BDL', 'JFK'), ('BDL', 'BOS'), ('BDL', 'MKE'), ('BDL', 'GRR'), ('BNA', 'DEN'), ('BNA', 'JAX'), ('BNA', 'MSY'), ('BNA', 'PHL'), ('BNA', 'PVD'), ('BNA', 'RDU'), ('BNA', 'SAT'), ('BNA', 'ORF'), ('BNA', 'IAH'), ('BNA', 'EWR'), ('BNA', 'CLT'), ('BNA', 'IAD'), ('BNA', 'ORD'), ('BNA', 'CVG'), ('BNA', 'JFK'), ('BNA', 'GSO'), ('BNA', 'BOS'), ('BNA', 'ATL'), ('BNA', 'DCA'), ('BNA', 'MEM'), ('BNA', 'MSP'), ('BNA', 'DFW'), ('BNA', 'LGA'), ('BNA', 'MIA'), ('BNA', 'ICT'), ('BNA', 'CHA'), ('BUF', 'EWR'), ('BUF', 'IAD'), ('BUF', 'ORD'), ('BUF', 'JFK'), ('BUF', 'CVG'), ('BUF', 'CLT'), ('BUF', 'DCA'), ('BUF', 'PHL'), ('BUF', 'ATL'), ('BUF', 'MSP'), ('BUF', 'BOS'), ('BUF', 'PBI'), ('BUF', 'RIC'), ('BUF', 'AVP'), ('BUF', 'GSP'), ('BUF', 'TYS'), ('BUF', 'MKE'), ('IAD', 'EWR'), ('IAD', 'IAH'), ('IAD', 'ATL'), ('IAD', 'BOS'), ('IAD', 'CAE'), ('IAD', 'CHS'), ('IAD', 'CLT'), ('IAD', 'DAB'), ('IAD', 'GSO'), ('IAD', 'GSP'), ('IAD', 'JAX'), ('IAD', 'JFK'), ('IAD', 'LGA'), ('IAD', 'MDT'), ('IAD', 'MHT'), ('IAD', 'MYR'), ('IAD', 'ORF'), ('IAD', 'PHL'), ('IAD', 'PIT'), ('IAD', 'PVD'), ('IAD', 'RDU'), ('IAD', 'ROA'), ('IAD', 'ROC'), ('IAD', 'SAV'), ('IAD', 'PWM'), ('IAD', 'CVG'), ('IAD', 'DEN'), ('IAD', 'ORD'), ('IAD', 'SFO'), ('IAD', 'TUS'), ('IAD', 'MSY'), ('IAD', 'SJU'), ('IAD', 'STT'), ('IAD', 'MIA'), ('IAD', 'PBI'), ('IAD', 'MSP'), ('IAD', 'DFW'), ('IAD', 'LGB'), ('IAD', 'SAT'), ('IAD', 'HSV'), ('IAD', 'SPI'), ('IAD', 'LFT'), ('IAD', 'SYR'), ('IND', 'JAX'), ('IND', 'IAH'), ('IND', 'EWR'), ('IND', 'CLT'), ('IND', 'JFK'), ('IND', 'DEN'), ('IND', 'ORD'), ('IND', 'DCA'), ('IND', 'PHL'), ('IND', 'ATL'), ('IND', 'MIA'), ('IND', 'RSW'), ('IND', 'SRQ'), ('IND', 'PBI'), ('IND', 'MSP'), ('IND', 'SFO'), ('IND', 'LGA'), ('IND', 'MEM'), ('IND', 'RDU'), ('IND', 'BOS'), ('IND', 'DFW'), ('IND', 'CVG'), ('IND', 'CHS'), ('IND', 'DSM'), ('IND', 'LEX'), ('ISP', 'PBI'), ('ISP', 'RSW'), ('ISP', 'ATL'), ('JAX', 'ORF'), ('JAX', 'PHL'), ('JAX', 'IAH'), ('JAX', 'EWR'), ('JAX', 'ORD'), ('JAX', 'CLT'), ('JAX', 'CVG'), ('JAX', 'LGA'), ('JAX', 'BOS'), ('JAX', 'PNS'), ('JAX', 'JFK'), ('JAX', 'DCA'), ('JAX', 'ATL'), ('JAX', 'MSP'), ('JAX', 'MEM'), ('JAX', 'DFW'), ('JAX', 'SAV'), ('JAX', 'GSO'), ('JAX', 'MSY'), ('JAX', 'MIA'), ('JAX', 'RDU'), ('JAX', 'DEN'), ('JAX', 'PIR'), ('JAX', 'TLH'), ('MHT', 'PHL'), ('MHT', 'EWR'), ('MHT', 'CLT'), ('MHT', 'ORD'), ('MHT', 'CVG'), ('MHT', 'DCA'), ('MHT', 'ATL'), ('MHT', 'MSP'), ('MHT', 'BOS'), ('MHT', 'JFK'), ('MSY', 'IAH'), ('MSY', 'EWR'), ('MSY', 'CLT'), ('MSY', 'LGA'), ('MSY', 'DEN'), ('MSY', 'DCA'), ('MSY', 'PHL'), ('MSY', 'ATL'), ('MSY', 'MEM'), ('MSY', 'MSP'), ('MSY', 'ORD'), ('MSY', 'DFW'), ('MSY', 'MIA'), ('MSY', 'JFK'), ('MSY', 'SFO'), ('MSY', 'BOS'), ('MSY', 'CVG'), ('MSY', 'SAT'), ('MSY', 'GSO'), ('MSY', 'RDU'), ('MSY', 'GPT'), ('MSY', 'BTR'), ('MSY', 'CAE'), ('PBI', 'PHL'), ('PBI', 'IAH'), ('PBI', 'CVG'), ('PBI', 'ORD'), ('PBI', 'CLT'), ('PBI', 'DCA'), ('PBI', 'PIT'), ('PBI', 'BOS'), ('PBI', 'LGA'), ('PBI', 'ATL'), ('PBI', 'JFK'), ('PBI', 'HPN'), ('PBI', 'DFW'), ('PBI', 'EWR'), ('PBI', 'SWF'), ('PBI', 'RSW'), ('PBI', 'DEN'), ('PHL', 'PIT'), ('PHL', 'PVD'), ('PHL', 'RDU'), ('PHL', 'RSW'), ('PHL', 'CVG'), ('PHL', 'ORD'), ('PHL', 'DEN'), ('PHL', 'SFO'), ('PHL', 'ATL'), ('PHL', 'BOS'), ('PHL', 'BTV'), ('PHL', 'CLT'), ('PHL', 'DCA'), ('PHL', 'DFW'), ('PHL', 'LGA'), ('PHL', 'MIA'), ('PHL', 'ORF'), ('PHL', 'SJU'), ('PHL', 'SYR'), ('PHL', 'STT'), ('PHL', 'RIC'), ('PHL', 'ROC'), ('PHL', 'MSP'), ('PHL', 'MEM'), ('PHL', 'IAH'), ('PHL', 'EGE'), ('PHL', 'MKE'), ('PHL', 'MDT'), ('PHL', 'MYR'), ('PHL', 'JFK'), ('PHL', 'AVP'), ('PHL', 'ATW'), ('PIT', 'EWR'), ('PIT', 'IAH'), ('PIT', 'ORD'), ('PIT', 'JFK'), ('PIT', 'CVG'), ('PIT', 'ATL'), ('PIT', 'DEN'), ('PIT', 'BOS'), ('PIT', 'CLT'), ('PIT', 'DCA'), ('PIT', 'LGA'), ('PIT', 'MIA'), ('PIT', 'SJU'), ('PIT', 'RSW'), ('PIT', 'SFO'), ('PIT', 'DFW'), ('PIT', 'MSP'), ('PIT', 'MEM'), ('PIT', 'PWM'), ('PIT', 'PVD'), ('PIT', 'MKE'), ('PIT', 'CAE'), ('PIT', 'MSN'), ('PIT', 'MYR'), ('PIT', 'DSM'), ('PIT', 'COS'), ('PIT', 'TYS'), ('PIT', 'GRR'), ('PVD', 'EWR'), ('PVD', 'CLT'), ('PVD', 'CVG'), ('PVD', 'ORD'), ('PVD', 'DCA'), ('PVD', 'ATL'), ('PVD', 'MSP'), ('PVD', 'BOS'), ('PVD', 'JFK'), ('RDU', 'EWR'), ('RDU', 'IAH'), ('RDU', 'ORD'), ('RDU', 'CLT'), ('RDU', 'CVG'), ('RDU', 'BOS'), ('RDU', 'LGA'), ('RDU', 'JFK'), ('RDU', 'ATL'), ('RDU', 'DCA'), ('RDU', 'MSP'), ('RDU', 'MEM'), ('RDU', 'DFW'), ('RDU', 'MIA'), ('RDU', 'GSO'), ('RDU', 'DEN'), ('RDU', 'SAT'), ('RDU', 'MKE'), ('RDU', 'CHS'), ('RDU', 'CAE'), ('RDU', 'RIC'), ('RDU', 'ILM'), ('RDU', 'GRB'), ('RDU', 'CRW'), ('RDU', 'GRR'), ('RDU', 'XNA'), ('RDU', 'MSN'), ('SAT', 'ELP'), ('SAT', 'HRL'), ('SAT', 'CVG'), ('SAT', 'SFO'), ('SAT', 'DEN'), ('SAT', 'PVU'), ('SAT', 'ORD'), ('SAT', 'ATL'), ('SAT', 'MEM'), ('SAT', 'MSP'), ('SAT', 'DFW'), ('SAT', 'IAH'), ('SAT', 'EWR'), ('SAT', 'TUS'), ('SAT', 'COS'), ('SAT', 'GSO'), ('TUS', 'IAH'), ('TUS', 'SFO'), ('TUS', 'DEN'), ('TUS', 'ATL'), ('TUS', 'MSP'), ('TUS', 'DFW'), ('TUS', 'ORD'), ('TUS', 'JFK'), ('TUS', 'EWR'), ('TUS', 'PSP'), ('TUS', 'ELP'), ('TUS', 'RNO'), ('TUS', 'GEG'), ('AMA', 'IAH'), ('AMA', 'DFW'), ('AMA', 'DEN'), ('ELP', 'LBB'), ('ELP', 'MAF'), ('ELP', 'IAH'), ('ELP', 'DEN'), ('ELP', 'ATL'), ('ELP', 'DFW'), ('ELP', 'ORD'), ('ELP', 'GJT'), ('ELP', 'SFO'), ('ELP', 'MFE'), ('ELP', 'COS'), ('LBB', 'IAH'), ('LBB', 'DFW'), ('MAF', 'IAH'), ('MAF', 'DFW'), ('HRL', 'IAH'), ('DEN', 'IAH'), ('DEN', 'ASE'), ('DEN', 'ATL'), ('DEN', 'COD'), ('DEN', 'COS'), ('DEN', 'DRO'), ('DEN', 'EGE'), ('DEN', 'GJT'), ('DEN', 'GUC'), ('DEN', 'HDN'), ('DEN', 'JAC'), ('DEN', 'RAP'), ('DEN', 'MSN'), ('DEN', 'MTJ'), ('DEN', 'CVG'), ('DEN', 'CPR'), ('DEN', 'IDA'), ('DEN', 'DSM'), ('DEN', 'BUR'), ('DEN', 'PSP'), ('DEN', 'BIS'), ('DEN', 'PSC'), ('DEN', 'MKE'), ('DEN', 'DFW'), ('DEN', 'FSD'), ('DEN', 'FAR'), ('DEN', 'GTF'), ('DEN', 'MFR'), ('DEN', 'LNK'), ('DEN', 'BIL'), ('DEN', 'MLI'), ('DEN', 'TYS'), ('DEN', 'ICT'), ('DEN', 'SGF'), ('DEN', 'MEM'), ('DEN', 'BOI'), ('DEN', 'CID'), ('DEN', 'CDC'), ('DEN', 'BZN'), ('DEN', 'EUG'), ('DEN', 'RFD'), ('DEN', 'FAT'), ('DEN', 'XNA'), ('DEN', 'SBA'), ('DEN', 'MRY'), ('DEN', 'MSO'), ('DEN', 'GRR'), ('DEN', 'TWF'), ('DEN', 'PIH'), ('DEN', 'SFO'), ('DEN', 'HNL'), ('DEN', 'BOS'), ('DEN', 'MSP'), ('DEN', 'ORD'), ('DEN', 'LGA'), ('DEN', 'ANC'), ('DEN', 'GEG'), ('DEN', 'EWR'), ('DEN', 'CLT'), ('DEN', 'DCA'), ('DEN', 'KOA'), ('DEN', 'RNO'), ('DEN', 'MIA'), ('DEN', 'DAY'), ('DEN', 'CAK'), ('DEN', 'RSW'), ('DEN', 'JFK'), ('DEN', 'HLN'), ('DEN', 'HSV'), ('DEN', 'BFF'), ('DEN', 'FCA'), ('DEN', 'RDM'), ('DEN', 'OGG'), ('DEN', 'BFL'), ('DEN', 'PIA'), ('DEN', 'FWA'), ('DEN', 'LIH'), ('BOI', 'GEG'), ('BOI', 'RNO'), ('BOI', 'SFO'), ('BOI', 'TWF'), ('BOI', 'ORD'), ('BOI', 'MSP'), ('BOI', 'COS'), ('BOI', 'ATL'), ('BOI', 'GJT'), ('BOI', 'CID'), ('BOI', 'MLI'), ('BOI', 'LWS'), ('BOI', 'TVC'), ('BOI', 'FSD'), ('BOI', 'SLE'), ('BOI', 'MFR'), ('BOI', 'FAT'), ('GEG', 'TWF'), ('GEG', 'ORD'), ('GEG', 'MSP'), ('GEG', 'GJT'), ('GEG', 'PVU'), ('GEG', 'RNO'), ('RNO', 'SFO'), ('RNO', 'ATL'), ('RNO', 'DFW'), ('RNO', 'ORD'), ('RNO', 'IAH'), ('RNO', 'LGB'), ('BUR', 'SFO'), ('BUR', 'DFW'), ('BUR', 'JFK'), ('BUR', 'COS'), ('BUR', 'CDC'), ('JAN', 'IAH'), ('JAN', 'CVG'), ('JAN', 'ATL'), ('JAN', 'DCA'), ('JAN', 'DFW'), ('JAN', 'ORD'), ('JAN', 'MEM'), ('JAN', 'TYS'), ('JAN', 'EWR'), ('ORF', 'IAH'), ('ORF', 'EWR'), ('ORF', 'CLT'), ('ORF', 'ORD'), ('ORF', 'BOS'), ('ORF', 'CVG'), ('ORF', 'ATL'), ('ORF', 'JFK'), ('ORF', 'MIA'), ('ORF', 'MSP'), ('ORF', 'DFW'), ('RSW', 'IAH'), ('RSW', 'CVG'), ('RSW', 'GSP'), ('RSW', 'CLT'), ('RSW', 'DCA'), ('RSW', 'ATL'), ('RSW', 'BOS'), ('RSW', 'LGA'), ('RSW', 'CAK'), ('RSW', 'FNT'), ('RSW', 'HPN'), ('RSW', 'MSP'), ('RSW', 'MEM'), ('RSW', 'DFW'), ('RSW', 'ORD'), ('RSW', 'EWR'), ('RSW', 'JFK'), ('RSW', 'MKE'), ('RSW', 'BTV'), ('RSW', 'MIA'), ('CRP', 'IAH'), ('CRP', 'ATL'), ('CRP', 'DFW'), ('CLT', 'IAH'), ('CLT', 'EWR'), ('CLT', 'ATL'), ('CLT', 'CHS'), ('CLT', 'DFW'), ('CLT', 'GSO'), ('CLT', 'ILM'), ('CLT', 'JFK'), ('CLT', 'MEM'), ('CLT', 'MYR'), ('CLT', 'ORD'), ('CLT', 'PNS'), ('CLT', 'PWM'), ('CLT', 'RIC'), ('CLT', 'SAV'), ('CLT', 'SRQ'), ('CLT', 'SYR'), ('CLT', 'MDT'), ('CLT', 'BOS'), ('CLT', 'MSP'), ('CLT', 'LGA'), ('CLT', 'CVG'), ('CLT', 'ABE'), ('CLT', 'MIA'), ('CLT', 'SJU'), ('CLT', 'SFO'), ('CLT', 'DCA'), ('CLT', 'ROC'), ('CLT', 'STT'), ('CLT', 'STX'), ('CLT', 'EGE'), ('CLT', 'TRI'), ('CLT', 'AGS'), ('CLT', 'TLH'), ('CLT', 'MKE'), ('CLT', 'GRR'), ('AEX', 'IAH'), ('AEX', 'ATL'), ('AEX', 'DFW'), ('IAH', 'BFL'), ('IAH', 'LFT'), ('IAH', 'ATL'), ('IAH', 'CAE'), ('IAH', 'LCH'), ('IAH', 'MEM'), ('IAH', 'SRQ'), ('IAH', 'MGM'), ('IAH', 'GRR'), ('IAH', 'CVG'), ('IAH', 'LRD'), ('IAH', 'GSO'), ('IAH', 'ICT'), ('IAH', 'XNA'), ('IAH', 'BPT'), ('IAH', 'CHS'), ('IAH', 'MOB'), ('IAH', 'PSP'), ('IAH', 'DAY'), ('IAH', 'BRO'), ('IAH', 'PNS'), ('IAH', 'MFE'), ('IAH', 'MLU'), ('IAH', 'BTR'), ('IAH', 'ORD'), ('IAH', 'GPT'), ('IAH', 'SHV'), ('IAH', 'TYS'), ('IAH', 'VPS'), ('IAH', 'DFW'), ('IAH', 'TLH'), ('IAH', 'MSP'), ('IAH', 'COS'), ('IAH', 'RIC'), ('IAH', 'GSP'), ('IAH', 'SAV'), ('IAH', 'MKE'), ('IAH', 'HSV'), ('IAH', 'DSM'), ('IAH', 'CLL'), ('IAH', 'MTJ'), ('IAH', 'LEX'), ('IAH', 'GRK'), ('IAH', 'AVL'), ('IAH', 'CRW'), ('IAH', 'DCA'), ('IAH', 'CHA'), ('IAH', 'SFO'), ('IAH', 'MIA'), ('IAH', 'EWR'), ('IAH', 'HNL'), ('IAH', 'JFK'), ('IAH', 'LGA'), ('IAH', 'SJU'), ('IAH', 'BOS'), ('IAH', 'HDN'), ('IAH', 'EGE'), ('IAH', 'ANC'), ('IAH', 'MLI'), ('IAH', 'PIA'), ('IAH', 'AGS'), ('IAH', 'PIH'), ('BFL', 'SFO'), ('EWR', 'GSP'), ('EWR', 'ORD'), ('EWR', 'CAE'), ('EWR', 'SAV'), ('EWR', 'MSN'), ('EWR', 'SYR'), ('EWR', 'BTV'), ('EWR', 'DAY'), ('EWR', 'CVG'), ('EWR', 'CHS'), ('EWR', 'MEM'), ('EWR', 'MSP'), ('EWR', 'DAB'), ('EWR', 'ROC'), ('EWR', 'AVL'), ('EWR', 'ATL'), ('EWR', 'TYS'), ('EWR', 'MKE'), ('EWR', 'XNA'), ('EWR', 'LEX'), ('EWR', 'MYR'), ('EWR', 'PWM'), ('EWR', 'RIC'), ('EWR', 'GSO'), ('EWR', 'GRR'), ('EWR', 'BOS'), ('EWR', 'DCA'), ('EWR', 'BGR'), ('EWR', 'SFO'), ('EWR', 'DFW'), ('EWR', 'MIA'), ('EWR', 'SJU'), ('EWR', 'EGE'), ('EWR', 'JFK'), ('EWR', 'MTJ'), ('EWR', 'STT'), ('EWR', 'SRQ'), ('EWR', 'PSE'), ('EWR', 'HNL'), ('EWR', 'BQN'), ('EWR', 'HDN'), ('EWR', 'LGB'), ('EWR', 'ACK'), ('EWR', 'GRB'), ('EWR', 'LAN'), ('LFT', 'ATL'), ('LFT', 'DFW'), ('LFT', 'DCA'), ('GSP', 'ORD'), ('GSP', 'CVG'), ('GSP', 'LGA'), ('GSP', 'ATL'), ('GSP', 'DFW'), ('GSP', 'MEM'), ('GSP', 'MCN'), ('GSP', 'MKE'), ('ATL', 'ORD'), ('ATL', 'GSO'), ('ATL', 'RIC'), ('ATL', 'MDT'), ('ATL', 'JFK'), ('ATL', 'LEX'), ('ATL', 'MSN'), ('ATL', 'CAK'), ('ATL', 'DAY'), ('ATL', 'ROA'), ('ATL', 'TTN'), ('ATL', 'GRB'), ('ATL', 'CVG'), ('ATL', 'LAN'), ('ATL', 'CRW'), ('ATL', 'AVL'), ('ATL', 'SAV'), ('ATL', 'DCA'), ('ATL', 'SYR'), ('ATL', 'MKE'), ('ATL', 'MEM'), ('ATL', 'SFO'), ('ATL', 'PNS'), ('ATL', 'MIA'), ('ATL', 'CHS'), ('ATL', 'TLH'), ('ATL', 'TYS'), ('ATL', 'GPT'), ('ATL', 'BOS'), ('ATL', 'STT'), ('ATL', 'LGA'), ('ATL', 'HNL'), ('ATL', 'CAE'), ('ATL', 'SJU'), ('ATL', 'ROC'), ('ATL', 'HSV'), ('ATL', 'DAB'), ('ATL', 'SRQ'), ('ATL', 'COS'), ('ATL', 'MOB'), ('ATL', 'EGE'), ('ATL', 'DFW'), ('ATL', 'MLB'), ('ATL', 'ICT'), ('ATL', 'PHF'), ('ATL', 'PSP'), ('ATL', 'MSP'), ('ATL', 'HDN'), ('ATL', 'STX'), ('ATL', 'BZN'), ('ATL', 'JAC'), ('ATL', 'MTJ'), ('ATL', 'MGM'), ('ATL', 'EYW'), ('ATL', 'HPN'), ('ATL', 'GTR'), ('ATL', 'SHV'), ('ATL', 'ATW'), ('ATL', 'VPS'), ('ATL', 'BGR'), ('ATL', 'BQK'), ('ATL', 'EVV'), ('ATL', 'CSG'), ('ATL', 'AGS'), ('ATL', 'PIA'), ('ATL', 'DHN'), ('ATL', 'TRI'), ('ATL', 'GNV'), ('ATL', 'FSD'), ('ATL', 'SBN'), ('ATL', 'XNA'), ('ATL', 'MCN'), ('ATL', 'BTR'), ('ATL', 'MYR'), ('ATL', 'PFN'), ('ATL', 'PWM'), ('ATL', 'AVP'), ('ATL', 'CHA'), ('ATL', 'SGF'), ('ATL', 'CHO'), ('ATL', 'FWA'), ('ATL', 'GRR'), ('ATL', 'LYH'), ('ATL', 'ABY'), ('ATL', 'MEI'), ('ATL', 'TOL'), ('ATL', 'ILM'), ('ATL', 'MLU'), ('ATL', 'ABE'), ('ATL', 'MFE'), ('ATL', 'FAY'), ('ATL', 'APF'), ('ATL', 'ILG'), ('ATL', 'ERI'), ('ATL', 'ACY'), ('ATL', 'FNT'), ('ATL', 'VLD'), ('ATL', 'ISO'), ('ATL', 'OAJ'), ('ATL', 'TUP'), ('ATL', 'FLO'), ('ATL', 'CID'), ('ATL', 'MLI'), ('ATL', 'AZO'), ('ATL', 'BGM'), ('ATL', 'BTV'), ('ATL', 'GRK'), ('ATL', 'DSM'), ('ATL', 'BQN'), ('ATL', 'PSE'), ('ATL', 'BMI'), ('ATL', 'SWF'), ('ATL', 'OGG'), ('ATL', 'MTH'), ('ATL', 'SOP'), ('ATL', 'HHH'), ('ATL', 'LWB'), ('ATL', 'ANC'), ('ATL', 'EWN'), ('ATL', 'FCA'), ('ATL', 'FSM'), ('ATL', 'HTS'), ('ATL', 'TVC'), ('ATL', 'SCE'), ('CAE', 'ORD'), ('CAE', 'LGA'), ('CAE', 'CVG'), ('CAE', 'DFW'), ('CAE', 'MEM'), ('ORD', 'BMI'), ('ORD', 'CAK'), ('ORD', 'CHS'), ('ORD', 'CID'), ('ORD', 'CWA'), ('ORD', 'FWA'), ('ORD', 'GRB'), ('ORD', 'GSO'), ('ORD', 'LAN'), ('ORD', 'MBS'), ('ORD', 'MDT'), ('ORD', 'MSN'), ('ORD', 'DSM'), ('ORD', 'ROA'), ('ORD', 'ROC'), ('ORD', 'SAV'), ('ORD', 'SBN'), ('ORD', 'ABE'), ('ORD', 'ATW'), ('ORD', 'FSD'), ('ORD', 'GRR'), ('ORD', 'MLI'), ('ORD', 'DAB'), ('ORD', 'AVP'), ('ORD', 'CVG'), ('ORD', 'JFK'), ('ORD', 'ASE'), ('ORD', 'MKE'), ('ORD', 'COS'), ('ORD', 'MEM'), ('ORD', 'DAY'), ('ORD', 'SGF'), ('ORD', 'SYR'), ('ORD', 'BTV'), ('ORD', 'AZO'), ('ORD', 'FAR'), ('ORD', 'ICT'), ('ORD', 'TVC'), ('ORD', 'PIA'), ('ORD', 'TYS'), ('ORD', 'CRW'), ('ORD', 'LEX'), ('ORD', 'DFW'), ('ORD', 'XNA'), ('ORD', 'LNK'), ('ORD', 'SPI'), ('ORD', 'RAP'), ('ORD', 'BZN'), ('ORD', 'HNL'), ('ORD', 'KOA'), ('ORD', 'OGG'), ('ORD', 'SFO'), ('ORD', 'RIC'), ('ORD', 'MSP'), ('ORD', 'BOS'), ('ORD', 'DCA'), ('ORD', 'LGA'), ('ORD', 'SJU'), ('ORD', 'STT'), ('ORD', 'MIA'), ('ORD', 'FNT'), ('ORD', 'CMI'), ('ORD', 'EVV'), ('ORD', 'RST'), ('ORD', 'MQT'), ('ORD', 'CHA'), ('ORD', 'SWF'), ('ORD', 'LSE'), ('ORD', 'DBQ'), ('ORD', 'HSV'), ('ORD', 'BTR'), ('ORD', 'TOL'), ('ORD', 'HPN'), ('ORD', 'PNS'), ('ORD', 'PSP'), ('ORD', 'EGE'), ('ORD', 'JAC'), ('ORD', 'HDN'), ('ORD', 'MTJ'), ('ORD', 'ANC'), ('ORD', 'LGB'), ('ORD', 'PWM'), ('ORD', 'MOB'), ('ORD', 'SHV'), ('ORD', 'BIL'), ('ORD', 'MSO'), ('ORD', 'FCA'), ('ORD', 'ROW'), ('ORD', 'BGM'), ('ORD', 'CPR'), ('ORD', 'PIH'), ('ORD', 'VPS'), ('ORD', 'RFD'), ('ORD', 'GJT'), ('ORD', 'GPT'), ('MEM', 'CVG'), ('MEM', 'PIA'), ('MEM', 'MIA'), ('MEM', 'MSP'), ('MEM', 'VPS'), ('MEM', 'BOS'), ('MEM', 'DFW'), ('MEM', 'GPT'), ('MEM', 'LGA'), ('MEM', 'DCA'), ('MEM', 'MKE'), ('MEM', 'BTR'), ('MEM', 'SGF'), ('MEM', 'SJU'), ('MEM', 'SHV'), ('MEM', 'XNA'), ('MEM', 'FSM'), ('MEM', 'GSO'), ('MEM', 'MLI'), ('MEM', 'PNS'), ('MEM', 'ICT'), ('MEM', 'MGM'), ('MEM', 'DSM'), ('MEM', 'TYS'), ('MEM', 'RIC'), ('MEM', 'HSV'), ('MEM', 'GRR'), ('MEM', 'PFN'), ('MEM', 'MSN'), ('MEM', 'TLH'), ('MEM', 'CHS'), ('MEM', 'MOB'), ('MEM', 'EVV'), ('MEM', 'CHA'), ('MEM', 'SAV'), ('MEM', 'COS'), ('MEM', 'GJT'), ('MEM', 'SFO'), ('MEM', 'GLH'), ('MEM', 'SBN'), ('SRQ', 'CVG'), ('SRQ', 'JFK'), ('SRQ', 'DCA'), ('SRQ', 'BOS'), ('SRQ', 'MIA'), ('MGM', 'CVG'), ('MGM', 'MKE'), ('MSP', 'CVG'), ('MSP', 'IDA'), ('MSP', 'HNL'), ('MSP', 'LGA'), ('MSP', 'BOS'), ('MSP', 'GRB'), ('MSP', 'GRR'), ('MSP', 'MKE'), ('MSP', 'LSE'), ('MSP', 'GFK'), ('MSP', 'CID'), ('MSP', 'RST'), ('MSP', 'DCA'), ('MSP', 'BIS'), ('MSP', 'DLH'), ('MSP', 'FAR'), ('MSP', 'MSN'), ('MSP', 'SFO'), ('MSP', 'JFK'), ('MSP', 'DFW'), ('MSP', 'FSD'), ('MSP', 'DSM'), ('MSP', 'FNT'), ('MSP', 'MIA'), ('MSP', 'GTF'), ('MSP', 'MBS'), ('MSP', 'MOT'), ('MSP', 'LAN'), ('MSP', 'RAP'), ('MSP', 'BZN'), ('MSP', 'BIL'), ('MSP', 'EGE'), ('MSP', 'ANC'), ('MSP', 'FCA'), ('MSP', 'MSO'), ('MSP', 'ROC'), ('MSP', 'COS'), ('MSP', 'SJU'), ('MSP', 'SGF'), ('MSP', 'TVC'), ('MSP', 'HDN'), ('MSP', 'PSP'), ('MSP', 'AZO'), ('MSP', 'ATW'), ('MSP', 'SUX'), ('MSP', 'SBN'), ('MSP', 'CWA'), ('MSP', 'MDT'), ('MSP', 'AVL'), ('MSP', 'GSO'), ('MSP', 'DAY'), ('MSP', 'CMX'), ('MSP', 'LNK'), ('MSP', 'HLN'), ('MSP', 'HPN'), ('MSP', 'CPR'), ('MSP', 'XNA'), ('MSP', 'TYS'), ('MSP', 'MLI'), ('MSP', 'ICT'), ('MSP', 'RHI'), ('MSP', 'RIC'), ('MSP', 'ALO'), ('MSP', 'MYR'), ('MSP', 'SAV'), ('MSP', 'EAU'), ('MSP', 'CHS'), ('MSP', 'PIA'), ('MSP', 'FAI'), ('MSP', 'JAC'), ('MSP', 'INL'), ('MSP', 'BGR'), ('MSP', 'PWM'), ('MSP', 'BJI'), ('MSP', 'BTV'), ('MSP', 'PIR'), ('GRR', 'CVG'), ('GRR', 'DFW'), ('GRR', 'LGA'), ('GRR', 'DCA'), ('GRR', 'MKE'), ('GRR', 'LAN'), ('CVG', 'DSM'), ('CVG', 'DFW'), ('CVG', 'CID'), ('CVG', 'JFK'), ('CVG', 'GRB'), ('CVG', 'AZO'), ('CVG', 'TYS'), ('CVG', 'LGA'), ('CVG', 'ROA'), ('CVG', 'CHA'), ('CVG', 'MIA'), ('CVG', 'SAV'), ('CVG', 'BOS'), ('CVG', 'SYR'), ('CVG', 'LEX'), ('CVG', 'AVP'), ('CVG', 'SCE'), ('CVG', 'CHS'), ('CVG', 'HPN'), ('CVG', 'BTV'), ('CVG', 'MDT'), ('CVG', 'CAK'), ('CVG', 'PWM'), ('CVG', 'ABE'), ('CVG', 'RIC'), ('CVG', 'GSO'), ('CVG', 'CRW'), ('CVG', 'BGR'), ('CVG', 'CHO'), ('CVG', 'FSD'), ('CVG', 'LAN'), ('CVG', 'ROC'), ('CVG', 'DCA'), ('CVG', 'MSN'), ('CVG', 'HTS'), ('CVG', 'SGF'), ('CVG', 'DAY'), ('CVG', 'HSV'), ('CVG', 'MKE'), ('CVG', 'MYR'), ('CVG', 'COS'), ('CVG', 'ATW'), ('CVG', 'MLB'), ('CVG', 'PFN'), ('CVG', 'SFO'), ('CVG', 'HNL'), ('CVG', 'SJU'), ('CVG', 'JAC'), ('CVG', 'EGE'), ('CVG', 'BTR'), ('CVG', 'SHV'), ('CVG', 'SBN'), ('CVG', 'TRI'), ('CVG', 'FWA'), ('CVG', 'ANC'), ('CVG', 'ILM'), ('CVG', 'TVC'), ('CVG', 'AVL'), ('CVG', 'VPS'), ('CVG', 'MLI'), ('SAV', 'CHS'), ('SAV', 'LGA'), ('SAV', 'DFW'), ('SAV', 'BOS'), ('SAV', 'DCA'), ('SAV', 'JFK'), ('SAV', 'HHH'), ('LRD', 'DFW'), ('GSO', 'LGA'), ('GSO', 'BOS'), ('GSO', 'BTR'), ('GSO', 'JFK'), ('GSO', 'DFW'), ('GSO', 'MIA'), ('GSO', 'DCA'), ('ICT', 'DFW'), ('ICT', 'PIA'), ('LGA', 'RIC'), ('LGA', 'CHS'), ('LGA', 'PWM'), ('LGA', 'TYS'), ('LGA', 'LEX'), ('LGA', 'MLB'), ('LGA', 'DCA'), ('LGA', 'DAB'), ('LGA', 'ACY'), ('LGA', 'JFK'), ('LGA', 'BOS'), ('LGA', 'MIA'), ('LGA', 'CAK'), ('LGA', 'PHF'), ('LGA', 'DSM'), ('LGA', 'XNA'), ('LGA', 'MSN'), ('LGA', 'BGR'), ('LGA', 'DFW'), ('LGA', 'EGE'), ('LGA', 'HDN'), ('LGA', 'STT'), ('LGA', 'AGS'), ('LGA', 'MYR'), ('LGA', 'ABE'), ('LGA', 'TVC'), ('LGA', 'AVP'), ('LGA', 'HSV'), ('LGA', 'TTN'), ('LGA', 'MDT'), ('LGA', 'FNT'), ('LGA', 'VPS'), ('XNA', 'DFW'), ('XNA', 'CYS'), ('XNA', 'COS'), ('XNA', 'MIA'), ('XNA', 'DCA'), ('MSN', 'DFW'), ('MSN', 'MQT'), ('MSN', 'DCA'), ('MSN', 'MLI'), ('MSN', 'RFD'), ('MSN', 'CPR'), ('MSN', 'FSD'), ('MSN', 'BZN'), ('MSN', 'CYS'), ('MSN', 'FAR'), ('MSN', 'MKE'), ('MSN', 'LNK'), ('MSN', 'ATW'), ('MSN', 'PUB'), ('DAY', 'BOS'), ('DAY', 'DFW'), ('DAY', 'CRW'), ('CHS', 'BOS'), ('CHS', 'DFW'), ('CHS', 'MKE'), ('MOB', 'DFW'), ('HPN', 'SYR'), ('HPN', 'AVP'), ('HPN', 'JFK'), ('SYR', 'DCA'), ('SYR', 'DFW'), ('SYR', 'JFK'), ('SYR', 'ROC'), ('MDT', 'JFK'), ('MDT', 'DCA'), ('MDT', 'DFW'), ('PSP', 'SFO'), ('PSP', 'GJT'), ('PSP', 'DFW'), ('PSP', 'PIH'), ('PSP', 'OGD'), ('PSP', 'COS'), ('PSP', 'YUM'), ('BTV', 'JFK'), ('JFK', 'DCA'), ('JFK', 'ROC'), ('JFK', 'BOS'), ('JFK', 'RIC'), ('JFK', 'ABE'), ('JFK', 'SFO'), ('JFK', 'SJU'), ('JFK', 'MIA'), ('JFK', 'STT'), ('JFK', 'DFW'), ('JFK', 'BQN'), ('JFK', 'LGB'), ('JFK', 'PSE'), ('JFK', 'PWM'), ('JFK', 'SWF'), ('JFK', 'AVP'), ('JFK', 'ACY'), ('JFK', 'ACK'), ('JFK', 'BGM'), ('JFK', 'TTN'), ('JFK', 'HDN'), ('PNS', 'DFW'), ('PNS', 'MCN'), ('MFE', 'DFW'), ('BOS', 'PHF'), ('BOS', 'BGR'), ('BOS', 'DCA'), ('BOS', 'TTN'), ('BOS', 'SFO'), ('BOS', 'SJU'), ('BOS', 'CAK'), ('BOS', 'ROC'), ('BOS', 'MIA'), ('BOS', 'DFW'), ('BOS', 'STT'), ('BOS', 'LGB'), ('BOS', 'RIC'), ('BOS', 'MYR'), ('BOS', 'ACY'), ('MLU', 'DFW'), ('BTR', 'DCA'), ('BTR', 'DFW'), ('ROC', 'DFW'), ('GPT', 'DFW'), ('SHV', 'DFW'), ('RIC', 'MIA'), ('RIC', 'DFW'), ('RIC', 'DCA'), ('TYS', 'DFW'), ('TYS', 'TRI'), ('VPS', 'DFW'), ('DFW', 'SFO'), ('DFW', 'TYR'), ('DFW', 'GRK'), ('DFW', 'CLL'), ('DFW', 'ABI'), ('DFW', 'SPS'), ('DFW', 'TXK'), ('DFW', 'LAW'), ('DFW', 'ACT'), ('DFW', 'GGG'), ('DFW', 'SJT'), ('DFW', 'CID'), ('DFW', 'SGF'), ('DFW', 'HSV'), ('DFW', 'FSM'), ('DFW', 'CMI'), ('DFW', 'PIA'), ('DFW', 'CHA'), ('DFW', 'SBA'), ('DFW', 'LEX'), ('DFW', 'MKE'), ('DFW', 'DSM'), ('DFW', 'EVV'), ('DFW', 'MLI'), ('DFW', 'FWA'), ('DFW', 'MTJ'), ('DFW', 'HNL'), ('DFW', 'OGG'), ('DFW', 'DCA'), ('DFW', 'FAT'), ('DFW', 'MIA'), ('DFW', 'SJU'), ('DFW', 'JAC'), ('DFW', 'COS'), ('DFW', 'HDN'), ('DFW', 'EGE'), ('DFW', 'GUC'), ('DFW', 'ANC'), ('DFW', 'FNT'), ('DFW', 'ROW'), ('ABE', 'MKE'), ('MKE', 'TWF'), ('MKE', 'AZO'), ('MKE', 'ATW'), ('MKE', 'LNK'), ('MKE', 'GJT'), ('MKE', 'MKC'), ('MKE', 'SGF'), ('MKE', 'ROA'), ('MKE', 'COS'), ('MKE', 'MCN'), ('MKE', 'MQT'), ('TLH', 'PFN'), ('DCA', 'LEX'), ('DCA', 'HSV'), ('DCA', 'MLB'), ('DCA', 'DSM'), ('DCA', 'MIA'), ('DCA', 'PLN'), ('COS', 'SFO'), ('COS', 'RFD'), ('COS', 'CID'), ('COS', 'MTJ'), ('COS', 'SGF'), ('COS', 'FAR'), ('COS', 'RAP'), ('COS', 'FSD'), ('COS', 'GRB'), ('COS', 'MSO'), ('LEX', 'PIA'), ('MYR', 'ACY'), ('PWM', 'LGB'), ('PWM', 'BGR'), ('DSM', 'PIH'), ('DSM', 'TWF'), ('MTJ', 'FAT'), ('MTJ', 'SGF'), ('MTJ', 'PSC'), ('MTJ', 'PUB'), ('MIA', 'SJU'), ('MIA', 'SFO'), ('MIA', 'STT'), ('MIA', 'STX'), ('MIA', 'EGE'), ('CRW', 'ROA'), ('CRW', 'SPI'), ('ASE', 'SFO'), ('CID', 'FAR'), ('CID', 'RFD'), ('DRO', 'SBA'), ('DRO', 'GJT'), ('GJT', 'IDA'), ('GJT', 'LGB'), ('GJT', 'TWF'), ('GJT', 'MLI'), ('GJT', 'BZN'), ('GJT', 'RFD'), ('GJT', 'MSO'), ('GJT', 'PSC'), ('HDN', 'PIH'), ('JAC', 'IDA'), ('RAP', 'TWF'), ('RAP', 'PIH'), ('RAP', 'GRB'), ('EUG', 'SFO'), ('FAT', 'SFO'), ('FAT', 'MOD'), ('FAT', 'IYK'), ('FAT', 'TWF'), ('FAT', 'LGB'), ('FAT', 'MRY'), ('FAT', 'RDD'), ('GRB', 'MQT'), ('HNL', 'ITO'), ('HNL', 'KOA'), ('HNL', 'LIH'), ('HNL', 'OGG'), ('HNL', 'SFO'), ('HNL', 'ANC'), ('ITO', 'OGG'), ('ITO', 'KOA'), ('KOA', 'OGG'), ('KOA', 'SFO'), ('KOA', 'ANC'), ('LIH', 'SFO'), ('LIH', 'OGG'), ('OGG', 'SFO'), ('OGG', 'ANC'), ('MFR', 'SFO'), ('MFR', 'RDM'), ('MRY', 'SFO'), ('MRY', 'PIH'), ('MRY', 'SBA'), ('MRY', 'LGB'), ('SBA', 'SFO'), ('SBA', 'IDA'), ('SBA', 'TWF'), ('SBA', 'MOD'), ('SBP', 'SFO'), ('SBP', 'SMX'), ('SBN', 'FSD'), ('YUM', 'IPL'), ('FSD', 'RFD'), ('FSD', 'PIH'), ('FSD', 'CYS'), ('SFO', 'CEC'), ('SFO', 'MOD'), ('SFO', 'RDM'), ('SFO', 'CIC'), ('SFO', 'ACV'), ('SFO', 'RDD'), ('SFO', 'SMX'), ('SFO', 'TWF'), ('SFO', 'ANC'), ('SFO', 'PMD'), ('SFO', 'BIL'), ('SFO', 'BZN'), ('SFO', 'PIH'), ('SGF', 'RFD'), ('SGF', 'SPI'), ('SGF', 'LNK'), ('SUN', 'PIH'), ('SUN', 'TWF'), ('PIH', 'SGU'), ('PIH', 'PSC'), ('PIH', 'HLN'), ('PIH', 'EKO'), ('PIH', 'FCA'), ('PIH', 'BZN'), ('PIH', 'BIL'), ('PIH', 'IDA'), ('PIH', 'GTF'), ('TWF', 'HLN'), ('TWF', 'BZN'), ('TWF', 'SGU'), ('TWF', 'BLI'), ('TWF', 'PSC'), ('TWF', 'FCA'), ('TWF', 'LWS'), ('EKO', 'OGD'), ('SGU', 'PVU'), ('CPR', 'MSO'), ('PSC', 'OGD'), ('HLN', 'MSO'), ('IDA', 'MSO'), ('IDA', 'OGD'), ('IDA', 'LWS'), ('IDA', 'BIL'), ('IDA', 'CYS'), ('FCA', 'GTF'), ('CEC', 'ACV'), ('CEC', 'RDD'), ('LNK', 'RFD'), ('TVC', 'MQT'), ('ANC', 'FAI'), ('ANC', 'OME'), ('ANC', 'OTZ'), ('ANC', 'BET'), ('ANC', 'ADQ'), ('ANC', 'JNU'), ('ANC', 'SCC'), ('ANC', 'CDV'), ('ANC', 'AKN'), ('ANC', 'DLG'), ('ANC', 'ADK'), ('ANC', 'BRW'), ('SJU', 'STT'), ('FAI', 'BRW'), ('FAI', 'SCC'), ('OTZ', 'OME'), ('SIT', 'KTN'), ('SIT', 'JNU'), ('KTN', 'JNU'), ('KTN', 'WRG'), ('JNU', 'PSG'), ('JNU', 'YAK'), ('JNU', 'GST'), ('SCC', 'BRW'), ('WRG', 'PSG'), ('YAK', 'CDV'), ('AKN', 'ADK'), ('AKN', 'DLG')])"
      ]
     },
     "execution_count": 16,
     "metadata": {},
     "output_type": "execute_result"
    }
   ],
   "source": [
    "degree = networkx."
   ]
  },
  {
   "cell_type": "code",
   "execution_count": 10,
   "metadata": {},
   "outputs": [],
   "source": [
    "FlightsNx = Flights[[\"Origin\",\"Dest\",\"Distance\"]]"
   ]
  },
  {
   "cell_type": "code",
   "execution_count": 11,
   "metadata": {},
   "outputs": [
    {
     "data": {
      "text/html": [
       "<div>\n",
       "<style scoped>\n",
       "    .dataframe tbody tr th:only-of-type {\n",
       "        vertical-align: middle;\n",
       "    }\n",
       "\n",
       "    .dataframe tbody tr th {\n",
       "        vertical-align: top;\n",
       "    }\n",
       "\n",
       "    .dataframe thead th {\n",
       "        text-align: right;\n",
       "    }\n",
       "</style>\n",
       "<table border=\"1\" class=\"dataframe\">\n",
       "  <thead>\n",
       "    <tr style=\"text-align: right;\">\n",
       "      <th></th>\n",
       "      <th>Origin</th>\n",
       "      <th>Dest</th>\n",
       "      <th>Distance</th>\n",
       "    </tr>\n",
       "  </thead>\n",
       "  <tbody>\n",
       "    <tr>\n",
       "      <th>0</th>\n",
       "      <td>SMF</td>\n",
       "      <td>ONT</td>\n",
       "      <td>389</td>\n",
       "    </tr>\n",
       "    <tr>\n",
       "      <th>1</th>\n",
       "      <td>SMF</td>\n",
       "      <td>PDX</td>\n",
       "      <td>479</td>\n",
       "    </tr>\n",
       "    <tr>\n",
       "      <th>2</th>\n",
       "      <td>SMF</td>\n",
       "      <td>PDX</td>\n",
       "      <td>479</td>\n",
       "    </tr>\n",
       "    <tr>\n",
       "      <th>3</th>\n",
       "      <td>SMF</td>\n",
       "      <td>PDX</td>\n",
       "      <td>479</td>\n",
       "    </tr>\n",
       "    <tr>\n",
       "      <th>4</th>\n",
       "      <td>SMF</td>\n",
       "      <td>PDX</td>\n",
       "      <td>479</td>\n",
       "    </tr>\n",
       "  </tbody>\n",
       "</table>\n",
       "</div>"
      ],
      "text/plain": [
       "  Origin Dest  Distance\n",
       "0    SMF  ONT       389\n",
       "1    SMF  PDX       479\n",
       "2    SMF  PDX       479\n",
       "3    SMF  PDX       479\n",
       "4    SMF  PDX       479"
      ]
     },
     "execution_count": 11,
     "metadata": {},
     "output_type": "execute_result"
    }
   ],
   "source": [
    "FlightsNx.head()"
   ]
  },
  {
   "cell_type": "code",
   "execution_count": 9,
   "metadata": {},
   "outputs": [
    {
     "data": {
      "text/plain": [
       "Index(['Year', 'Month', 'DayofMonth', 'DayOfWeek', 'DepTime', 'CRSDepTime',\n",
       "       'ArrTime', 'CRSArrTime', 'UniqueCarrier', 'FlightNum', 'TailNum',\n",
       "       'ActualElapsedTime', 'CRSElapsedTime', 'AirTime', 'ArrDelay',\n",
       "       'DepDelay', 'Origin', 'Dest', 'Distance', 'TaxiIn', 'TaxiOut',\n",
       "       'Cancelled', 'CancellationCode', 'Diverted', 'CarrierDelay',\n",
       "       'WeatherDelay', 'NASDelay', 'SecurityDelay', 'LateAircraftDelay'],\n",
       "      dtype='object')"
      ]
     },
     "execution_count": 9,
     "metadata": {},
     "output_type": "execute_result"
    }
   ],
   "source": [
    "Flights.columns"
   ]
  },
  {
   "cell_type": "code",
   "execution_count": 7,
   "metadata": {},
   "outputs": [
    {
     "data": {
      "text/html": [
       "<div>\n",
       "<style scoped>\n",
       "    .dataframe tbody tr th:only-of-type {\n",
       "        vertical-align: middle;\n",
       "    }\n",
       "\n",
       "    .dataframe tbody tr th {\n",
       "        vertical-align: top;\n",
       "    }\n",
       "\n",
       "    .dataframe thead th {\n",
       "        text-align: right;\n",
       "    }\n",
       "</style>\n",
       "<table border=\"1\" class=\"dataframe\">\n",
       "  <thead>\n",
       "    <tr style=\"text-align: right;\">\n",
       "      <th></th>\n",
       "      <th>Year</th>\n",
       "      <th>Month</th>\n",
       "      <th>DayofMonth</th>\n",
       "      <th>DayOfWeek</th>\n",
       "      <th>DepTime</th>\n",
       "      <th>CRSDepTime</th>\n",
       "      <th>ArrTime</th>\n",
       "      <th>CRSArrTime</th>\n",
       "      <th>UniqueCarrier</th>\n",
       "      <th>FlightNum</th>\n",
       "      <th>...</th>\n",
       "      <th>TaxiIn</th>\n",
       "      <th>TaxiOut</th>\n",
       "      <th>Cancelled</th>\n",
       "      <th>CancellationCode</th>\n",
       "      <th>Diverted</th>\n",
       "      <th>CarrierDelay</th>\n",
       "      <th>WeatherDelay</th>\n",
       "      <th>NASDelay</th>\n",
       "      <th>SecurityDelay</th>\n",
       "      <th>LateAircraftDelay</th>\n",
       "    </tr>\n",
       "  </thead>\n",
       "  <tbody>\n",
       "    <tr>\n",
       "      <th>0</th>\n",
       "      <td>2007</td>\n",
       "      <td>1</td>\n",
       "      <td>1</td>\n",
       "      <td>1</td>\n",
       "      <td>1232.0</td>\n",
       "      <td>1225</td>\n",
       "      <td>1341.0</td>\n",
       "      <td>1340</td>\n",
       "      <td>WN</td>\n",
       "      <td>2891</td>\n",
       "      <td>...</td>\n",
       "      <td>4</td>\n",
       "      <td>11</td>\n",
       "      <td>0</td>\n",
       "      <td>NaN</td>\n",
       "      <td>0</td>\n",
       "      <td>0</td>\n",
       "      <td>0</td>\n",
       "      <td>0</td>\n",
       "      <td>0</td>\n",
       "      <td>0</td>\n",
       "    </tr>\n",
       "    <tr>\n",
       "      <th>1</th>\n",
       "      <td>2007</td>\n",
       "      <td>1</td>\n",
       "      <td>1</td>\n",
       "      <td>1</td>\n",
       "      <td>1918.0</td>\n",
       "      <td>1905</td>\n",
       "      <td>2043.0</td>\n",
       "      <td>2035</td>\n",
       "      <td>WN</td>\n",
       "      <td>462</td>\n",
       "      <td>...</td>\n",
       "      <td>5</td>\n",
       "      <td>6</td>\n",
       "      <td>0</td>\n",
       "      <td>NaN</td>\n",
       "      <td>0</td>\n",
       "      <td>0</td>\n",
       "      <td>0</td>\n",
       "      <td>0</td>\n",
       "      <td>0</td>\n",
       "      <td>0</td>\n",
       "    </tr>\n",
       "    <tr>\n",
       "      <th>2</th>\n",
       "      <td>2007</td>\n",
       "      <td>1</td>\n",
       "      <td>1</td>\n",
       "      <td>1</td>\n",
       "      <td>2206.0</td>\n",
       "      <td>2130</td>\n",
       "      <td>2334.0</td>\n",
       "      <td>2300</td>\n",
       "      <td>WN</td>\n",
       "      <td>1229</td>\n",
       "      <td>...</td>\n",
       "      <td>6</td>\n",
       "      <td>9</td>\n",
       "      <td>0</td>\n",
       "      <td>NaN</td>\n",
       "      <td>0</td>\n",
       "      <td>3</td>\n",
       "      <td>0</td>\n",
       "      <td>0</td>\n",
       "      <td>0</td>\n",
       "      <td>31</td>\n",
       "    </tr>\n",
       "    <tr>\n",
       "      <th>3</th>\n",
       "      <td>2007</td>\n",
       "      <td>1</td>\n",
       "      <td>1</td>\n",
       "      <td>1</td>\n",
       "      <td>1230.0</td>\n",
       "      <td>1200</td>\n",
       "      <td>1356.0</td>\n",
       "      <td>1330</td>\n",
       "      <td>WN</td>\n",
       "      <td>1355</td>\n",
       "      <td>...</td>\n",
       "      <td>3</td>\n",
       "      <td>8</td>\n",
       "      <td>0</td>\n",
       "      <td>NaN</td>\n",
       "      <td>0</td>\n",
       "      <td>23</td>\n",
       "      <td>0</td>\n",
       "      <td>0</td>\n",
       "      <td>0</td>\n",
       "      <td>3</td>\n",
       "    </tr>\n",
       "    <tr>\n",
       "      <th>4</th>\n",
       "      <td>2007</td>\n",
       "      <td>1</td>\n",
       "      <td>1</td>\n",
       "      <td>1</td>\n",
       "      <td>831.0</td>\n",
       "      <td>830</td>\n",
       "      <td>957.0</td>\n",
       "      <td>1000</td>\n",
       "      <td>WN</td>\n",
       "      <td>2278</td>\n",
       "      <td>...</td>\n",
       "      <td>3</td>\n",
       "      <td>9</td>\n",
       "      <td>0</td>\n",
       "      <td>NaN</td>\n",
       "      <td>0</td>\n",
       "      <td>0</td>\n",
       "      <td>0</td>\n",
       "      <td>0</td>\n",
       "      <td>0</td>\n",
       "      <td>0</td>\n",
       "    </tr>\n",
       "  </tbody>\n",
       "</table>\n",
       "<p>5 rows × 29 columns</p>\n",
       "</div>"
      ],
      "text/plain": [
       "   Year  Month  DayofMonth  DayOfWeek  DepTime  CRSDepTime  ArrTime  \\\n",
       "0  2007      1           1          1   1232.0        1225   1341.0   \n",
       "1  2007      1           1          1   1918.0        1905   2043.0   \n",
       "2  2007      1           1          1   2206.0        2130   2334.0   \n",
       "3  2007      1           1          1   1230.0        1200   1356.0   \n",
       "4  2007      1           1          1    831.0         830    957.0   \n",
       "\n",
       "   CRSArrTime UniqueCarrier  FlightNum        ...         TaxiIn  TaxiOut  \\\n",
       "0        1340            WN       2891        ...              4       11   \n",
       "1        2035            WN        462        ...              5        6   \n",
       "2        2300            WN       1229        ...              6        9   \n",
       "3        1330            WN       1355        ...              3        8   \n",
       "4        1000            WN       2278        ...              3        9   \n",
       "\n",
       "   Cancelled  CancellationCode  Diverted  CarrierDelay WeatherDelay NASDelay  \\\n",
       "0          0               NaN         0             0            0        0   \n",
       "1          0               NaN         0             0            0        0   \n",
       "2          0               NaN         0             3            0        0   \n",
       "3          0               NaN         0            23            0        0   \n",
       "4          0               NaN         0             0            0        0   \n",
       "\n",
       "   SecurityDelay  LateAircraftDelay  \n",
       "0              0                  0  \n",
       "1              0                  0  \n",
       "2              0                 31  \n",
       "3              0                  3  \n",
       "4              0                  0  \n",
       "\n",
       "[5 rows x 29 columns]"
      ]
     },
     "execution_count": 7,
     "metadata": {},
     "output_type": "execute_result"
    }
   ],
   "source": [
    "Flights.head()"
   ]
  },
  {
   "cell_type": "code",
   "execution_count": 21,
   "metadata": {},
   "outputs": [],
   "source": [
    "Flights = pd.read_csv(\"StatComputing2007.csv\")\n",
    "Airports = pd.read_csv(\"StatCompAirports.csv\")"
   ]
  },
  {
   "cell_type": "code",
   "execution_count": 22,
   "metadata": {},
   "outputs": [],
   "source": [
    "Flights.to_pickle(\"Flights.pkl\") # Kan ikke committes til Github (>100 MB)\n",
    "Airports.to_pickle(\"USAirports.pkl\")"
   ]
  },
  {
   "cell_type": "code",
   "execution_count": 4,
   "metadata": {},
   "outputs": [
    {
     "data": {
      "text/html": [
       "<div>\n",
       "<style scoped>\n",
       "    .dataframe tbody tr th:only-of-type {\n",
       "        vertical-align: middle;\n",
       "    }\n",
       "\n",
       "    .dataframe tbody tr th {\n",
       "        vertical-align: top;\n",
       "    }\n",
       "\n",
       "    .dataframe thead th {\n",
       "        text-align: right;\n",
       "    }\n",
       "</style>\n",
       "<table border=\"1\" class=\"dataframe\">\n",
       "  <thead>\n",
       "    <tr style=\"text-align: right;\">\n",
       "      <th></th>\n",
       "      <th>Airport_id</th>\n",
       "      <th>Name</th>\n",
       "      <th>City</th>\n",
       "      <th>Country</th>\n",
       "      <th>3DigitId</th>\n",
       "      <th>4DigitId</th>\n",
       "      <th>Lat</th>\n",
       "      <th>Lon</th>\n",
       "      <th>Altitude_ft</th>\n",
       "      <th>Type</th>\n",
       "      <th>Coordinates</th>\n",
       "      <th>Connected</th>\n",
       "    </tr>\n",
       "  </thead>\n",
       "  <tbody>\n",
       "    <tr>\n",
       "      <th>0</th>\n",
       "      <td>1</td>\n",
       "      <td>Goroka Airport</td>\n",
       "      <td>Goroka</td>\n",
       "      <td>Papua New Guinea</td>\n",
       "      <td>GKA</td>\n",
       "      <td>AYGA</td>\n",
       "      <td>-6.081690</td>\n",
       "      <td>145.391998</td>\n",
       "      <td>5282</td>\n",
       "      <td>airport</td>\n",
       "      <td>POINT (145.391998291 -6.081689834590001)</td>\n",
       "      <td>True</td>\n",
       "    </tr>\n",
       "    <tr>\n",
       "      <th>1</th>\n",
       "      <td>2</td>\n",
       "      <td>Madang Airport</td>\n",
       "      <td>Madang</td>\n",
       "      <td>Papua New Guinea</td>\n",
       "      <td>MAG</td>\n",
       "      <td>AYMD</td>\n",
       "      <td>-5.207080</td>\n",
       "      <td>145.789001</td>\n",
       "      <td>20</td>\n",
       "      <td>airport</td>\n",
       "      <td>POINT (145.789001465 -5.20707988739)</td>\n",
       "      <td>True</td>\n",
       "    </tr>\n",
       "    <tr>\n",
       "      <th>2</th>\n",
       "      <td>3</td>\n",
       "      <td>Mount Hagen Kagamuga Airport</td>\n",
       "      <td>Mount Hagen</td>\n",
       "      <td>Papua New Guinea</td>\n",
       "      <td>HGU</td>\n",
       "      <td>AYMH</td>\n",
       "      <td>-5.826790</td>\n",
       "      <td>144.296005</td>\n",
       "      <td>5388</td>\n",
       "      <td>airport</td>\n",
       "      <td>POINT (144.2960052490234 -5.826789855957031)</td>\n",
       "      <td>True</td>\n",
       "    </tr>\n",
       "    <tr>\n",
       "      <th>3</th>\n",
       "      <td>4</td>\n",
       "      <td>Nadzab Airport</td>\n",
       "      <td>Nadzab</td>\n",
       "      <td>Papua New Guinea</td>\n",
       "      <td>LAE</td>\n",
       "      <td>AYNZ</td>\n",
       "      <td>-6.569803</td>\n",
       "      <td>146.725977</td>\n",
       "      <td>239</td>\n",
       "      <td>airport</td>\n",
       "      <td>POINT (146.725977 -6.569803)</td>\n",
       "      <td>True</td>\n",
       "    </tr>\n",
       "    <tr>\n",
       "      <th>4</th>\n",
       "      <td>5</td>\n",
       "      <td>Port Moresby Jacksons International Airport</td>\n",
       "      <td>Port Moresby</td>\n",
       "      <td>Papua New Guinea</td>\n",
       "      <td>POM</td>\n",
       "      <td>AYPY</td>\n",
       "      <td>-9.443380</td>\n",
       "      <td>147.220001</td>\n",
       "      <td>146</td>\n",
       "      <td>airport</td>\n",
       "      <td>POINT (147.2200012207031 -9.443380355834961)</td>\n",
       "      <td>True</td>\n",
       "    </tr>\n",
       "  </tbody>\n",
       "</table>\n",
       "</div>"
      ],
      "text/plain": [
       "  Airport_id                                         Name          City  \\\n",
       "0          1                               Goroka Airport        Goroka   \n",
       "1          2                               Madang Airport        Madang   \n",
       "2          3                 Mount Hagen Kagamuga Airport   Mount Hagen   \n",
       "3          4                               Nadzab Airport        Nadzab   \n",
       "4          5  Port Moresby Jacksons International Airport  Port Moresby   \n",
       "\n",
       "            Country 3DigitId 4DigitId       Lat         Lon  Altitude_ft  \\\n",
       "0  Papua New Guinea      GKA     AYGA -6.081690  145.391998         5282   \n",
       "1  Papua New Guinea      MAG     AYMD -5.207080  145.789001           20   \n",
       "2  Papua New Guinea      HGU     AYMH -5.826790  144.296005         5388   \n",
       "3  Papua New Guinea      LAE     AYNZ -6.569803  146.725977          239   \n",
       "4  Papua New Guinea      POM     AYPY -9.443380  147.220001          146   \n",
       "\n",
       "      Type                                   Coordinates  Connected  \n",
       "0  airport      POINT (145.391998291 -6.081689834590001)       True  \n",
       "1  airport          POINT (145.789001465 -5.20707988739)       True  \n",
       "2  airport  POINT (144.2960052490234 -5.826789855957031)       True  \n",
       "3  airport                  POINT (146.725977 -6.569803)       True  \n",
       "4  airport  POINT (147.2200012207031 -9.443380355834961)       True  "
      ]
     },
     "execution_count": 4,
     "metadata": {},
     "output_type": "execute_result"
    }
   ],
   "source": [
    "Airports.head()"
   ]
  },
  {
   "cell_type": "code",
   "execution_count": 2,
   "metadata": {},
   "outputs": [],
   "source": [
    "Flights = pd.read_pickle(\"Flights.pkl\")\n",
    "Airports = pd.read_pickle(\"Airports.pkl\")"
   ]
  },
  {
   "cell_type": "markdown",
   "metadata": {},
   "source": [
    "## Basic Description of dataset\n",
    "Data can be downloaded at: http://stat-computing.org/dataexpo/2009/the-data.html  \n",
    "Variable descriptions are also shown at that url.  \n",
    "As shown below, there are 7453215 observations of 29 variables.  \n",
    "All variable names can be seen below.  \n",
    "The dataset has 304 unique departure airports (relatively few?) and 310 unique destination airports. "
   ]
  },
  {
   "cell_type": "code",
   "execution_count": 6,
   "metadata": {},
   "outputs": [
    {
     "name": "stdout",
     "output_type": "stream",
     "text": [
      "(7453215, 29)\n",
      "Index(['Year', 'Month', 'DayofMonth', 'DayOfWeek', 'DepTime', 'CRSDepTime',\n",
      "       'ArrTime', 'CRSArrTime', 'UniqueCarrier', 'FlightNum', 'TailNum',\n",
      "       'ActualElapsedTime', 'CRSElapsedTime', 'AirTime', 'ArrDelay',\n",
      "       'DepDelay', 'Origin', 'Dest', 'Distance', 'TaxiIn', 'TaxiOut',\n",
      "       'Cancelled', 'CancellationCode', 'Diverted', 'CarrierDelay',\n",
      "       'WeatherDelay', 'NASDelay', 'SecurityDelay', 'LateAircraftDelay'],\n",
      "      dtype='object')\n"
     ]
    }
   ],
   "source": [
    "print(Flights.shape)\n",
    "print(Flights.columns)"
   ]
  },
  {
   "cell_type": "code",
   "execution_count": 25,
   "metadata": {},
   "outputs": [
    {
     "data": {
      "text/html": [
       "<div>\n",
       "<style scoped>\n",
       "    .dataframe tbody tr th:only-of-type {\n",
       "        vertical-align: middle;\n",
       "    }\n",
       "\n",
       "    .dataframe tbody tr th {\n",
       "        vertical-align: top;\n",
       "    }\n",
       "\n",
       "    .dataframe thead th {\n",
       "        text-align: right;\n",
       "    }\n",
       "</style>\n",
       "<table border=\"1\" class=\"dataframe\">\n",
       "  <thead>\n",
       "    <tr style=\"text-align: right;\">\n",
       "      <th></th>\n",
       "      <th>Year</th>\n",
       "      <th>Month</th>\n",
       "      <th>DayofMonth</th>\n",
       "      <th>DayOfWeek</th>\n",
       "      <th>DepTime</th>\n",
       "      <th>UniqueCarrier</th>\n",
       "      <th>Origin</th>\n",
       "      <th>Dest</th>\n",
       "      <th>Distance</th>\n",
       "    </tr>\n",
       "  </thead>\n",
       "  <tbody>\n",
       "    <tr>\n",
       "      <th>0</th>\n",
       "      <td>2007</td>\n",
       "      <td>1</td>\n",
       "      <td>1</td>\n",
       "      <td>1</td>\n",
       "      <td>1232.0</td>\n",
       "      <td>WN</td>\n",
       "      <td>SMF</td>\n",
       "      <td>ONT</td>\n",
       "      <td>389</td>\n",
       "    </tr>\n",
       "    <tr>\n",
       "      <th>1</th>\n",
       "      <td>2007</td>\n",
       "      <td>1</td>\n",
       "      <td>1</td>\n",
       "      <td>1</td>\n",
       "      <td>1918.0</td>\n",
       "      <td>WN</td>\n",
       "      <td>SMF</td>\n",
       "      <td>PDX</td>\n",
       "      <td>479</td>\n",
       "    </tr>\n",
       "    <tr>\n",
       "      <th>2</th>\n",
       "      <td>2007</td>\n",
       "      <td>1</td>\n",
       "      <td>1</td>\n",
       "      <td>1</td>\n",
       "      <td>2206.0</td>\n",
       "      <td>WN</td>\n",
       "      <td>SMF</td>\n",
       "      <td>PDX</td>\n",
       "      <td>479</td>\n",
       "    </tr>\n",
       "    <tr>\n",
       "      <th>3</th>\n",
       "      <td>2007</td>\n",
       "      <td>1</td>\n",
       "      <td>1</td>\n",
       "      <td>1</td>\n",
       "      <td>1230.0</td>\n",
       "      <td>WN</td>\n",
       "      <td>SMF</td>\n",
       "      <td>PDX</td>\n",
       "      <td>479</td>\n",
       "    </tr>\n",
       "    <tr>\n",
       "      <th>4</th>\n",
       "      <td>2007</td>\n",
       "      <td>1</td>\n",
       "      <td>1</td>\n",
       "      <td>1</td>\n",
       "      <td>831.0</td>\n",
       "      <td>WN</td>\n",
       "      <td>SMF</td>\n",
       "      <td>PDX</td>\n",
       "      <td>479</td>\n",
       "    </tr>\n",
       "  </tbody>\n",
       "</table>\n",
       "</div>"
      ],
      "text/plain": [
       "   Year  Month  DayofMonth  DayOfWeek  DepTime UniqueCarrier Origin Dest  \\\n",
       "0  2007      1           1          1   1232.0            WN    SMF  ONT   \n",
       "1  2007      1           1          1   1918.0            WN    SMF  PDX   \n",
       "2  2007      1           1          1   2206.0            WN    SMF  PDX   \n",
       "3  2007      1           1          1   1230.0            WN    SMF  PDX   \n",
       "4  2007      1           1          1    831.0            WN    SMF  PDX   \n",
       "\n",
       "   Distance  \n",
       "0       389  \n",
       "1       479  \n",
       "2       479  \n",
       "3       479  \n",
       "4       479  "
      ]
     },
     "execution_count": 25,
     "metadata": {},
     "output_type": "execute_result"
    }
   ],
   "source": [
    "# Choose columns to keep in the Flights data:\n",
    "Flights = Flights[[\"Year\",\"Month\",\"DayofMonth\",\"DayOfWeek\",\"DepTime\",\"UniqueCarrier\",\"Origin\",\"Dest\",\"Distance\"]]\n",
    "Flights.head()"
   ]
  },
  {
   "cell_type": "code",
   "execution_count": 26,
   "metadata": {},
   "outputs": [
    {
     "name": "stdout",
     "output_type": "stream",
     "text": [
      "There are 304 unique departure airports in the dataset\n",
      "There are 310 unique destination airports in the dataset\n",
      "There are 5342 unique journeys in the dataset\n"
     ]
    }
   ],
   "source": [
    "print('There are {} unique departure airports in the dataset'.format(Flights.Origin.nunique()))\n",
    "print('There are {} unique destination airports in the dataset'.format(Flights.Dest.nunique()))\n",
    "Flights[\"Journey\"] = Flights[\"Origin\"]+Flights[\"Dest\"]\n",
    "print('There are {} unique journeys in the dataset'.format(Flights.Journey.nunique()))"
   ]
  },
  {
   "cell_type": "code",
   "execution_count": 9,
   "metadata": {},
   "outputs": [
    {
     "data": {
      "text/plain": [
       "(array([3.336772e+06, 2.479204e+06, 8.746700e+05, 4.184940e+05,\n",
       "        2.453590e+05, 8.660700e+04, 3.601000e+03, 3.648000e+03,\n",
       "        2.910000e+03, 1.950000e+03]),\n",
       " array([  11. ,  506.1, 1001.2, 1496.3, 1991.4, 2486.5, 2981.6, 3476.7,\n",
       "        3971.8, 4466.9, 4962. ]),\n",
       " <a list of 10 Patch objects>)"
      ]
     },
     "execution_count": 9,
     "metadata": {},
     "output_type": "execute_result"
    },
    {
     "data": {
      "image/png": "[encoded data removed]",
      "text/plain": [
       "<Figure size 432x288 with 1 Axes>"
      ]
     },
     "metadata": {
      "needs_background": "light"
     },
     "output_type": "display_data"
    }
   ],
   "source": [
    "plt.hist(Flights.Distance)"
   ]
  },
  {
   "cell_type": "code",
   "execution_count": 10,
   "metadata": {},
   "outputs": [],
   "source": [
    "# Number of flights from each airport: \n",
    "# Not actually degree, since it counts the same link many times. \n",
    "degree_tab = pd.crosstab(index = Flights[\"Origin\"], columns = \"count\")"
   ]
  },
  {
   "cell_type": "code",
   "execution_count": 11,
   "metadata": {},
   "outputs": [
    {
     "data": {
      "text/html": [
       "<div>\n",
       "<style scoped>\n",
       "    .dataframe tbody tr th:only-of-type {\n",
       "        vertical-align: middle;\n",
       "    }\n",
       "\n",
       "    .dataframe tbody tr th {\n",
       "        vertical-align: top;\n",
       "    }\n",
       "\n",
       "    .dataframe thead th {\n",
       "        text-align: right;\n",
       "    }\n",
       "</style>\n",
       "<table border=\"1\" class=\"dataframe\">\n",
       "  <thead>\n",
       "    <tr style=\"text-align: right;\">\n",
       "      <th>col_0</th>\n",
       "      <th>count</th>\n",
       "      <th>fraction</th>\n",
       "    </tr>\n",
       "    <tr>\n",
       "      <th>Origin</th>\n",
       "      <th></th>\n",
       "      <th></th>\n",
       "    </tr>\n",
       "  </thead>\n",
       "  <tbody>\n",
       "    <tr>\n",
       "      <th>ABE</th>\n",
       "      <td>5701</td>\n",
       "      <td>0.000765</td>\n",
       "    </tr>\n",
       "    <tr>\n",
       "      <th>ABI</th>\n",
       "      <td>2836</td>\n",
       "      <td>0.000381</td>\n",
       "    </tr>\n",
       "    <tr>\n",
       "      <th>ABQ</th>\n",
       "      <td>41161</td>\n",
       "      <td>0.005523</td>\n",
       "    </tr>\n",
       "    <tr>\n",
       "      <th>ABY</th>\n",
       "      <td>1312</td>\n",
       "      <td>0.000176</td>\n",
       "    </tr>\n",
       "    <tr>\n",
       "      <th>ACK</th>\n",
       "      <td>314</td>\n",
       "      <td>0.000042</td>\n",
       "    </tr>\n",
       "  </tbody>\n",
       "</table>\n",
       "</div>"
      ],
      "text/plain": [
       "col_0   count  fraction\n",
       "Origin                 \n",
       "ABE      5701  0.000765\n",
       "ABI      2836  0.000381\n",
       "ABQ     41161  0.005523\n",
       "ABY      1312  0.000176\n",
       "ACK       314  0.000042"
      ]
     },
     "execution_count": 11,
     "metadata": {},
     "output_type": "execute_result"
    }
   ],
   "source": [
    "# Share of flights:\n",
    "degree_tab[\"fraction\"] = degree_tab[\"count\"]/Flights.shape[0]\n",
    "degree_tab.head()"
   ]
  },
  {
   "cell_type": "code",
   "execution_count": 12,
   "metadata": {},
   "outputs": [
    {
     "data": {
      "text/plain": [
       "(array([256.,  21.,  10.,   8.,   3.,   3.,   0.,   1.,   0.,   2.]),\n",
       " array([1.00000e+00, 4.13860e+04, 8.27710e+04, 1.24156e+05, 1.65541e+05,\n",
       "        2.06926e+05, 2.48311e+05, 2.89696e+05, 3.31081e+05, 3.72466e+05,\n",
       "        4.13851e+05]),\n",
       " <a list of 10 Patch objects>)"
      ]
     },
     "execution_count": 12,
     "metadata": {},
     "output_type": "execute_result"
    },
    {
     "data": {
      "image/png": "[encoded data removed]",
      "text/plain": [
       "<Figure size 432x288 with 1 Axes>"
      ]
     },
     "metadata": {
      "needs_background": "light"
     },
     "output_type": "display_data"
    }
   ],
   "source": [
    "plt.hist(degree_tab[\"count\"])"
   ]
  },
  {
   "cell_type": "markdown",
   "metadata": {},
   "source": [
    "### US Airports"
   ]
  },
  {
   "cell_type": "code",
   "execution_count": 13,
   "metadata": {},
   "outputs": [
    {
     "name": "stdout",
     "output_type": "stream",
     "text": [
      "(7543, 12)\n"
     ]
    },
    {
     "ename": "AttributeError",
     "evalue": "'GeoDataFrame' object has no attribute 'iata'",
     "output_type": "error",
     "traceback": [
      "\u001b[1;31m---------------------------------------------------------------------------\u001b[0m",
      "\u001b[1;31mAttributeError\u001b[0m                            Traceback (most recent call last)",
      "\u001b[1;32m<ipython-input-13-7e35507ea9e3>\u001b[0m in \u001b[0;36m<module>\u001b[1;34m\u001b[0m\n\u001b[0;32m      1\u001b[0m \u001b[0mprint\u001b[0m\u001b[1;33m(\u001b[0m\u001b[0mAirports\u001b[0m\u001b[1;33m.\u001b[0m\u001b[0mshape\u001b[0m\u001b[1;33m)\u001b[0m\u001b[1;33m\u001b[0m\u001b[1;33m\u001b[0m\u001b[0m\n\u001b[1;32m----> 2\u001b[1;33m \u001b[0mprint\u001b[0m\u001b[1;33m(\u001b[0m\u001b[0mAirports\u001b[0m\u001b[1;33m.\u001b[0m\u001b[0miata\u001b[0m\u001b[1;33m.\u001b[0m\u001b[0mnunique\u001b[0m\u001b[1;33m(\u001b[0m\u001b[1;33m)\u001b[0m\u001b[1;33m)\u001b[0m\u001b[1;33m\u001b[0m\u001b[1;33m\u001b[0m\u001b[0m\n\u001b[0m\u001b[0;32m      3\u001b[0m \u001b[0mAirports\u001b[0m\u001b[1;33m.\u001b[0m\u001b[0mhead\u001b[0m\u001b[1;33m(\u001b[0m\u001b[1;33m)\u001b[0m\u001b[1;33m\u001b[0m\u001b[1;33m\u001b[0m\u001b[0m\n",
      "\u001b[1;32m~\\Anaconda3\\lib\\site-packages\\pandas\\core\\generic.py\u001b[0m in \u001b[0;36m__getattr__\u001b[1;34m(self, name)\u001b[0m\n\u001b[0;32m   4374\u001b[0m             \u001b[1;32mif\u001b[0m \u001b[0mself\u001b[0m\u001b[1;33m.\u001b[0m\u001b[0m_info_axis\u001b[0m\u001b[1;33m.\u001b[0m\u001b[0m_can_hold_identifiers_and_holds_name\u001b[0m\u001b[1;33m(\u001b[0m\u001b[0mname\u001b[0m\u001b[1;33m)\u001b[0m\u001b[1;33m:\u001b[0m\u001b[1;33m\u001b[0m\u001b[1;33m\u001b[0m\u001b[0m\n\u001b[0;32m   4375\u001b[0m                 \u001b[1;32mreturn\u001b[0m \u001b[0mself\u001b[0m\u001b[1;33m[\u001b[0m\u001b[0mname\u001b[0m\u001b[1;33m]\u001b[0m\u001b[1;33m\u001b[0m\u001b[1;33m\u001b[0m\u001b[0m\n\u001b[1;32m-> 4376\u001b[1;33m             \u001b[1;32mreturn\u001b[0m \u001b[0mobject\u001b[0m\u001b[1;33m.\u001b[0m\u001b[0m__getattribute__\u001b[0m\u001b[1;33m(\u001b[0m\u001b[0mself\u001b[0m\u001b[1;33m,\u001b[0m \u001b[0mname\u001b[0m\u001b[1;33m)\u001b[0m\u001b[1;33m\u001b[0m\u001b[1;33m\u001b[0m\u001b[0m\n\u001b[0m\u001b[0;32m   4377\u001b[0m \u001b[1;33m\u001b[0m\u001b[0m\n\u001b[0;32m   4378\u001b[0m     \u001b[1;32mdef\u001b[0m \u001b[0m__setattr__\u001b[0m\u001b[1;33m(\u001b[0m\u001b[0mself\u001b[0m\u001b[1;33m,\u001b[0m \u001b[0mname\u001b[0m\u001b[1;33m,\u001b[0m \u001b[0mvalue\u001b[0m\u001b[1;33m)\u001b[0m\u001b[1;33m:\u001b[0m\u001b[1;33m\u001b[0m\u001b[1;33m\u001b[0m\u001b[0m\n",
      "\u001b[1;31mAttributeError\u001b[0m: 'GeoDataFrame' object has no attribute 'iata'"
     ]
    }
   ],
   "source": [
    "print(Airports.shape)\n",
    "print(Airports.iata.nunique())\n",
    "Airports.head()"
   ]
  },
  {
   "cell_type": "code",
   "execution_count": 19,
   "metadata": {},
   "outputs": [
    {
     "ename": "AttributeError",
     "evalue": "'GeoDataFrame' object has no attribute 'long'",
     "output_type": "error",
     "traceback": [
      "\u001b[1;31m---------------------------------------------------------------------------\u001b[0m",
      "\u001b[1;31mAttributeError\u001b[0m                            Traceback (most recent call last)",
      "\u001b[1;32m<ipython-input-19-7bafa6c3eee7>\u001b[0m in \u001b[0;36m<module>\u001b[1;34m\u001b[0m\n\u001b[0;32m      1\u001b[0m \u001b[1;31m# create geopandas dataframe\u001b[0m\u001b[1;33m\u001b[0m\u001b[1;33m\u001b[0m\u001b[1;33m\u001b[0m\u001b[0m\n\u001b[1;32m----> 2\u001b[1;33m \u001b[0mAirports\u001b[0m\u001b[1;33m[\u001b[0m\u001b[1;34m\"Coordinates\"\u001b[0m\u001b[1;33m]\u001b[0m \u001b[1;33m=\u001b[0m \u001b[0mlist\u001b[0m\u001b[1;33m(\u001b[0m\u001b[0mzip\u001b[0m\u001b[1;33m(\u001b[0m\u001b[0mAirports\u001b[0m\u001b[1;33m.\u001b[0m\u001b[0mlong\u001b[0m\u001b[1;33m,\u001b[0m \u001b[0mAirports\u001b[0m\u001b[1;33m.\u001b[0m\u001b[0mlat\u001b[0m\u001b[1;33m)\u001b[0m\u001b[1;33m)\u001b[0m\u001b[1;33m\u001b[0m\u001b[1;33m\u001b[0m\u001b[0m\n\u001b[0m\u001b[0;32m      3\u001b[0m \u001b[0mAirports\u001b[0m\u001b[1;33m.\u001b[0m\u001b[0mCoordinates\u001b[0m \u001b[1;33m=\u001b[0m \u001b[0mAirports\u001b[0m\u001b[1;33m.\u001b[0m\u001b[0mCoordinates\u001b[0m\u001b[1;33m.\u001b[0m\u001b[0mapply\u001b[0m\u001b[1;33m(\u001b[0m\u001b[0mPoint\u001b[0m\u001b[1;33m)\u001b[0m\u001b[1;33m\u001b[0m\u001b[1;33m\u001b[0m\u001b[0m\n\u001b[0;32m      4\u001b[0m \u001b[0mAirports_gdf\u001b[0m \u001b[1;33m=\u001b[0m \u001b[0mgpd\u001b[0m\u001b[1;33m.\u001b[0m\u001b[0mGeoDataFrame\u001b[0m\u001b[1;33m(\u001b[0m\u001b[0mAirports\u001b[0m\u001b[1;33m,\u001b[0m \u001b[0mgeometry\u001b[0m \u001b[1;33m=\u001b[0m \u001b[1;34m\"Coordinates\"\u001b[0m\u001b[1;33m)\u001b[0m\u001b[1;33m\u001b[0m\u001b[1;33m\u001b[0m\u001b[0m\n\u001b[0;32m      5\u001b[0m \u001b[0mAirports_gdf\u001b[0m\u001b[1;33m.\u001b[0m\u001b[0mcrs\u001b[0m \u001b[1;33m=\u001b[0m \u001b[1;33m{\u001b[0m\u001b[1;34m'proj'\u001b[0m\u001b[1;33m:\u001b[0m \u001b[1;34m'latlong'\u001b[0m\u001b[1;33m,\u001b[0m \u001b[1;34m'ellps'\u001b[0m\u001b[1;33m:\u001b[0m \u001b[1;34m'WGS84'\u001b[0m\u001b[1;33m,\u001b[0m \u001b[1;34m'datum'\u001b[0m\u001b[1;33m:\u001b[0m \u001b[1;34m'WGS84'\u001b[0m\u001b[1;33m,\u001b[0m \u001b[1;34m'no_defs'\u001b[0m\u001b[1;33m:\u001b[0m \u001b[1;32mTrue\u001b[0m\u001b[1;33m}\u001b[0m\u001b[1;33m\u001b[0m\u001b[1;33m\u001b[0m\u001b[0m\n",
      "\u001b[1;32m~\\Anaconda3\\lib\\site-packages\\pandas\\core\\generic.py\u001b[0m in \u001b[0;36m__getattr__\u001b[1;34m(self, name)\u001b[0m\n\u001b[0;32m   4374\u001b[0m             \u001b[1;32mif\u001b[0m \u001b[0mself\u001b[0m\u001b[1;33m.\u001b[0m\u001b[0m_info_axis\u001b[0m\u001b[1;33m.\u001b[0m\u001b[0m_can_hold_identifiers_and_holds_name\u001b[0m\u001b[1;33m(\u001b[0m\u001b[0mname\u001b[0m\u001b[1;33m)\u001b[0m\u001b[1;33m:\u001b[0m\u001b[1;33m\u001b[0m\u001b[1;33m\u001b[0m\u001b[0m\n\u001b[0;32m   4375\u001b[0m                 \u001b[1;32mreturn\u001b[0m \u001b[0mself\u001b[0m\u001b[1;33m[\u001b[0m\u001b[0mname\u001b[0m\u001b[1;33m]\u001b[0m\u001b[1;33m\u001b[0m\u001b[1;33m\u001b[0m\u001b[0m\n\u001b[1;32m-> 4376\u001b[1;33m             \u001b[1;32mreturn\u001b[0m \u001b[0mobject\u001b[0m\u001b[1;33m.\u001b[0m\u001b[0m__getattribute__\u001b[0m\u001b[1;33m(\u001b[0m\u001b[0mself\u001b[0m\u001b[1;33m,\u001b[0m \u001b[0mname\u001b[0m\u001b[1;33m)\u001b[0m\u001b[1;33m\u001b[0m\u001b[1;33m\u001b[0m\u001b[0m\n\u001b[0m\u001b[0;32m   4377\u001b[0m \u001b[1;33m\u001b[0m\u001b[0m\n\u001b[0;32m   4378\u001b[0m     \u001b[1;32mdef\u001b[0m \u001b[0m__setattr__\u001b[0m\u001b[1;33m(\u001b[0m\u001b[0mself\u001b[0m\u001b[1;33m,\u001b[0m \u001b[0mname\u001b[0m\u001b[1;33m,\u001b[0m \u001b[0mvalue\u001b[0m\u001b[1;33m)\u001b[0m\u001b[1;33m:\u001b[0m\u001b[1;33m\u001b[0m\u001b[1;33m\u001b[0m\u001b[0m\n",
      "\u001b[1;31mAttributeError\u001b[0m: 'GeoDataFrame' object has no attribute 'long'"
     ]
    }
   ],
   "source": [
    "# create geopandas dataframe\n",
    "Airports[\"Coordinates\"] = list(zip(Airports.long, Airports.lat))\n",
    "Airports.Coordinates = Airports.Coordinates.apply(Point)\n",
    "Airports_gdf = gpd.GeoDataFrame(Airports, geometry = \"Coordinates\")\n",
    "Airports_gdf.crs = {'proj': 'latlong', 'ellps': 'WGS84', 'datum': 'WGS84', 'no_defs': True}\n",
    "\n",
    "# Create indicator for whether airport is in Flights dataset (as origin airport)\n",
    "Airports_gdf[\"iata\"] = Airports_gdf[\"iata\"].astype(str)\n",
    "Flights['Origin'] = Flights['Origin'].astype(str)\n",
    "Airports_gdf[\"Connected\"] = Airports_gdf.iata.isin(list(Flights.Origin))\n",
    "\n",
    "# Check that 304 of the airports are\n",
    "Airports_gdf.Connected.sum()\n",
    "\n",
    "# Import US map and create a reduced version that excludes Hawaii and Alaska\n",
    "US_states = gpd.read_file(\"states.shp\") # from https://www.arcgis.com/home/item.html?id=f7f805eb65eb4ab787a0a3e1116ca7e5\n",
    "US_reduced = US_states.loc[(US_states.STATE_NAME != \"Hawaii\") & (US_states.STATE_NAME != \"Alaska\")]\n",
    "\n",
    "# Create a reduced version of the Airports dataset without airports in the removed states and only with connected airports\n",
    "Airports_reduced = Airports_gdf.loc[(Airports_gdf.state != \"AK\") & (Airports_gdf.state != \"HI\") & (Airports_gdf.state != \"PR\") & (Airports_gdf.Connected == 1)]"
   ]
  },
  {
   "cell_type": "code",
   "execution_count": 20,
   "metadata": {},
   "outputs": [
    {
     "ename": "NameError",
     "evalue": "name 'US_reduced' is not defined",
     "output_type": "error",
     "traceback": [
      "\u001b[1;31m---------------------------------------------------------------------------\u001b[0m",
      "\u001b[1;31mNameError\u001b[0m                                 Traceback (most recent call last)",
      "\u001b[1;32m<ipython-input-20-585ac79037e6>\u001b[0m in \u001b[0;36m<module>\u001b[1;34m\u001b[0m\n\u001b[0;32m      1\u001b[0m \u001b[1;31m# Create figure using the reduced datasets\u001b[0m\u001b[1;33m\u001b[0m\u001b[1;33m\u001b[0m\u001b[1;33m\u001b[0m\u001b[0m\n\u001b[0;32m      2\u001b[0m \u001b[0mfig\u001b[0m\u001b[1;33m,\u001b[0m \u001b[0max\u001b[0m \u001b[1;33m=\u001b[0m \u001b[0mplt\u001b[0m\u001b[1;33m.\u001b[0m\u001b[0msubplots\u001b[0m\u001b[1;33m(\u001b[0m\u001b[0mfigsize\u001b[0m \u001b[1;33m=\u001b[0m \u001b[1;33m(\u001b[0m\u001b[1;36m24\u001b[0m\u001b[1;33m,\u001b[0m\u001b[1;36m24\u001b[0m\u001b[1;33m)\u001b[0m\u001b[1;33m)\u001b[0m\u001b[1;33m\u001b[0m\u001b[1;33m\u001b[0m\u001b[0m\n\u001b[1;32m----> 3\u001b[1;33m \u001b[0mUS_reduced\u001b[0m\u001b[1;33m.\u001b[0m\u001b[0mplot\u001b[0m\u001b[1;33m(\u001b[0m\u001b[0max\u001b[0m \u001b[1;33m=\u001b[0m \u001b[0max\u001b[0m\u001b[1;33m,\u001b[0m \u001b[0mcolor\u001b[0m \u001b[1;33m=\u001b[0m \u001b[1;34m\"green\"\u001b[0m\u001b[1;33m,\u001b[0m \u001b[0medgecolor\u001b[0m \u001b[1;33m=\u001b[0m \u001b[1;34m\"black\"\u001b[0m\u001b[1;33m)\u001b[0m\u001b[1;33m\u001b[0m\u001b[1;33m\u001b[0m\u001b[0m\n\u001b[0m\u001b[0;32m      4\u001b[0m \u001b[0mAirports_reduced\u001b[0m\u001b[1;33m.\u001b[0m\u001b[0mplot\u001b[0m\u001b[1;33m(\u001b[0m\u001b[0max\u001b[0m \u001b[1;33m=\u001b[0m \u001b[0max\u001b[0m\u001b[1;33m,\u001b[0m \u001b[0mcolor\u001b[0m \u001b[1;33m=\u001b[0m \u001b[1;34m\"red\"\u001b[0m\u001b[1;33m,\u001b[0m \u001b[0mmarkersize\u001b[0m \u001b[1;33m=\u001b[0m \u001b[1;36m15\u001b[0m\u001b[1;33m)\u001b[0m\u001b[1;33m\u001b[0m\u001b[1;33m\u001b[0m\u001b[0m\n\u001b[0;32m      5\u001b[0m \u001b[1;31m#ax.set_facecolor(\"lightblue\")\u001b[0m\u001b[1;33m\u001b[0m\u001b[1;33m\u001b[0m\u001b[1;33m\u001b[0m\u001b[0m\n",
      "\u001b[1;31mNameError\u001b[0m: name 'US_reduced' is not defined"
     ]
    },
    {
     "data": {
      "image/png": "[encoded data removed]",
      "text/plain": [
       "<Figure size 1728x1728 with 1 Axes>"
      ]
     },
     "metadata": {
      "needs_background": "light"
     },
     "output_type": "display_data"
    }
   ],
   "source": [
    "# Create figure using the reduced datasets\n",
    "fig, ax = plt.subplots(figsize = (24,24))\n",
    "US_reduced.plot(ax = ax, color = \"green\", edgecolor = \"black\")\n",
    "Airports_reduced.plot(ax = ax, color = \"red\", markersize = 15)\n",
    "#ax.set_facecolor(\"lightblue\")\n",
    "plt.xticks([])\n",
    "plt.yticks([])\n",
    "plt.savefig(fname = \"Airports_USMap.pdf\", format = \"pdf\")\n",
    "plt.show()"
   ]
  },
  {
   "cell_type": "code",
   "execution_count": 27,
   "metadata": {},
   "outputs": [],
   "source": [
    "scrape_data = Flights.drop_duplicates(subset = \"Journey\", keep = \"first\")"
   ]
  },
  {
   "cell_type": "code",
   "execution_count": 28,
   "metadata": {},
   "outputs": [],
   "source": [
    "scrape_data.to_pickle(\"scrape_data.pkl\")"
   ]
  },
  {
   "cell_type": "code",
   "execution_count": 30,
   "metadata": {},
   "outputs": [
    {
     "data": {
      "text/html": [
       "<div>\n",
       "<style scoped>\n",
       "    .dataframe tbody tr th:only-of-type {\n",
       "        vertical-align: middle;\n",
       "    }\n",
       "\n",
       "    .dataframe tbody tr th {\n",
       "        vertical-align: top;\n",
       "    }\n",
       "\n",
       "    .dataframe thead th {\n",
       "        text-align: right;\n",
       "    }\n",
       "</style>\n",
       "<table border=\"1\" class=\"dataframe\">\n",
       "  <thead>\n",
       "    <tr style=\"text-align: right;\">\n",
       "      <th></th>\n",
       "      <th>Year</th>\n",
       "      <th>Month</th>\n",
       "      <th>DayofMonth</th>\n",
       "      <th>DayOfWeek</th>\n",
       "      <th>DepTime</th>\n",
       "      <th>UniqueCarrier</th>\n",
       "      <th>Origin</th>\n",
       "      <th>Dest</th>\n",
       "      <th>Distance</th>\n",
       "      <th>Journey</th>\n",
       "    </tr>\n",
       "  </thead>\n",
       "  <tbody>\n",
       "    <tr>\n",
       "      <th>0</th>\n",
       "      <td>2007</td>\n",
       "      <td>1</td>\n",
       "      <td>1</td>\n",
       "      <td>1</td>\n",
       "      <td>1232.0</td>\n",
       "      <td>WN</td>\n",
       "      <td>SMF</td>\n",
       "      <td>ONT</td>\n",
       "      <td>389</td>\n",
       "      <td>SMFONT</td>\n",
       "    </tr>\n",
       "    <tr>\n",
       "      <th>1</th>\n",
       "      <td>2007</td>\n",
       "      <td>1</td>\n",
       "      <td>1</td>\n",
       "      <td>1</td>\n",
       "      <td>1918.0</td>\n",
       "      <td>WN</td>\n",
       "      <td>SMF</td>\n",
       "      <td>PDX</td>\n",
       "      <td>479</td>\n",
       "      <td>SMFPDX</td>\n",
       "    </tr>\n",
       "    <tr>\n",
       "      <th>6</th>\n",
       "      <td>2007</td>\n",
       "      <td>1</td>\n",
       "      <td>1</td>\n",
       "      <td>1</td>\n",
       "      <td>1936.0</td>\n",
       "      <td>WN</td>\n",
       "      <td>SMF</td>\n",
       "      <td>PHX</td>\n",
       "      <td>647</td>\n",
       "      <td>SMFPHX</td>\n",
       "    </tr>\n",
       "    <tr>\n",
       "      <th>12</th>\n",
       "      <td>2007</td>\n",
       "      <td>1</td>\n",
       "      <td>1</td>\n",
       "      <td>1</td>\n",
       "      <td>2128.0</td>\n",
       "      <td>WN</td>\n",
       "      <td>SMF</td>\n",
       "      <td>SAN</td>\n",
       "      <td>480</td>\n",
       "      <td>SMFSAN</td>\n",
       "    </tr>\n",
       "    <tr>\n",
       "      <th>25</th>\n",
       "      <td>2007</td>\n",
       "      <td>1</td>\n",
       "      <td>1</td>\n",
       "      <td>1</td>\n",
       "      <td>2119.0</td>\n",
       "      <td>WN</td>\n",
       "      <td>SMF</td>\n",
       "      <td>SEA</td>\n",
       "      <td>605</td>\n",
       "      <td>SMFSEA</td>\n",
       "    </tr>\n",
       "  </tbody>\n",
       "</table>\n",
       "</div>"
      ],
      "text/plain": [
       "    Year  Month  DayofMonth  DayOfWeek  DepTime UniqueCarrier Origin Dest  \\\n",
       "0   2007      1           1          1   1232.0            WN    SMF  ONT   \n",
       "1   2007      1           1          1   1918.0            WN    SMF  PDX   \n",
       "6   2007      1           1          1   1936.0            WN    SMF  PHX   \n",
       "12  2007      1           1          1   2128.0            WN    SMF  SAN   \n",
       "25  2007      1           1          1   2119.0            WN    SMF  SEA   \n",
       "\n",
       "    Distance Journey  \n",
       "0        389  SMFONT  \n",
       "1        479  SMFPDX  \n",
       "6        647  SMFPHX  \n",
       "12       480  SMFSAN  \n",
       "25       605  SMFSEA  "
      ]
     },
     "execution_count": 30,
     "metadata": {},
     "output_type": "execute_result"
    }
   ],
   "source": [
    "scrape_data.head()"
   ]
  },
  {
   "cell_type": "code",
   "execution_count": null,
   "metadata": {},
   "outputs": [],
   "source": [
    "# To create a network to be read into networkx, we need a dataset with all airports and their locations (as points), and all \n",
    "# connections as lines. \n",
    "# We have all airports and their locations. The connections are found by first choosing unique flights (in a specific month):\n",
    "edges = copy.deepcopy(Flights.loc[(Flights.Month == 1) & (Flights.DayofMonth == 1)])\n",
    "edges.drop_duplicates(subset = \"Journey\", keep = \"first\", inplace = True)\n",
    "\n",
    "# Then, get coordinates for origin and destination airports from the airports dataset.\n"
   ]
  },
  {
   "cell_type": "code",
   "execution_count": null,
   "metadata": {},
   "outputs": [],
   "source": [
    "Airports.columns"
   ]
  },
  {
   "cell_type": "code",
   "execution_count": null,
   "metadata": {},
   "outputs": [],
   "source": [
    "edges = pd.merge(edges, Airports[['iata','Coordinates']], how='left', left_on = \"Origin\", right_on = \"iata\")\n",
    "edges = pd.merge(edges, Airports[['iata','Coordinates']], how='left', left_on = \"Dest\", right_on = \"iata\")"
   ]
  },
  {
   "cell_type": "code",
   "execution_count": null,
   "metadata": {},
   "outputs": [],
   "source": [
    "edges.drop([\"iata_x\",\"iata_y\"], inplace = True, axis = 1)"
   ]
  },
  {
   "cell_type": "code",
   "execution_count": null,
   "metadata": {},
   "outputs": [],
   "source": [
    "edges.head()"
   ]
  }
 ],
 "metadata": {
  "kernelspec": {
   "display_name": "Python 3",
   "language": "python",
   "name": "python3"
  },
  "language_info": {
   "codemirror_mode": {
    "name": "ipython",
    "version": 3
   },
   "file_extension": ".py",
   "mimetype": "text/x-python",
   "name": "python",
   "nbconvert_exporter": "python",
   "pygments_lexer": "ipython3",
   "version": "3.7.1"
  }
 },
 "nbformat": 4,
 "nbformat_minor": 2
}
