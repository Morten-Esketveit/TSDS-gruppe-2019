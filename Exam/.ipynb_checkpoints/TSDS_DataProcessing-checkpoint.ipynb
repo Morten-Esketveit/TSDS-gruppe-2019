{
 "cells": [
  {
   "cell_type": "code",
<<<<<<< HEAD
   "execution_count": 1,
=======
   "execution_count": 5,
>>>>>>> 2584e13f8e493325c55638f710855e6aced84483
   "metadata": {},
   "outputs": [],
   "source": [
    "import pandas as pd\n",
    "import matplotlib.pyplot as plt\n",
    "import geopandas as gpd\n",
<<<<<<< HEAD
    "from shapely.geometry import Point"
=======
    "from shapely.geometry import Point\n",
    "from selenium.common.exceptions import NoSuchElementException\n",
    "from selenium.common.exceptions import TimeoutException\n",
    "from selenium.common.exceptions import StaleElementReferenceException\n",
    "from selenium import webdriver\n",
    "from selenium.webdriver.common.keys import Keys\n",
    "from selenium.webdriver.support.ui import WebDriverWait\n",
    "from selenium.webdriver.common.by import By\n",
    "from selenium.webdriver.support import expected_conditions as EC\n",
    "\n",
    "import re\n",
    "import os\n",
    "import time"
>>>>>>> 2584e13f8e493325c55638f710855e6aced84483
   ]
  },
  {
   "cell_type": "markdown",
   "metadata": {},
   "source": [
    "### Loading data"
   ]
  },
  {
<<<<<<< HEAD
   "cell_type": "markdown",
   "metadata": {},
   "source": [
    "#### Airports"
=======
   "cell_type": "code",
   "execution_count": null,
   "metadata": {},
   "outputs": [],
   "source": [
    "# Load US flight data\n"
   ]
  },
  {
   "cell_type": "markdown",
   "metadata": {},
   "source": [
    "### Scraping skyscanner for prices"
>>>>>>> 2584e13f8e493325c55638f710855e6aced84483
   ]
  },
  {
   "cell_type": "code",
<<<<<<< HEAD
   "execution_count": 2,
   "metadata": {},
   "outputs": [],
   "source": [
    "# load data\n",
    "airports_raw = pd.read_csv('https://raw.githubusercontent.com/jpatokal/openflights/master/data/airports.dat', header = None) #load data\n",
    "\n",
    "\n",
    "# Assign column names\n",
    "airports_raw.columns = [\"Airport_id\",\"Name\",\"City\",\"Country\",\"3DigitId\",\"4DigitId\",\"Lat\",\"Lon\",\"Altitude_ft\",\"Timezone\",\"DST\",\"TZ\",\"Type\",\"Source\"] \n",
    "\n",
    "# Pick relevant columns for analysis\n",
    "airports_df = airports_raw[[\"Airport_id\",\"Name\",\"City\",\"Country\",\"3DigitId\",\"4DigitId\",\"Lat\",\"Lon\",\"Altitude_ft\",\"Type\"]]"
=======
   "execution_count": 13,
   "metadata": {},
   "outputs": [],
   "source": [
    "# Download driver fra https://github.com/mozilla/geckodriver/releases\n",
    "# Eksempel i de næste celler\n",
    "def skyscannerscraper(dep,arr,date,driverpath, direct='true'):\n",
    "    # Function scraping skyscanner.dk\n",
    "    # dep: airport code for departure airport\n",
    "    # arr: airport code for arrival airport\n",
    "    # date: date of flight, format YYMMDD\n",
    "    # direct: indicates whether direct flight is preferred\n",
    "    driver = webdriver.Firefox(executable_path=driverpath)\n",
    "    driver.implicitly_wait(8)\n",
    "    wait = WebDriverWait(driver, 8)\n",
    "    urlbase = 'https://www.skyscanner.dk/transport/fly/'\n",
    "    urlpas = '/?adults=1&children=0&adultsv2=1&childrenv2=&infants=0&cabinclass=economy&rtn=0&preferdirects='\n",
    "    urlend = '&outboundaltsenabled=false&inboundaltsenabled=false&ref=home#results'\n",
    "\n",
    "    data = []\n",
    "\n",
    "    for depa,arri in zip(dep,arr):\n",
    "        url = urlbase + str(depa) + str('/') + str(arri) + str('/')+ str(date) + urlpas + direct + urlend\n",
    "\n",
    "\n",
    "        driver.get(url)\n",
    "            \n",
    "        try:\n",
    "            wait.until(EC.visibility_of_element_located((By.CLASS_NAME, \"fqs-price\")))\n",
    "            wait.until(EC.visibility_of_element_located((By.CLASS_NAME, \"fqs-duration\")))\n",
    "            \n",
    "            price = [price.text for price in driver.find_elements(By.CLASS_NAME, \"fqs-price\")]\n",
    "            duration = [dur.text for dur in driver.find_elements(By.CLASS_NAME, \"fqs-duration\")]\n",
    "\n",
    "\n",
    "            data.append({\n",
    "                \"price\": price[1],\n",
    "                \"duration\": duration[1],\n",
    "                \"departure\": str(depa),\n",
    "                \"arrival\": str(arri),\n",
    "                \"day\":0\n",
    "                    })\n",
    "        except (TimeoutException,StaleElementReferenceException):\n",
    "            try:\n",
    "                WebDriverWait(driver, 2).until(EC.element_to_be_clickable((By.CSS_SELECTOR, '.bpk-close-button-65MQ0'))).click()\n",
    "                wait.until(EC.visibility_of_element_located((By.CLASS_NAME, \"fqs-price\")))\n",
    "                wait.until(EC.visibility_of_element_located((By.CLASS_NAME, \"fqs-duration\")))\n",
    "\n",
    "                price = [price.text for price in driver.find_elements(By.CLASS_NAME, \"fqs-price\")]\n",
    "                duration = [dur.text for dur in driver.find_elements(By.CLASS_NAME, \"fqs-duration\")]\n",
    "                \n",
    "                data.append({\n",
    "                \"price\": price[1],\n",
    "                \"duration\": duration[1],\n",
    "                \"departure\": str(depa),\n",
    "                \"arrival\": str(arri),\n",
    "                \"day\":0\n",
    "                    })    \n",
    "            except (TimeoutException,StaleElementReferenceException):\n",
    "                try:\n",
    "                    wait.until(EC.visibility_of_element_located((By.CLASS_NAME, \"price\")))\n",
    "                    wait.until(EC.visibility_of_element_located((By.CLASS_NAME, \"LegInfo__duration-2VgVw\")))\n",
    "\n",
    "                    price = [price.text for price in driver.find_elements(By.CLASS_NAME, \"price\")]\n",
    "                    duration = [dur.text for dur in driver.find_elements(By.CLASS_NAME, \"LegInfo__duration-2VgVw\")]\n",
    "\n",
    "\n",
    "                    data.append({\n",
    "                    \"price\": price[0],\n",
    "                    \"duration\": duration[0],\n",
    "                    \"departure\": str(depa),\n",
    "                    \"arrival\": str(arri),\n",
    "                    \"day\":0\n",
    "                        })  \n",
    "                except (TimeoutException,StaleElementReferenceException) :\n",
    "                    try:\n",
    "                        url = urlbase + str(depa) + str('/') + str(arri) + str('/')+ str(date+1) + urlpas + direct + urlend\n",
    "\n",
    "\n",
    "                        driver.get(url)\n",
    "                            \n",
    "\n",
    "                        wait.until(EC.visibility_of_element_located((By.CLASS_NAME, \"fqs-price\")))\n",
    "                        wait.until(EC.visibility_of_element_located((By.CLASS_NAME, \"fqs-duration\")))\n",
    "\n",
    "                        price = [price.text for price in driver.find_elements(By.CLASS_NAME, \"fqs-price\")]\n",
    "                        duration = [dur.text for dur in driver.find_elements(By.XPATH, \"/html/body/div[3]/div[2]/div/div[4]/section[3]/div/div[1]/div[3]/div/table/tbody/tr/td[2]/button/span[3]\")]\n",
    "\n",
    "\n",
    "                        data.append({\n",
    "                                \"price\": price[1],\n",
    "                                \"duration\": duration[1],\n",
    "                                \"departure\": str(depa),\n",
    "                                \"arrival\": str(arri),\n",
    "                                \"day\":1\n",
    "                                    })\n",
    "                    except (TimeoutException,StaleElementReferenceException):\n",
    "                        try:\n",
    "                            WebDriverWait(driver, 2).until(EC.element_to_be_clickable((By.CSS_SELECTOR, '.bpk-close-button-65MQ0'))).click()\n",
    "                            wait.until(EC.visibility_of_element_located((By.CLASS_NAME, \"fqs-price\")))\n",
    "                            wait.until(EC.visibility_of_element_located((By.CLASS_NAME, \"fqs-duration\")))\n",
    "\n",
    "                            price = [price.text for price in driver.find_elements(By.CLASS_NAME, \"fqs-price\")]\n",
    "                            duration = [dur.text for dur in driver.find_elements(By.CLASS_NAME, \"fqs-duration\")]\n",
    "\n",
    "                            data.append({\n",
    "                            \"price\": price[1],\n",
    "                            \"duration\": duration[1],\n",
    "                            \"departure\": str(depa),\n",
    "                            \"arrival\": str(arri),\n",
    "                            \"day\":1\n",
    "                                    })    \n",
    "                        except (TimeoutException,StaleElementReferenceException):  \n",
    "                            try:\n",
    "                                wait.until(EC.visibility_of_element_located((By.CLASS_NAME, \"price\")))\n",
    "                                wait.until(EC.visibility_of_element_located((By.CLASS_NAME, \"LegInfo__duration-2VgVw\")))\n",
    "\n",
    "                                price = [price.text for price in driver.find_elements(By.CLASS_NAME, \"price\")]\n",
    "                                duration = [dur.text for dur in driver.find_elements(By.CLASS_NAME, \"LegInfo__duration-2VgVw\")]\n",
    "\n",
    "\n",
    "                                data.append({\n",
    "                                \"price\": price[0],\n",
    "                                \"duration\": duration[0],\n",
    "                                \"departure\": str(depa),\n",
    "                                \"arrival\": str(arri),\n",
    "                                \"day\":1\n",
    "                                     }) \n",
    "                            except (TimeoutException,StaleElementReferenceException):\n",
    "                                try:\n",
    "                                    url = urlbase + str(depa) + str('/') + str(arri) + str('/')+ str(date+2) + urlpas + direct + urlend\n",
    "\n",
    "\n",
    "                                    driver.get(url)\n",
    "                                        \n",
    "\n",
    "                                    wait.until(EC.visibility_of_element_located((By.CLASS_NAME, \"fqs-price\")))\n",
    "                                    wait.until(EC.visibility_of_element_located((By.CLASS_NAME, \"fqs-duration\")))\n",
    "\n",
    "                                    price = [price.text for price in driver.find_elements(By.CLASS_NAME, \"fqs-price\")]\n",
    "                                    duration = [dur.text for dur in driver.find_elements(By.CLASS_NAME, \"fqs-duration\")]\n",
    "\n",
    "\n",
    "                                    data.append({\n",
    "                                            \"price\": price[1],\n",
    "                                            \"duration\": duration[1],\n",
    "                                            \"departure\": str(depa),\n",
    "                                            \"arrival\": str(arri),\n",
    "                                            \"day\":2\n",
    "                                                })\n",
    "                                except (TimeoutException,StaleElementReferenceException):\n",
    "                                    try:\n",
    "                                        WebDriverWait(driver, 2).until(EC.element_to_be_clickable((By.CSS_SELECTOR, '.bpk-close-button-65MQ0'))).click()\n",
    "                                        wait.until(EC.visibility_of_element_located((By.CLASS_NAME, \"fqs-price\")))\n",
    "                                        wait.until(EC.visibility_of_element_located((By.CLASS_NAME, \"fqs-duration\")))\n",
    "\n",
    "                                        price = [price.text for price in driver.find_elements(By.CLASS_NAME, \"fqs-price\")]\n",
    "                                        duration = [dur.text for dur in driver.find_elements(By.CLASS_NAME, \"fqs-duration\")]\n",
    "\n",
    "                                        data.append({\n",
    "                                        \"price\": price[1],\n",
    "                                        \"duration\": duration[1],\n",
    "                                        \"departure\": str(depa),\n",
    "                                        \"arrival\": str(arri),\n",
    "                                           \"day\":2\n",
    "                                                })    \n",
    "                                    except (TimeoutException,StaleElementReferenceException):  \n",
    "                                        try:\n",
    "                                            wait.until(EC.visibility_of_element_located((By.CLASS_NAME, \"price\")))\n",
    "                                            wait.until(EC.visibility_of_element_located((By.CLASS_NAME, \"LegInfo__duration-2VgVw\")))\n",
    "\n",
    "                                            price = [price.text for price in driver.find_elements(By.CLASS_NAME, \"price\")]\n",
    "                                            duration = [dur.text for dur in driver.find_elements(By.CLASS_NAME, \"LegInfo__duration-2VgVw\")]\n",
    "\n",
    "\n",
    "                                            data.append({\n",
    "                                            \"price\": price[0],\n",
    "                                            \"duration\": duration[0],\n",
    "                                            \"departure\": str(depa),\n",
    "                                            \"arrival\": str(arri),\n",
    "                                            \"day\":2\n",
    "                                                 }) \n",
    "                                        except (TimeoutException,StaleElementReferenceException):  \n",
    "                                            print(\"No working for\"+str(url))\n",
    "                                            data.append({\n",
    "                                            \"price\": \"-\",\n",
    "                                            \"duration\": \"-\",\n",
    "                                            \"departure\": str(depa),\n",
    "                                            \"arrival\": str(arri),\n",
    "                                            \"day\":\"-\"\n",
    "                                                 }) \n",
    "        print(str(depa)+\"-\"+str(arri))\n",
    "    driver.close()\n",
    "    price_data = pd.DataFrame(data)                                            \n",
    "    return price_data\n",
    "\n"
>>>>>>> 2584e13f8e493325c55638f710855e6aced84483
   ]
  },
  {
   "cell_type": "code",
<<<<<<< HEAD
   "execution_count": 7,
   "metadata": {},
   "outputs": [
    {
     "data": {
      "text/plain": [
       "(7543, 12)"
      ]
     },
     "execution_count": 7,
     "metadata": {},
     "output_type": "execute_result"
    }
   ],
   "source": [
    "airports_df.shape"
=======
   "execution_count": 16,
   "metadata": {},
   "outputs": [],
   "source": [
    "data = [['LAX','CPH'],['LAX','JFK'],['JFK','LAX'],['CPH','ORD'],['CPH','JFK'],['LAX','ORD'],['JFK','ORD'],['BLQ','CPH']]\n",
    "data1 = [['LAX','JFK'],['JFK','LAX'],['LAX','ORD'],['JFK','ORD'],['MIA','JFK'],['LAX','MIA']]\n",
    "\n",
    "\n",
    "data2= [['BGO','CPH']]\n",
    "df = pd.DataFrame(data1,columns=['DEP','ARR'])"
   ]
  },
  {
   "cell_type": "code",
   "execution_count": 17,
   "metadata": {},
   "outputs": [
    {
     "name": "stdout",
     "output_type": "stream",
     "text": [
      "LAX-JFK\n",
      "JFK-LAX\n",
      "LAX-ORD\n",
      "JFK-ORD\n",
      "MIA-JFK\n",
      "LAX-MIA\n",
      "  arrival  day departure     duration    price\n",
      "0     JFK    0       LAX  5 t. 25 min  kr. 876\n",
      "1     LAX    0       JFK  6 t. 07 min  kr. 882\n",
      "2     ORD    0       LAX  4 t. 10 min  kr. 551\n",
      "3     ORD    0       JFK  2 t. 48 min  kr. 442\n",
      "4     JFK    0       MIA  2 t. 59 min  kr. 689\n",
      "5     MIA    0       LAX  5 t. 20 min  kr. 904\n"
     ]
    }
   ],
   "source": [
    "hh=skyscannerscraper(df['DEP'],df['ARR'],191008, driverpath='/Users/Christian/Dropbox/Universitet/TSODAS/test/geckodriver', direct='true')\n",
    "print(hh)"
   ]
  },
  {
   "cell_type": "markdown",
   "metadata": {},
   "source": [
    "#### Airports"
>>>>>>> 2584e13f8e493325c55638f710855e6aced84483
   ]
  },
  {
   "cell_type": "code",
   "execution_count": 3,
   "metadata": {},
<<<<<<< HEAD
=======
   "outputs": [],
   "source": [
    "# load data\n",
    "airports_raw = pd.read_csv('https://raw.githubusercontent.com/jpatokal/openflights/master/data/airports.dat', header = None) #load data\n",
    "\n",
    "\n",
    "# Assign column names\n",
    "airports_raw.columns = [\"Airport_id\",\"Name\",\"City\",\"Country\",\"3DigitId\",\"4DigitId\",\"Lat\",\"Lon\",\"Altitude_ft\",\"Timezone\",\"DST\",\"TZ\",\"Type\",\"Source\"] \n",
    "\n",
    "# Pick relevant columns for analysis\n",
    "airports_df = airports_raw[[\"Airport_id\",\"Name\",\"City\",\"Country\",\"3DigitId\",\"4DigitId\",\"Lat\",\"Lon\",\"Altitude_ft\",\"Type\"]]"
   ]
  },
  {
   "cell_type": "code",
   "execution_count": 6,
   "metadata": {},
>>>>>>> 2584e13f8e493325c55638f710855e6aced84483
   "outputs": [
    {
     "name": "stderr",
     "output_type": "stream",
     "text": [
<<<<<<< HEAD
      "C:\\Users\\morte\\Anaconda3\\lib\\site-packages\\ipykernel_launcher.py:2: SettingWithCopyWarning: \n",
=======
      "C:\\Users\\mra\\AppData\\Local\\Continuum\\anaconda3\\lib\\site-packages\\ipykernel_launcher.py:2: SettingWithCopyWarning: \n",
>>>>>>> 2584e13f8e493325c55638f710855e6aced84483
      "A value is trying to be set on a copy of a slice from a DataFrame.\n",
      "Try using .loc[row_indexer,col_indexer] = value instead\n",
      "\n",
      "See the caveats in the documentation: http://pandas.pydata.org/pandas-docs/stable/indexing.html#indexing-view-versus-copy\n",
      "  \n",
<<<<<<< HEAD
      "C:\\Users\\morte\\Anaconda3\\lib\\site-packages\\pandas\\core\\generic.py:4405: SettingWithCopyWarning: \n",
=======
      "C:\\Users\\mra\\AppData\\Local\\Continuum\\anaconda3\\lib\\site-packages\\pandas\\core\\generic.py:4405: SettingWithCopyWarning: \n",
>>>>>>> 2584e13f8e493325c55638f710855e6aced84483
      "A value is trying to be set on a copy of a slice from a DataFrame.\n",
      "Try using .loc[row_indexer,col_indexer] = value instead\n",
      "\n",
      "See the caveats in the documentation: http://pandas.pydata.org/pandas-docs/stable/indexing.html#indexing-view-versus-copy\n",
      "  self[name] = value\n"
     ]
    }
   ],
   "source": [
    "# create geopandas dataframe\n",
    "airports_df[\"Coordinates\"] = list(zip(airports_df.Lon, airports_df.Lat))\n",
    "airports_df.Coordinates = airports_df.Coordinates.apply(Point)\n",
    "airports_gdf = gpd.GeoDataFrame(airports_df, geometry = \"Coordinates\")\n",
    "airports_gdf.crs = {'proj': 'latlong', 'ellps': 'WGS84', 'datum': 'WGS84', 'no_defs': True}"
   ]
  },
  {
   "cell_type": "markdown",
   "metadata": {},
   "source": [
    "#### Connections (\"routes\")"
   ]
  },
  {
   "cell_type": "code",
<<<<<<< HEAD
   "execution_count": 4,
=======
   "execution_count": 7,
>>>>>>> 2584e13f8e493325c55638f710855e6aced84483
   "metadata": {},
   "outputs": [],
   "source": [
    "connections_raw = pd.read_csv('https://raw.githubusercontent.com/jpatokal/openflights/master/data/routes.dat', header = None)\n",
    "\n",
    "connections_raw.columns = [\"Airline_IATA/ICAO\",\n",
    "                           \"Airline_ID\",\n",
    "                           \"Source_airport\",\"Source_airport_ID\",\n",
    "                           \"Destination_airport\",\"Destination_airport_ID\",\n",
    "                          \"Codeshare\",\n",
    "                          \"Stops\",\n",
    "                          \"Equipment\"]"
   ]
  },
  {
   "cell_type": "markdown",
   "metadata": {},
   "source": [
    "#### Indicator for which airports are in the connections data"
   ]
  },
  {
   "cell_type": "code",
<<<<<<< HEAD
   "execution_count": 5,
=======
   "execution_count": 8,
>>>>>>> 2584e13f8e493325c55638f710855e6aced84483
   "metadata": {},
   "outputs": [
    {
     "data": {
      "text/plain": [
       "3184"
      ]
     },
<<<<<<< HEAD
     "execution_count": 5,
=======
     "execution_count": 8,
>>>>>>> 2584e13f8e493325c55638f710855e6aced84483
     "metadata": {},
     "output_type": "execute_result"
    }
   ],
   "source": [
    "# Make indicator in the airports dataset, for whether the airport is included in the connections dataset\n",
    "airports_gdf[\"Airport_id\"] = airports_gdf[\"Airport_id\"].astype(str)\n",
    "connections_raw['Source_airport_ID'] = connections_raw['Source_airport_ID'].astype(str)\n",
    "airports_gdf[\"Connected\"] = airports_gdf.Airport_id.isin(list(connections_raw.Destination_airport_ID))\n",
    "airports_gdf.Connected.sum()"
   ]
  },
  {
   "cell_type": "markdown",
   "metadata": {},
   "source": [
    "#### Pickle the two datasets"
   ]
  },
  {
   "cell_type": "code",
<<<<<<< HEAD
   "execution_count": 6,
=======
   "execution_count": 11,
>>>>>>> 2584e13f8e493325c55638f710855e6aced84483
   "metadata": {},
   "outputs": [],
   "source": [
    "airports_gdf.to_pickle(\"airports.pkl\")\n",
    "connections_raw.to_pickle(\"connections.pkl\")"
   ]
  }
 ],
 "metadata": {
  "kernelspec": {
   "display_name": "Python 3",
   "language": "python",
   "name": "python3"
  },
  "language_info": {
   "codemirror_mode": {
    "name": "ipython",
    "version": 3
   },
   "file_extension": ".py",
   "mimetype": "text/x-python",
   "name": "python",
   "nbconvert_exporter": "python",
   "pygments_lexer": "ipython3",
   "version": "3.7.1"
  }
 },
 "nbformat": 4,
 "nbformat_minor": 2
}
