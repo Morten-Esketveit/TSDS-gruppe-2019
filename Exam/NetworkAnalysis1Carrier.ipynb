{
 "cells": [
  {
   "cell_type": "code",
   "execution_count": 25,
   "metadata": {},
   "outputs": [],
   "source": [
    "import numpy as np\n",
    "import pandas as pd\n",
    "import matplotlib.pyplot as plt\n",
    "from shapely.geometry import Point\n",
    "import geopandas as gpd\n",
    "import copy\n",
    "import networkx as nx\n",
    "import random\n",
    "from random import sample"
   ]
  },
  {
   "cell_type": "markdown",
   "metadata": {},
   "source": [
    "#### Load data"
   ]
  },
  {
   "cell_type": "code",
   "execution_count": 2,
   "metadata": {},
   "outputs": [],
   "source": [
    "FlightsNx = pd.read_pickle(\"FlightsNx.pkl\")"
   ]
  },
  {
   "cell_type": "markdown",
   "metadata": {},
   "source": [
    "#### Implement as network. \n"
   ]
  },
  {
   "cell_type": "code",
   "execution_count": 3,
   "metadata": {},
   "outputs": [
    {
     "name": "stdout",
     "output_type": "stream",
     "text": [
      "Name: \n",
      "Type: Graph\n",
      "Number of nodes: 310\n",
      "Number of edges: 2868\n",
      "Average degree:  18.5032\n"
     ]
    }
   ],
   "source": [
    "Network = nx.from_pandas_edgelist(FlightsNx, source = \"Origin\", target = \"Dest\", edge_attr = True)\n",
    "print(nx.info(Network))"
   ]
  },
  {
   "cell_type": "code",
   "execution_count": 4,
   "metadata": {},
   "outputs": [],
   "source": [
    "degree_dict = nx.algorithms.centrality.degree_centrality(Network) \n",
    "degree_values = list(degree_dict.values())\n",
    "# Create dataframe\n",
    "degrees = pd.DataFrame(degree_values)\n",
    "degrees.columns = [\"degree\"]\n",
    "degrees[\"degree_unnormalized\"] = degrees[\"degree\"]*(len(Network.nodes)-1)\n",
    "degrees[\"airport\"] = degree_dict.keys()"
   ]
  },
  {
   "cell_type": "markdown",
   "metadata": {},
   "source": [
    "## Attacks and Errors\n",
    "### Analysis of how removing certain airports affect network characteristics"
   ]
  },
  {
   "cell_type": "markdown",
   "metadata": {},
   "source": [
    "#### Measures for entire network"
   ]
  },
  {
   "cell_type": "code",
   "execution_count": 5,
   "metadata": {},
   "outputs": [
    {
     "name": "stdout",
     "output_type": "stream",
     "text": [
      "Name: \n",
      "Type: Graph\n",
      "Number of nodes: 310\n",
      "Number of edges: 2868\n",
      "Average degree:  18.5032\n",
      "The average shortest path is: 2.3133312454327175\n",
      "The average clustering coefficient is: 0.6329597748621263\n",
      "The diameter of the network is: 5\n",
      "The global efficiency of the network is: 0.46953265824570517\n"
     ]
    }
   ],
   "source": [
    "print(nx.info(Network))\n",
    "print(\"The average shortest path is: {}\".format(nx.average_shortest_path_length(Network)))\n",
    "print(\"The average clustering coefficient is: {}\".format(nx.average_clustering(Network)))\n",
    "print(\"The diameter of the network is: {}\".format(nx.diameter(Network)))\n",
    "print(\"The global efficiency of the network is: {}\".format(nx.global_efficiency(Network)))"
   ]
  },
  {
   "cell_type": "code",
   "execution_count": 6,
   "metadata": {},
   "outputs": [
    {
     "name": "stdout",
     "output_type": "stream",
     "text": [
      "0\n",
      "5\n",
      "10\n",
      "15\n",
      "20\n",
      "25\n"
     ]
    }
   ],
   "source": [
    "# What happens to network characteristics as the most important airports are removed? \n",
    "degrees.sort_values(by = \"degree_unnormalized\", inplace = True, ascending = False)\n",
    "average_clustering = list()\n",
    "average_shortest_path_length = list()\n",
    "global_efficiency = list()\n",
    "average_degree = list()\n",
    "for i in range(30):\n",
    "    net = Network.subgraph(nodes = list(degrees[\"airport\"])[i:])\n",
    "    average_clustering.append(nx.average_clustering(net))\n",
    "    \n",
    "    #average_shortest_path_length.append(nx.average_shortest_path_length(net))\n",
    "    \n",
    "    global_efficiency.append(nx.global_efficiency(net))\n",
    "    \n",
    "    average_degree.append(sum(dict(net.degree()).values())/len(dict(net.degree()).values()))\n",
    "    if i%5 == 0:\n",
    "        print(i)\n",
    "    \n",
    "measures_attacks = pd.DataFrame({\"average_degree\":average_degree,\n",
    "                                \"average_clustering\":average_clustering,\n",
    "                                \"global_efficiency\":global_efficiency})\n",
    "#measures_attacks.head()"
   ]
  },
  {
   "cell_type": "code",
   "execution_count": 7,
   "metadata": {},
   "outputs": [],
   "source": [
    "measures_attacks.to_pickle(\"measures_attacks.pkl\")"
   ]
  },
  {
   "cell_type": "code",
   "execution_count": 27,
   "metadata": {},
   "outputs": [
    {
     "name": "stdout",
     "output_type": "stream",
     "text": [
      "0\n",
      "5\n",
      "10\n",
      "15\n",
      "20\n",
      "25\n"
     ]
    },
    {
     "data": {
      "text/html": [
       "<div>\n",
       "<style scoped>\n",
       "    .dataframe tbody tr th:only-of-type {\n",
       "        vertical-align: middle;\n",
       "    }\n",
       "\n",
       "    .dataframe tbody tr th {\n",
       "        vertical-align: top;\n",
       "    }\n",
       "\n",
       "    .dataframe thead th {\n",
       "        text-align: right;\n",
       "    }\n",
       "</style>\n",
       "<table border=\"1\" class=\"dataframe\">\n",
       "  <thead>\n",
       "    <tr style=\"text-align: right;\">\n",
       "      <th></th>\n",
       "      <th>average_degree</th>\n",
       "      <th>average_clustering</th>\n",
       "    </tr>\n",
       "  </thead>\n",
       "  <tbody>\n",
       "    <tr>\n",
       "      <th>0</th>\n",
       "      <td>18.368932</td>\n",
       "      <td>0.636063</td>\n",
       "    </tr>\n",
       "    <tr>\n",
       "      <th>1</th>\n",
       "      <td>18.556634</td>\n",
       "      <td>0.635022</td>\n",
       "    </tr>\n",
       "    <tr>\n",
       "      <th>2</th>\n",
       "      <td>17.818770</td>\n",
       "      <td>0.624661</td>\n",
       "    </tr>\n",
       "    <tr>\n",
       "      <th>3</th>\n",
       "      <td>18.556634</td>\n",
       "      <td>0.635019</td>\n",
       "    </tr>\n",
       "    <tr>\n",
       "      <th>4</th>\n",
       "      <td>18.446602</td>\n",
       "      <td>0.632877</td>\n",
       "    </tr>\n",
       "  </tbody>\n",
       "</table>\n",
       "</div>"
      ],
      "text/plain": [
       "   average_degree  average_clustering\n",
       "0       18.368932            0.636063\n",
       "1       18.556634            0.635022\n",
       "2       17.818770            0.624661\n",
       "3       18.556634            0.635019\n",
       "4       18.446602            0.632877"
      ]
     },
     "execution_count": 27,
     "metadata": {},
     "output_type": "execute_result"
    }
   ],
   "source": [
    "## What happens to network characteristics if nodes are randomly removed? \n",
    "random.seed(a = 12345)\n",
    "degrees.sort_values(by = \"degree_unnormalized\", inplace = True, ascending = False)\n",
    "average_clustering = list()\n",
    "#average_shortest_path_length = list()\n",
    "#global_efficiency = list()\n",
    "average_degree = list()\n",
    "for i in range(30):\n",
    "    net = Network.subgraph(nodes = sample(list(degrees[\"airport\"]), len(list(degrees[\"airport\"]))-1))\n",
    "    average_clustering.append(nx.average_clustering(net))\n",
    "    \n",
    "    #average_shortest_path_length.append(nx.average_shortest_path_length(net))\n",
    "    \n",
    "    #global_efficiency.append(nx.global_efficiency(net))\n",
    "    \n",
    "    average_degree.append(sum(dict(net.degree()).values())/len(dict(net.degree()).values()))\n",
    "    if i%5 == 0:\n",
    "        print(i)\n",
    "    \n",
    "measures_random = pd.DataFrame({\"average_degree\":average_degree,\n",
    "                                \"average_clustering\":average_clustering})\n",
    "measures_random.head()"
   ]
  },
  {
   "cell_type": "code",
   "execution_count": 28,
   "metadata": {},
   "outputs": [],
   "source": [
    "measures_random.to_pickle(\"measures_random.pkl\")"
   ]
  },
  {
   "cell_type": "code",
   "execution_count": 8,
   "metadata": {},
   "outputs": [
    {
     "name": "stdout",
     "output_type": "stream",
     "text": [
      "0\n",
      "5\n",
      "10\n",
      "15\n",
      "20\n",
      "25\n"
     ]
    },
    {
     "data": {
      "text/html": [
       "<div>\n",
       "<style scoped>\n",
       "    .dataframe tbody tr th:only-of-type {\n",
       "        vertical-align: middle;\n",
       "    }\n",
       "\n",
       "    .dataframe tbody tr th {\n",
       "        vertical-align: top;\n",
       "    }\n",
       "\n",
       "    .dataframe thead th {\n",
       "        text-align: right;\n",
       "    }\n",
       "</style>\n",
       "<table border=\"1\" class=\"dataframe\">\n",
       "  <thead>\n",
       "    <tr style=\"text-align: right;\">\n",
       "      <th></th>\n",
       "      <th>average_degree</th>\n",
       "      <th>average_clustering</th>\n",
       "      <th>global_efficiency</th>\n",
       "    </tr>\n",
       "  </thead>\n",
       "  <tbody>\n",
       "    <tr>\n",
       "      <th>0</th>\n",
       "      <td>18.503226</td>\n",
       "      <td>0.632960</td>\n",
       "      <td>0.469533</td>\n",
       "    </tr>\n",
       "    <tr>\n",
       "      <th>1</th>\n",
       "      <td>18.556634</td>\n",
       "      <td>0.635013</td>\n",
       "      <td>0.469762</td>\n",
       "    </tr>\n",
       "    <tr>\n",
       "      <th>2</th>\n",
       "      <td>18.610390</td>\n",
       "      <td>0.637079</td>\n",
       "      <td>0.469995</td>\n",
       "    </tr>\n",
       "    <tr>\n",
       "      <th>3</th>\n",
       "      <td>18.664495</td>\n",
       "      <td>0.639165</td>\n",
       "      <td>0.470416</td>\n",
       "    </tr>\n",
       "    <tr>\n",
       "      <th>4</th>\n",
       "      <td>18.718954</td>\n",
       "      <td>0.641258</td>\n",
       "      <td>0.470655</td>\n",
       "    </tr>\n",
       "  </tbody>\n",
       "</table>\n",
       "</div>"
      ],
      "text/plain": [
       "   average_degree  average_clustering  global_efficiency\n",
       "0       18.503226            0.632960           0.469533\n",
       "1       18.556634            0.635013           0.469762\n",
       "2       18.610390            0.637079           0.469995\n",
       "3       18.664495            0.639165           0.470416\n",
       "4       18.718954            0.641258           0.470655"
      ]
     },
     "execution_count": 8,
     "metadata": {},
     "output_type": "execute_result"
    }
   ],
   "source": [
    "# What happens to network characteristics as the least important nodes are removed?\n",
    "degrees.sort_values(by = \"degree_unnormalized\", inplace = True, ascending = False)\n",
    "average_clustering = list()\n",
    "average_shortest_path_length = list()\n",
    "global_efficiency = list()\n",
    "average_degree = list()\n",
    "for i in range(30):\n",
    "    net = Network.subgraph(nodes = list(degrees[\"airport\"])[:len(degrees[\"airport\"])-i])\n",
    "    average_clustering.append(nx.average_clustering(net))\n",
    "    \n",
    "    #average_shortest_path_length.append(nx.average_shortest_path_length(net))\n",
    "    \n",
    "    global_efficiency.append(nx.global_efficiency(net))\n",
    "    \n",
    "    average_degree.append(sum(dict(net.degree()).values())/len(dict(net.degree()).values()))\n",
    "    if i%5 == 0:\n",
    "        print(i)\n",
    "    \n",
    "measures_errors = pd.DataFrame({\"average_degree\":average_degree,\n",
    "                                \"average_clustering\":average_clustering,\n",
    "                                \"global_efficiency\":global_efficiency})\n",
    "measures_errors.head()"
   ]
  },
  {
   "cell_type": "code",
   "execution_count": 9,
   "metadata": {},
   "outputs": [],
   "source": [
    "measures_errors.to_pickle(\"measures_errors.pkl\")"
   ]
  },
  {
   "cell_type": "markdown",
   "metadata": {},
   "source": [
    "#### Mapping airport network geographically"
   ]
  },
  {
   "cell_type": "code",
   "execution_count": 29,
   "metadata": {},
   "outputs": [],
   "source": [
    "attack_effect = pd.read_pickle(\"measures_attacks.pkl\")\n",
    "error_effect = pd.read_pickle(\"measures_errors.pkl\")\n",
    "random_effect = pd.read_pickle(\"measures_random.pkl\")\n",
    "plist = list(range(1,31))\n",
    "plist = [(x-1) * 1/310 for x in plist]"
   ]
  },
  {
   "cell_type": "code",
   "execution_count": 30,
   "metadata": {},
   "outputs": [
    {
     "data": {
      "image/png": "[encoded data removed]",
      "text/plain": [
       "<Figure size 1296x432 with 2 Axes>"
      ]
     },
     "metadata": {
      "needs_background": "light"
     },
     "output_type": "display_data"
    }
   ],
   "source": [
    "fig, ax = plt.subplots(figsize = (18,6))\n",
    "plt.subplot(1,2,1)\n",
    "plt.plot(plist, attack_effect[\"average_degree\"], label = \"Attacks\", marker = \"*\")\n",
    "plt.plot(plist, error_effect[\"average_degree\"], label = \"Errors\", marker = \"o\")\n",
    "plt.plot(plist, random_effect[\"average_degree\"], label = \"Random\", marker = \"x\")\n",
    "#plt.title(\"Effect of attacks and errors on network average degree\")\n",
    "plt.legend(loc = \"lower left\")\n",
    "plt.xlabel(\"Fraction of airports removed\")\n",
    "plt.ylabel(\"Average degree\")\n",
    "\n",
    "plt.subplot(1,2,2)\n",
    "plt.plot(plist, attack_effect[\"average_clustering\"], label = \"Attacks\", marker = \"*\")\n",
    "plt.plot(plist, error_effect[\"average_clustering\"], label = \"Errors\", marker = \"o\")\n",
    "plt.plot(plist, random_effect[\"average_clustering\"], label = \"Random\", marker = \"x\")\n",
    "#plt.title(\"Effect of attacks and errors on network clustering coefficient\")\n",
    "plt.legend(loc = \"lower left\")\n",
    "plt.xlabel(\"Fraction of airports removed\")\n",
    "plt.ylabel(\"Clustering coefficient\")\n",
    "plt.savefig(fname = \"Figures/attacksanderrors.png\", format = \"png\", bbox_inches = \"tight\")\n",
    "\n",
    "plt.show()"
   ]
  }
 ],
 "metadata": {
  "kernelspec": {
   "display_name": "Python 3",
   "language": "python",
   "name": "python3"
  },
  "language_info": {
   "codemirror_mode": {
    "name": "ipython",
    "version": 3
   },
   "file_extension": ".py",
   "mimetype": "text/x-python",
   "name": "python",
   "nbconvert_exporter": "python",
   "pygments_lexer": "ipython3",
   "version": "3.7.1"
  }
 },
 "nbformat": 4,
 "nbformat_minor": 2
}
