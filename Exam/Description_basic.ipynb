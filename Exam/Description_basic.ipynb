{
 "cells": [
  {
   "cell_type": "markdown",
   "metadata": {},
   "source": [
    "# Basic description of the data sets\n",
    "Data comes from http://stat-computing.org/dataexpo/2009/the-data.html.\n",
    "* Variable descriptions are also shown at that url.\n",
    "* As shown below, there are 7453215 observations of 29 variables.\n",
    "* All variable names can be seen below.\n",
    "* The dataset has 304 unique departure airports and 310 unique destination airports (relatively few?)."
   ]
  },
  {
   "cell_type": "code",
   "execution_count": 1,
   "metadata": {},
   "outputs": [],
   "source": [
    "## US airports data# imports\n",
    "import numpy as np\n",
    "import pandas as pd\n",
    "import matplotlib.pyplot as plt\n",
    "import networkx as nx"
   ]
  },
  {
   "cell_type": "markdown",
   "metadata": {},
   "source": [
    "## US domestic flights data, cleaned"
   ]
  },
  {
   "cell_type": "code",
   "execution_count": 2,
   "metadata": {},
   "outputs": [
    {
     "name": "stdout",
     "output_type": "stream",
     "text": [
      "Rows: 6425\n",
      "Index(['Origin', 'Dest', 'Distance', 'count', 'avg_time_mins', 'companies',\n",
      "       'Origin_flights', 'Destination_flights', 'origin_degree', 'dest_degree',\n",
      "       'origin_btwns', 'dest_btwns', 'origin_clustcoef', 'dest_clustcoef'],\n",
      "      dtype='object')\n",
      "There are 358 unique departure airports in the dataset\n",
      "There are 358 unique destination airports in the dataset\n",
      "There are 6365 unique journeys in the dataset\n"
     ]
    }
   ],
   "source": [
    "FlightsNx = pd.read_pickle(\"FlightsNx18.pkl\")\n",
    "print('Rows:', len(FlightsNx.index))\n",
    "print(FlightsNx.columns)\n",
    "print('There are {} unique departure airports in the dataset'.format(FlightsNx.Origin.nunique()))\n",
    "print('There are {} unique destination airports in the dataset'.format(FlightsNx.Dest.nunique()))\n",
    "FlightsNx[\"Journey\"] = FlightsNx[\"Origin\"]+FlightsNx[\"Dest\"]\n",
    "print('There are {} unique journeys in the dataset'.format(FlightsNx.Journey.nunique()))"
   ]
  },
  {
   "cell_type": "markdown",
   "metadata": {},
   "source": [
    "### Using NetworkX"
   ]
  },
  {
   "cell_type": "code",
   "execution_count": 3,
   "metadata": {},
   "outputs": [
    {
     "name": "stdout",
     "output_type": "stream",
     "text": [
      "Name: \n",
      "Type: Graph\n",
      "Number of nodes: 358\n",
      "Number of edges: 3220\n",
      "Average degree:  17.9888\n"
     ]
    }
   ],
   "source": [
    "Network = nx.from_pandas_edgelist(FlightsNx, source = \"Origin\", target = \"Dest\", edge_attr = True)\n",
    "print(nx.info(Network))"
   ]
  },
  {
   "cell_type": "markdown",
   "metadata": {},
   "source": [
    "### Sparse"
   ]
  },
  {
   "cell_type": "code",
   "execution_count": 4,
   "metadata": {},
   "outputs": [
    {
     "name": "stdout",
     "output_type": "stream",
     "text": [
      "L_max = 63903.0\n",
      "0.05988098966489195\n"
     ]
    }
   ],
   "source": [
    "# calculate L_max:  \n",
    "print(\"L_max = {}\".format(len(Network.nodes)*(len(Network.nodes)-1)*(1/2)))\n",
    "print(2868/47895)"
   ]
  },
  {
   "cell_type": "markdown",
   "metadata": {},
   "source": [
    "### Degree distribution"
   ]
  },
  {
   "cell_type": "code",
   "execution_count": 5,
   "metadata": {},
   "outputs": [],
   "source": [
    "degrees = pd.read_pickle(\"Degrees.pkl\")"
   ]
  },
  {
   "cell_type": "code",
   "execution_count": 6,
   "metadata": {},
   "outputs": [
    {
     "name": "stdout",
     "output_type": "stream",
     "text": [
      "No. airports w. degree < 5:   120\n",
      "No. airports w. degree > 100: 9\n"
     ]
    },
    {
     "data": {
      "text/html": [
       "<div>\n",
       "<style scoped>\n",
       "    .dataframe tbody tr th:only-of-type {\n",
       "        vertical-align: middle;\n",
       "    }\n",
       "\n",
       "    .dataframe tbody tr th {\n",
       "        vertical-align: top;\n",
       "    }\n",
       "\n",
       "    .dataframe thead th {\n",
       "        text-align: right;\n",
       "    }\n",
       "</style>\n",
       "<table border=\"1\" class=\"dataframe\">\n",
       "  <thead>\n",
       "    <tr style=\"text-align: right;\">\n",
       "      <th></th>\n",
       "      <th>degree</th>\n",
       "      <th>degree_unnormalized</th>\n",
       "      <th>airport</th>\n",
       "    </tr>\n",
       "  </thead>\n",
       "  <tbody>\n",
       "    <tr>\n",
       "      <th>70</th>\n",
       "      <td>0.601942</td>\n",
       "      <td>186.0</td>\n",
       "      <td>ATL</td>\n",
       "    </tr>\n",
       "    <tr>\n",
       "      <th>72</th>\n",
       "      <td>0.498382</td>\n",
       "      <td>154.0</td>\n",
       "      <td>ORD</td>\n",
       "    </tr>\n",
       "    <tr>\n",
       "      <th>111</th>\n",
       "      <td>0.427184</td>\n",
       "      <td>132.0</td>\n",
       "      <td>DFW</td>\n",
       "    </tr>\n",
       "    <tr>\n",
       "      <th>77</th>\n",
       "      <td>0.420712</td>\n",
       "      <td>130.0</td>\n",
       "      <td>MSP</td>\n",
       "    </tr>\n",
       "    <tr>\n",
       "      <th>28</th>\n",
       "      <td>0.398058</td>\n",
       "      <td>123.0</td>\n",
       "      <td>SLC</td>\n",
       "    </tr>\n",
       "    <tr>\n",
       "      <th>54</th>\n",
       "      <td>0.394822</td>\n",
       "      <td>122.0</td>\n",
       "      <td>DEN</td>\n",
       "    </tr>\n",
       "    <tr>\n",
       "      <th>65</th>\n",
       "      <td>0.378641</td>\n",
       "      <td>117.0</td>\n",
       "      <td>IAH</td>\n",
       "    </tr>\n",
       "    <tr>\n",
       "      <th>79</th>\n",
       "      <td>0.378641</td>\n",
       "      <td>117.0</td>\n",
       "      <td>CVG</td>\n",
       "    </tr>\n",
       "    <tr>\n",
       "      <th>18</th>\n",
       "      <td>0.372168</td>\n",
       "      <td>115.0</td>\n",
       "      <td>DTW</td>\n",
       "    </tr>\n",
       "    <tr>\n",
       "      <th>67</th>\n",
       "      <td>0.300971</td>\n",
       "      <td>93.0</td>\n",
       "      <td>EWR</td>\n",
       "    </tr>\n",
       "  </tbody>\n",
       "</table>\n",
       "</div>"
      ],
      "text/plain": [
       "       degree  degree_unnormalized airport\n",
       "70   0.601942                186.0     ATL\n",
       "72   0.498382                154.0     ORD\n",
       "111  0.427184                132.0     DFW\n",
       "77   0.420712                130.0     MSP\n",
       "28   0.398058                123.0     SLC\n",
       "54   0.394822                122.0     DEN\n",
       "65   0.378641                117.0     IAH\n",
       "79   0.378641                117.0     CVG\n",
       "18   0.372168                115.0     DTW\n",
       "67   0.300971                 93.0     EWR"
      ]
     },
     "execution_count": 6,
     "metadata": {},
     "output_type": "execute_result"
    }
   ],
   "source": [
    "print('No. airports w. degree < 5:  ', len(degrees.loc[(degrees[\"degree_unnormalized\"] < 5)].index))\n",
    "print('No. airports w. degree > 100:', len(degrees.loc[(degrees[\"degree_unnormalized\"] > 100)].index))\n",
    "\n",
    "# See most connected airports in dataset\n",
    "degrees.sort_values(by = \"degree_unnormalized\", ascending = False).head(10)"
   ]
  },
  {
   "cell_type": "code",
   "execution_count": 7,
   "metadata": {},
   "outputs": [
    {
     "data": {
      "image/png": "[encoded data removed]",
      "text/plain": [
       "<Figure size 432x432 with 1 Axes>"
      ]
     },
     "metadata": {
      "needs_background": "light"
     },
     "output_type": "display_data"
    }
   ],
   "source": [
    "# Degree distribution\n",
    "fig, ax = plt.subplots(figsize = (6,6))\n",
    "plt.hist(degrees[\"degree_unnormalized\"], bins = 70)\n",
    "plt.ylim(0,80)\n",
    "plt.show()"
   ]
  },
  {
   "cell_type": "markdown",
   "metadata": {},
   "source": [
    "### Betweenness centrality"
   ]
  },
  {
   "cell_type": "code",
   "execution_count": 8,
   "metadata": {},
   "outputs": [
    {
     "data": {
      "text/plain": [
       "<matplotlib.axes._subplots.AxesSubplot at 0x1c58b42f080>"
      ]
     },
     "execution_count": 8,
     "metadata": {},
     "output_type": "execute_result"
    },
    {
     "data": {
      "image/png": "[encoded data removed]",
      "text/plain": [
       "<Figure size 432x288 with 1 Axes>"
      ]
     },
     "metadata": {
      "needs_background": "light"
     },
     "output_type": "display_data"
    }
   ],
   "source": [
    "btwn = nx.betweenness_centrality(Network)\n",
    "betweenness = list(btwn.values())\n",
    "btwn_df = pd.DataFrame(betweenness)\n",
    "btwn_df.columns = [\"betweenness\"]\n",
    "btwn_df[\"airport\"] = btwn.keys()\n",
    "\n",
    "btwn_df.sort_values(by = \"betweenness\", ascending = False)\n",
    "Node_char = degrees.merge(btwn_df, on= \"airport\")\n"
   ]
  },
  {
   "cell_type": "markdown",
   "metadata": {},
   "source": [
    "Clustering Coefficient"
   ]
  },
  {
   "cell_type": "code",
   "execution_count": 22,
   "metadata": {},
   "outputs": [],
   "source": [
    "clusters = nx.algorithms.cluster.clustering(Network)\n",
    "clusters_df = pd.DataFrame(list(clusters.values()))\n",
    "clusters_df.columns = [\"clustering\"]\n",
    "clusters_df[\"airport\"] = clusters.keys()\n",
    "Node_char = Node_char.merge(clusters_df, on = \"airport\")"
   ]
  },
  {
   "cell_type": "code",
   "execution_count": 33,
   "metadata": {},
   "outputs": [
    {
     "data": {
      "image/png": "[encoded data removed]",
      "text/plain": [
       "<Figure size 864x432 with 1 Axes>"
      ]
     },
     "metadata": {
      "needs_background": "light"
     },
     "output_type": "display_data"
    },
    {
     "data": {
      "image/png": "[encoded data removed]",
      "text/plain": [
       "<Figure size 864x432 with 2 Axes>"
      ]
     },
     "metadata": {
      "needs_background": "light"
     },
     "output_type": "display_data"
    }
   ],
   "source": [
    "## Figure with degree distribution, betweenness centrality and clustering\n",
    "fig, ax = plt.subplots(figsize = (12,6))\n",
    "\n",
    "plt.hist(Node_char[\"degree_unnormalized\"], bins = 50)\n",
    "plt.xlabel(\"Degree\")\n",
    "plt.savefig(fname = \"Figures/degreeDistribution.png\", bbox_inches = \"tight\")\n",
    "plt.show()\n",
    "\n",
    "fig, ax = plt.subplots(figsize = (12,6))\n",
    "\n",
    "plt.subplot(1,2,1)\n",
    "plt.hist(Node_char[\"betweenness\"], bins = 50)\n",
    "plt.xlabel(\"Betweenness centrality\")\n",
    "\n",
    "plt.subplot(1,2,2)\n",
    "plt.hist(Node_char[\"clustering\"], bins = 50)\n",
    "plt.xlabel(\"Clustering coefficient\")\n",
    "plt.savefig(fname = \"Figures/Btwns_CC.png\", bbox_inches = \"tight\")\n",
    "plt.show()"
   ]
  },
  {
   "cell_type": "markdown",
   "metadata": {},
   "source": [
    "#### (node) betweenness centrality vs degree"
   ]
  },
  {
   "cell_type": "code",
   "execution_count": 9,
   "metadata": {},
   "outputs": [
    {
     "data": {
      "image/png": "[encoded data removed]",
      "text/plain": [
       "<Figure size 504x504 with 1 Axes>"
      ]
     },
     "metadata": {
      "needs_background": "light"
     },
     "output_type": "display_data"
    }
   ],
   "source": [
    "# Betweenness vs. degree\n",
    "fig, ax = plt.subplots(figsize = (7,7))\n",
    "plt.scatter(Node_char[\"degree\"],Node_char[\"betweenness\"])\n",
    "plt.xlabel(\"Normalized Degree\")\n",
    "plt.ylabel(\"Betweenness\")\n",
    "plt.show()"
   ]
  },
  {
   "cell_type": "markdown",
   "metadata": {},
   "source": [
    "### Measures for entire network"
   ]
  },
  {
   "cell_type": "code",
   "execution_count": 10,
   "metadata": {},
   "outputs": [
    {
     "name": "stdout",
     "output_type": "stream",
     "text": [
      "The average shortest path is: 2.3794657527815595\n",
      "The average clustering coefficient is: 0.5671628544291067\n",
      "The diameter of the network is: 6\n",
      "The global efficiency of the network is: 0.4571454652628847\n"
     ]
    }
   ],
   "source": [
    "# print(nx.info(Network))\n",
    "print(\"The average shortest path is: {}\".format(nx.average_shortest_path_length(Network)))\n",
    "print(\"The average clustering coefficient is: {}\".format(nx.average_clustering(Network)))\n",
    "print(\"The diameter of the network is: {}\".format(nx.diameter(Network)))\n",
    "print(\"The global efficiency of the network is: {}\".format(nx.global_efficiency(Network)))"
   ]
  },
  {
   "cell_type": "markdown",
   "metadata": {},
   "source": [
    "### Shortest path length: Atlanta example"
   ]
  },
  {
   "cell_type": "code",
   "execution_count": 11,
   "metadata": {},
   "outputs": [
    {
     "name": "stdout",
     "output_type": "stream",
     "text": [
      "2.3794657527815595\n"
     ]
    }
   ],
   "source": [
    "avg_shrt_path_len = nx.average_shortest_path_length(Network)\n",
    "print(avg_shrt_path_len)"
   ]
  },
  {
   "cell_type": "markdown",
   "metadata": {},
   "source": [
    "## US airports data"
   ]
  },
  {
   "cell_type": "code",
   "execution_count": 13,
   "metadata": {},
   "outputs": [
    {
     "name": "stdout",
     "output_type": "stream",
     "text": [
      "No. airports in the openflights data: 1512\n",
      "- of which missing 3DigitId: 261\n",
      "- of which containing 3DigitId: 1252\n",
      "No. airports within the network: 358\n"
     ]
    },
    {
     "data": {
      "text/html": [
       "<div>\n",
       "<style scoped>\n",
       "    .dataframe tbody tr th:only-of-type {\n",
       "        vertical-align: middle;\n",
       "    }\n",
       "\n",
       "    .dataframe tbody tr th {\n",
       "        vertical-align: top;\n",
       "    }\n",
       "\n",
       "    .dataframe thead th {\n",
       "        text-align: right;\n",
       "    }\n",
       "</style>\n",
       "<table border=\"1\" class=\"dataframe\">\n",
       "  <thead>\n",
       "    <tr style=\"text-align: right;\">\n",
       "      <th></th>\n",
       "      <th>3DigitId</th>\n",
       "      <th>Lat</th>\n",
       "      <th>Lon</th>\n",
       "    </tr>\n",
       "  </thead>\n",
       "  <tbody>\n",
       "    <tr>\n",
       "      <th>0</th>\n",
       "      <td>FLL</td>\n",
       "      <td>26.072599</td>\n",
       "      <td>-80.152702</td>\n",
       "    </tr>\n",
       "    <tr>\n",
       "      <th>1</th>\n",
       "      <td>IAH</td>\n",
       "      <td>29.984400</td>\n",
       "      <td>-95.341400</td>\n",
       "    </tr>\n",
       "  </tbody>\n",
       "</table>\n",
       "</div>"
      ],
      "text/plain": [
       "  3DigitId        Lat        Lon\n",
       "0      FLL  26.072599 -80.152702\n",
       "1      IAH  29.984400 -95.341400"
      ]
     },
     "execution_count": 13,
     "metadata": {},
     "output_type": "execute_result"
    }
   ],
   "source": [
    "Airports = pd.read_pickle(\"Airports.pkl\")\n",
    "\n",
    "# Get list of nodes, and add lat, lon from Airports dataset:\n",
    "nodes = pd.DataFrame(list(Network.nodes()))\n",
    "nodes.columns = [\"3DigitId\"]\n",
    "positions = nodes.merge(Airports[[\"3DigitId\",\"Lat\",\"Lon\"]], how = \"left\", on = \"3DigitId\")\n",
    "\n",
    "print('No. airports in the openflights data:', len(Airports))\n",
    "print('- of which missing 3DigitId:', Airports['3DigitId'].value_counts(dropna=False).nlargest(1)[0])\n",
    "print('- of which containing 3DigitId:', Airports['3DigitId'].nunique())\n",
    "print('No. airports within the network:', positions['3DigitId'].nunique())\n",
    "positions.head(2)"
   ]
  }
 ],
 "metadata": {
  "kernelspec": {
   "display_name": "Python 3",
   "language": "python",
   "name": "python3"
  },
  "language_info": {
   "codemirror_mode": {
    "name": "ipython",
    "version": 3
   },
   "file_extension": ".py",
   "mimetype": "text/x-python",
   "name": "python",
   "nbconvert_exporter": "python",
   "pygments_lexer": "ipython3",
   "version": "3.7.1"
  }
 },
 "nbformat": 4,
 "nbformat_minor": 2
}
