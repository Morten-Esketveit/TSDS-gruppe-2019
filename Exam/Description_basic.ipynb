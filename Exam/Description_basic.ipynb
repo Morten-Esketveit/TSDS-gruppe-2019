{
 "cells": [
  {
   "cell_type": "markdown",
   "metadata": {},
   "source": [
    "# Basic description of the data sets\n",
    "Data comes from http://stat-computing.org/dataexpo/2009/the-data.html.\n",
    "* Variable descriptions are also shown at that url.\n",
    "* As shown below, there are 7453215 observations of 29 variables.\n",
    "* All variable names can be seen below.\n",
    "* The dataset has 304 unique departure airports and 310 unique destination airports (relatively few?)."
   ]
  },
  {
   "cell_type": "code",
   "execution_count": 1,
   "metadata": {},
   "outputs": [],
   "source": [
    "## US airports data# imports\n",
    "import numpy as np\n",
    "import pandas as pd\n",
    "import matplotlib.pyplot as plt\n",
    "import networkx as nx\n",
    "import seaborn as sns"
   ]
  },
  {
   "cell_type": "code",
   "execution_count": 27,
   "metadata": {},
   "outputs": [],
   "source": [
    "FlightsNx98 = pd.read_pickle(\"FlightsML98.pkl\")\n",
    "FlightsNx07 = pd.read_pickle(\"FlightsML.pkl\")\n",
    "FlightsNx18 = pd.read_pickle(\"FlightsML18.pkl\")"
   ]
  },
  {
   "cell_type": "code",
   "execution_count": null,
   "metadata": {},
   "outputs": [],
   "source": []
  },
  {
   "cell_type": "markdown",
   "metadata": {},
   "source": [
    "## US domestic flights data, cleaned"
   ]
  },
  {
   "cell_type": "code",
   "execution_count": 2,
   "metadata": {},
   "outputs": [
    {
     "name": "stdout",
     "output_type": "stream",
     "text": [
      "Rows: 6425\n",
      "Index(['Origin', 'Dest', 'Distance', 'count', 'Origin_flights',\n",
      "       'Destination_flights', 'origin_degree', 'origin_degree_unn',\n",
      "       'dest_degree', 'dest_degree_unn'],\n",
      "      dtype='object')\n",
      "There are 358 unique departure airports in the dataset\n",
      "There are 358 unique destination airports in the dataset\n",
      "There are 6365 unique journeys in the dataset\n"
     ]
    }
   ],
   "source": [
    "FlightsNx = pd.read_pickle(\"FlightsNx18.pkl\")\n",
    "print('Rows:', len(FlightsNx.index))\n",
    "print(FlightsNx.columns)\n",
    "print('There are {} unique departure airports in the dataset'.format(FlightsNx.Origin.nunique()))\n",
    "print('There are {} unique destination airports in the dataset'.format(FlightsNx.Dest.nunique()))\n",
    "FlightsNx[\"Journey\"] = FlightsNx[\"Origin\"]+FlightsNx[\"Dest\"]\n",
    "print('There are {} unique journeys in the dataset'.format(FlightsNx.Journey.nunique()))"
   ]
  },
  {
   "cell_type": "markdown",
   "metadata": {},
   "source": [
    "### Using NetworkX"
   ]
  },
  {
   "cell_type": "code",
   "execution_count": 3,
   "metadata": {},
   "outputs": [
    {
     "name": "stdout",
     "output_type": "stream",
     "text": [
      "Name: \n",
      "Type: Graph\n",
      "Number of nodes: 358\n",
      "Number of edges: 3220\n",
      "Average degree:  17.9888\n"
     ]
    }
   ],
   "source": [
    "Network = nx.from_pandas_edgelist(FlightsNx, source = \"Origin\", target = \"Dest\", edge_attr = True)\n",
    "print(nx.info(Network))"
   ]
  },
  {
   "cell_type": "markdown",
   "metadata": {},
   "source": [
    "### Sparse"
   ]
  },
  {
   "cell_type": "code",
   "execution_count": 4,
   "metadata": {},
   "outputs": [
    {
     "name": "stdout",
     "output_type": "stream",
     "text": [
      "L_max = 63903.0\n",
      "0.05988098966489195\n"
     ]
    }
   ],
   "source": [
    "# calculate L_max:  \n",
    "print(\"L_max = {}\".format(len(Network.nodes)*(len(Network.nodes)-1)*(1/2)))\n",
    "print(2868/47895)"
   ]
  },
  {
   "cell_type": "markdown",
   "metadata": {},
   "source": [
    "### Degree distribution"
   ]
  },
  {
   "cell_type": "code",
   "execution_count": 5,
   "metadata": {},
   "outputs": [],
   "source": [
    "degrees = pd.read_pickle(\"Degrees18.pkl\")"
   ]
  },
  {
   "cell_type": "code",
   "execution_count": 6,
   "metadata": {},
   "outputs": [
    {
     "name": "stdout",
     "output_type": "stream",
     "text": [
      "No. airports w. degree < 5:   160\n",
      "No. airports w. degree > 100: 11\n"
     ]
    },
    {
     "data": {
      "text/html": [
       "<div>\n",
       "<style scoped>\n",
       "    .dataframe tbody tr th:only-of-type {\n",
       "        vertical-align: middle;\n",
       "    }\n",
       "\n",
       "    .dataframe tbody tr th {\n",
       "        vertical-align: top;\n",
       "    }\n",
       "\n",
       "    .dataframe thead th {\n",
       "        text-align: right;\n",
       "    }\n",
       "</style>\n",
       "<table border=\"1\" class=\"dataframe\">\n",
       "  <thead>\n",
       "    <tr style=\"text-align: right;\">\n",
       "      <th></th>\n",
       "      <th>degree</th>\n",
       "      <th>degree_unnormalized</th>\n",
       "      <th>airport</th>\n",
       "    </tr>\n",
       "  </thead>\n",
       "  <tbody>\n",
       "    <tr>\n",
       "      <th>6</th>\n",
       "      <td>0.492997</td>\n",
       "      <td>176.0</td>\n",
       "      <td>ORD</td>\n",
       "    </tr>\n",
       "    <tr>\n",
       "      <th>36</th>\n",
       "      <td>0.476190</td>\n",
       "      <td>170.0</td>\n",
       "      <td>DFW</td>\n",
       "    </tr>\n",
       "    <tr>\n",
       "      <th>25</th>\n",
       "      <td>0.467787</td>\n",
       "      <td>167.0</td>\n",
       "      <td>ATL</td>\n",
       "    </tr>\n",
       "    <tr>\n",
       "      <th>15</th>\n",
       "      <td>0.459384</td>\n",
       "      <td>164.0</td>\n",
       "      <td>DEN</td>\n",
       "    </tr>\n",
       "    <tr>\n",
       "      <th>84</th>\n",
       "      <td>0.380952</td>\n",
       "      <td>136.0</td>\n",
       "      <td>CLT</td>\n",
       "    </tr>\n",
       "    <tr>\n",
       "      <th>51</th>\n",
       "      <td>0.369748</td>\n",
       "      <td>132.0</td>\n",
       "      <td>MSP</td>\n",
       "    </tr>\n",
       "    <tr>\n",
       "      <th>11</th>\n",
       "      <td>0.327731</td>\n",
       "      <td>117.0</td>\n",
       "      <td>LAS</td>\n",
       "    </tr>\n",
       "    <tr>\n",
       "      <th>1</th>\n",
       "      <td>0.324930</td>\n",
       "      <td>116.0</td>\n",
       "      <td>IAH</td>\n",
       "    </tr>\n",
       "    <tr>\n",
       "      <th>59</th>\n",
       "      <td>0.313725</td>\n",
       "      <td>112.0</td>\n",
       "      <td>DTW</td>\n",
       "    </tr>\n",
       "    <tr>\n",
       "      <th>5</th>\n",
       "      <td>0.296919</td>\n",
       "      <td>106.0</td>\n",
       "      <td>LAX</td>\n",
       "    </tr>\n",
       "  </tbody>\n",
       "</table>\n",
       "</div>"
      ],
      "text/plain": [
       "      degree  degree_unnormalized airport\n",
       "6   0.492997                176.0     ORD\n",
       "36  0.476190                170.0     DFW\n",
       "25  0.467787                167.0     ATL\n",
       "15  0.459384                164.0     DEN\n",
       "84  0.380952                136.0     CLT\n",
       "51  0.369748                132.0     MSP\n",
       "11  0.327731                117.0     LAS\n",
       "1   0.324930                116.0     IAH\n",
       "59  0.313725                112.0     DTW\n",
       "5   0.296919                106.0     LAX"
      ]
     },
     "execution_count": 6,
     "metadata": {},
     "output_type": "execute_result"
    }
   ],
   "source": [
    "print('No. airports w. degree < 5:  ', len(degrees.loc[(degrees[\"degree_unnormalized\"] < 5)].index))\n",
    "print('No. airports w. degree > 100:', len(degrees.loc[(degrees[\"degree_unnormalized\"] > 100)].index))\n",
    "\n",
    "# See most connected airports in dataset\n",
    "degrees.sort_values(by = \"degree_unnormalized\", ascending = False).head(10)"
   ]
  },
  {
   "cell_type": "code",
   "execution_count": 7,
   "metadata": {},
   "outputs": [
    {
     "data": {
      "image/png": "[encoded data removed]",
      "text/plain": [
       "<Figure size 432x432 with 1 Axes>"
      ]
     },
     "metadata": {
      "needs_background": "light"
     },
     "output_type": "display_data"
    }
   ],
   "source": [
    "# Degree distribution\n",
    "fig, ax = plt.subplots(figsize = (6,6))\n",
    "plt.hist(degrees[\"degree_unnormalized\"], bins = 70)\n",
    "plt.ylim(0,80)\n",
    "plt.show()"
   ]
  },
  {
   "cell_type": "markdown",
   "metadata": {},
   "source": [
    "### Betweenness centrality"
   ]
  },
  {
   "cell_type": "code",
   "execution_count": 8,
   "metadata": {},
   "outputs": [],
   "source": [
    "btwn = nx.betweenness_centrality(Network)\n",
    "betweenness = list(btwn.values())\n",
    "btwn_df = pd.DataFrame(betweenness)\n",
    "btwn_df.columns = [\"betweenness\"]\n",
    "btwn_df[\"airport\"] = btwn.keys()\n",
    "\n",
    "btwn_df.sort_values(by = \"betweenness\", ascending = False)\n",
    "Node_char = degrees.merge(btwn_df, on= \"airport\")\n"
   ]
  },
  {
   "cell_type": "markdown",
   "metadata": {},
   "source": [
    "Clustering Coefficient"
   ]
  },
  {
   "cell_type": "code",
   "execution_count": 9,
   "metadata": {},
   "outputs": [],
   "source": [
    "clusters = nx.algorithms.cluster.clustering(Network)\n",
    "clusters_df = pd.DataFrame(list(clusters.values()))\n",
    "clusters_df.columns = [\"clustering\"]\n",
    "clusters_df[\"airport\"] = clusters.keys()\n",
    "Node_char = Node_char.merge(clusters_df, on = \"airport\")"
   ]
  },
  {
   "cell_type": "code",
   "execution_count": 10,
   "metadata": {},
   "outputs": [
    {
     "data": {
      "image/png": "[encoded data removed]",
      "text/plain": [
       "<Figure size 864x432 with 1 Axes>"
      ]
     },
     "metadata": {
      "needs_background": "light"
     },
     "output_type": "display_data"
    },
    {
     "data": {
      "image/png": "[encoded data removed]",
      "text/plain": [
       "<Figure size 864x432 with 2 Axes>"
      ]
     },
     "metadata": {
      "needs_background": "light"
     },
     "output_type": "display_data"
    }
   ],
   "source": [
    "## Figure with degree distribution, betweenness centrality and clustering\n",
    "fig, ax = plt.subplots(figsize = (12,6))\n",
    "\n",
    "plt.hist(Node_char[\"degree_unnormalized\"], bins = 50)\n",
    "plt.xlabel(\"Degree\")\n",
    "plt.savefig(fname = \"Figures/degreeDistribution.png\", bbox_inches = \"tight\")\n",
    "plt.show()\n",
    "\n",
    "fig, ax = plt.subplots(figsize = (12,6))\n",
    "\n",
    "plt.subplot(1,2,1)\n",
    "plt.hist(Node_char[\"betweenness\"], bins = 50)\n",
    "plt.xlabel(\"Betweenness centrality\")\n",
    "\n",
    "plt.subplot(1,2,2)\n",
    "plt.hist(Node_char[\"clustering\"], bins = 50)\n",
    "plt.xlabel(\"Clustering coefficient\")\n",
    "plt.savefig(fname = \"Figures/Btwns_CC.png\", bbox_inches = \"tight\")\n",
    "plt.show()"
   ]
  },
  {
   "cell_type": "markdown",
   "metadata": {},
   "source": [
    "#### (node) betweenness centrality vs degree"
   ]
  },
  {
   "cell_type": "code",
   "execution_count": 11,
   "metadata": {},
   "outputs": [
    {
     "data": {
      "text/html": [
       "<div>\n",
       "<style scoped>\n",
       "    .dataframe tbody tr th:only-of-type {\n",
       "        vertical-align: middle;\n",
       "    }\n",
       "\n",
       "    .dataframe tbody tr th {\n",
       "        vertical-align: top;\n",
       "    }\n",
       "\n",
       "    .dataframe thead th {\n",
       "        text-align: right;\n",
       "    }\n",
       "</style>\n",
       "<table border=\"1\" class=\"dataframe\">\n",
       "  <thead>\n",
       "    <tr style=\"text-align: right;\">\n",
       "      <th></th>\n",
       "      <th>degree</th>\n",
       "      <th>degree_unnormalized</th>\n",
       "      <th>airport</th>\n",
       "      <th>betweenness</th>\n",
       "      <th>clustering</th>\n",
       "    </tr>\n",
       "  </thead>\n",
       "  <tbody>\n",
       "    <tr>\n",
       "      <th>0</th>\n",
       "      <td>0.229692</td>\n",
       "      <td>82.0</td>\n",
       "      <td>FLL</td>\n",
       "      <td>0.018078</td>\n",
       "      <td>0.389341</td>\n",
       "    </tr>\n",
       "    <tr>\n",
       "      <th>1</th>\n",
       "      <td>0.324930</td>\n",
       "      <td>116.0</td>\n",
       "      <td>IAH</td>\n",
       "      <td>0.036642</td>\n",
       "      <td>0.254573</td>\n",
       "    </tr>\n",
       "    <tr>\n",
       "      <th>2</th>\n",
       "      <td>0.229692</td>\n",
       "      <td>82.0</td>\n",
       "      <td>SEA</td>\n",
       "      <td>0.037868</td>\n",
       "      <td>0.400783</td>\n",
       "    </tr>\n",
       "    <tr>\n",
       "      <th>3</th>\n",
       "      <td>0.243697</td>\n",
       "      <td>87.0</td>\n",
       "      <td>SFO</td>\n",
       "      <td>0.023779</td>\n",
       "      <td>0.341353</td>\n",
       "    </tr>\n",
       "    <tr>\n",
       "      <th>4</th>\n",
       "      <td>0.252101</td>\n",
       "      <td>90.0</td>\n",
       "      <td>DCA</td>\n",
       "      <td>0.010806</td>\n",
       "      <td>0.355056</td>\n",
       "    </tr>\n",
       "  </tbody>\n",
       "</table>\n",
       "</div>"
      ],
      "text/plain": [
       "     degree  degree_unnormalized airport  betweenness  clustering\n",
       "0  0.229692                 82.0     FLL     0.018078    0.389341\n",
       "1  0.324930                116.0     IAH     0.036642    0.254573\n",
       "2  0.229692                 82.0     SEA     0.037868    0.400783\n",
       "3  0.243697                 87.0     SFO     0.023779    0.341353\n",
       "4  0.252101                 90.0     DCA     0.010806    0.355056"
      ]
     },
     "execution_count": 11,
     "metadata": {},
     "output_type": "execute_result"
    }
   ],
   "source": [
    "Node_char.head()"
   ]
  },
  {
   "cell_type": "code",
   "execution_count": 12,
   "metadata": {},
   "outputs": [
    {
     "data": {
      "image/png": "[encoded data removed]",
      "text/plain": [
       "<Figure size 540x540 with 12 Axes>"
      ]
     },
     "metadata": {
      "needs_background": "light"
     },
     "output_type": "display_data"
    }
   ],
   "source": [
    "cols = [\"degree\",\"betweenness\",\"clustering\"]\n",
    "sns.pairplot(Node_char[cols], height = 2.5)\n",
    "plt.tight_layout()\n",
    "plt.savefig(fname = \"Figures/NxPairPlot.png\")\n",
    "plt.show()"
   ]
  },
  {
   "cell_type": "code",
   "execution_count": 25,
   "metadata": {},
   "outputs": [
    {
     "data": {
      "image/png": "[encoded data removed]",
      "text/plain": [
       "<Figure size 504x504 with 1 Axes>"
      ]
     },
     "metadata": {
      "needs_background": "light"
     },
     "output_type": "display_data"
    }
   ],
   "source": [
    "# Betweenness vs. degree\n",
    "fig, ax = plt.subplots(figsize = (7,7))\n",
    "plt.scatter(Node_char[\"degree\"],Node_char[\"betweenness\"])\n",
    "plt.xlabel(\"$\\\\alpha$\", fontsize = 20)\n",
    "plt.ylabel(\"$R^2$\", fontsize = 20)\n",
    "plt.show()"
   ]
  },
  {
   "cell_type": "markdown",
   "metadata": {},
   "source": [
    "### Measures for entire network"
   ]
  },
  {
   "cell_type": "code",
   "execution_count": 14,
   "metadata": {},
   "outputs": [
    {
     "name": "stdout",
     "output_type": "stream",
     "text": [
      "The average shortest path is: 2.3794657527815595\n",
      "The average clustering coefficient is: 0.5671628544291067\n",
      "The diameter of the network is: 6\n",
      "The global efficiency of the network is: 0.4571454652628847\n"
     ]
    }
   ],
   "source": [
    "# print(nx.info(Network))\n",
    "print(\"The average shortest path is: {}\".format(nx.average_shortest_path_length(Network)))\n",
    "print(\"The average clustering coefficient is: {}\".format(nx.average_clustering(Network)))\n",
    "print(\"The diameter of the network is: {}\".format(nx.diameter(Network)))\n",
    "print(\"The global efficiency of the network is: {}\".format(nx.global_efficiency(Network)))"
   ]
  },
  {
   "cell_type": "markdown",
   "metadata": {},
   "source": [
    "### Shortest path length: Atlanta example"
   ]
  },
  {
   "cell_type": "code",
   "execution_count": 15,
   "metadata": {},
   "outputs": [
    {
     "name": "stdout",
     "output_type": "stream",
     "text": [
      "2.3794657527815595\n"
     ]
    }
   ],
   "source": [
    "avg_shrt_path_len = nx.average_shortest_path_length(Network)\n",
    "print(avg_shrt_path_len)"
   ]
  },
  {
   "cell_type": "markdown",
   "metadata": {},
   "source": [
    "## US airports data"
   ]
  },
  {
   "cell_type": "code",
   "execution_count": 16,
   "metadata": {},
   "outputs": [
    {
     "name": "stdout",
     "output_type": "stream",
     "text": [
      "No. airports in the openflights data: 1512\n",
      "- of which missing 3DigitId: 261\n",
      "- of which containing 3DigitId: 1252\n",
      "No. airports within the network: 358\n"
     ]
    },
    {
     "data": {
      "text/html": [
       "<div>\n",
       "<style scoped>\n",
       "    .dataframe tbody tr th:only-of-type {\n",
       "        vertical-align: middle;\n",
       "    }\n",
       "\n",
       "    .dataframe tbody tr th {\n",
       "        vertical-align: top;\n",
       "    }\n",
       "\n",
       "    .dataframe thead th {\n",
       "        text-align: right;\n",
       "    }\n",
       "</style>\n",
       "<table border=\"1\" class=\"dataframe\">\n",
       "  <thead>\n",
       "    <tr style=\"text-align: right;\">\n",
       "      <th></th>\n",
       "      <th>3DigitId</th>\n",
       "      <th>Lat</th>\n",
       "      <th>Lon</th>\n",
       "    </tr>\n",
       "  </thead>\n",
       "  <tbody>\n",
       "    <tr>\n",
       "      <th>0</th>\n",
       "      <td>FLL</td>\n",
       "      <td>26.072599</td>\n",
       "      <td>-80.152702</td>\n",
       "    </tr>\n",
       "    <tr>\n",
       "      <th>1</th>\n",
       "      <td>IAH</td>\n",
       "      <td>29.984400</td>\n",
       "      <td>-95.341400</td>\n",
       "    </tr>\n",
       "  </tbody>\n",
       "</table>\n",
       "</div>"
      ],
      "text/plain": [
       "  3DigitId        Lat        Lon\n",
       "0      FLL  26.072599 -80.152702\n",
       "1      IAH  29.984400 -95.341400"
      ]
     },
     "execution_count": 16,
     "metadata": {},
     "output_type": "execute_result"
    }
   ],
   "source": [
    "Airports = pd.read_pickle(\"Airports.pkl\")\n",
    "\n",
    "# Get list of nodes, and add lat, lon from Airports dataset:\n",
    "nodes = pd.DataFrame(list(Network.nodes()))\n",
    "nodes.columns = [\"3DigitId\"]\n",
    "positions = nodes.merge(Airports[[\"3DigitId\",\"Lat\",\"Lon\"]], how = \"left\", on = \"3DigitId\")\n",
    "\n",
    "print('No. airports in the openflights data:', len(Airports))\n",
    "print('- of which missing 3DigitId:', Airports['3DigitId'].value_counts(dropna=False).nlargest(1)[0])\n",
    "print('- of which containing 3DigitId:', Airports['3DigitId'].nunique())\n",
    "print('No. airports within the network:', positions['3DigitId'].nunique())\n",
    "positions.head(2)"
   ]
  },
  {
   "cell_type": "code",
   "execution_count": 17,
   "metadata": {},
   "outputs": [],
   "source": [
    "test = pd.read_pickle(\"Prediction/missings_2018_del3.pkl\")"
   ]
  },
  {
   "cell_type": "code",
   "execution_count": 18,
   "metadata": {},
   "outputs": [
    {
     "data": {
      "text/plain": [
       "(720, 6)"
      ]
     },
     "execution_count": 18,
     "metadata": {},
     "output_type": "execute_result"
    }
   ],
   "source": [
    "test.shape"
   ]
  }
 ],
 "metadata": {
  "kernelspec": {
   "display_name": "Python 3",
   "language": "python",
   "name": "python3"
  },
  "language_info": {
   "codemirror_mode": {
    "name": "ipython",
    "version": 3
   },
   "file_extension": ".py",
   "mimetype": "text/x-python",
   "name": "python",
   "nbconvert_exporter": "python",
   "pygments_lexer": "ipython3",
   "version": "3.7.1"
  }
 },
 "nbformat": 4,
 "nbformat_minor": 2
}
