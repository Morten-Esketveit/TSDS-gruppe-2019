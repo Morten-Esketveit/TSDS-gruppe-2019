{
 "cells": [
  {
   "cell_type": "markdown",
   "metadata": {},
   "source": [
    "# Basic description of the data sets\n",
    "\n",
    "Data comes from [Bureau of Transportation Statistics (BTS)](https://www.transtats.bts.gov/DL_SelectFields.asp?Table_ID=236). See [our data compiling](https://github.com/Morten-Esketveit/TSDS-gruppe-2019/blob/master/Exam/Data_compiling_v3.ipynb)."
   ]
  },
  {
   "cell_type": "code",
   "execution_count": 1,
   "metadata": {},
   "outputs": [],
   "source": [
    "# imports\n",
    "import numpy as np\n",
    "import pandas as pd\n",
    "import matplotlib.pyplot as plt\n",
    "import networkx as nx\n",
    "import seaborn as sns"
   ]
  },
  {
   "cell_type": "code",
   "execution_count": 2,
   "metadata": {},
   "outputs": [],
   "source": [
    "FlightsNx98 = pd.read_pickle(\"Data/FlightsNx98.pkl\")\n",
    "FlightsNx08 = pd.read_pickle(\"Data/FlightsNx07.pkl\")\n",
    "FlightsNx18 = pd.read_pickle(\"Data/FlightsNx18.pkl\")"
   ]
  },
  {
   "cell_type": "markdown",
   "metadata": {},
   "source": [
    "## US domestic flights data, cleaned"
   ]
  },
  {
   "cell_type": "code",
   "execution_count": 3,
   "metadata": {},
   "outputs": [
    {
     "name": "stdout",
     "output_type": "stream",
     "text": [
      "Rows: 6225\n",
      "Index(['Origin', 'Dest', 'Distance', 'count', 'avg_time_mins', 'companies',\n",
      "       'Origin_flights', 'Destination_flights', 'origin_degree', 'dest_degree',\n",
      "       'origin_btwns', 'dest_btwns', 'origin_clustcoef', 'dest_clustcoef'],\n",
      "      dtype='object')\n",
      "There are 355 unique departure airports in the dataset\n",
      "There are 355 unique destination airports in the dataset\n",
      "There are 6165 unique journeys in the dataset\n"
     ]
    }
   ],
   "source": [
    "FlightsNx = FlightsNx18\n",
    "print('Rows:', len(FlightsNx.index))\n",
    "print(FlightsNx.columns)\n",
    "print('There are {} unique departure airports in the dataset'.format(FlightsNx.Origin.nunique()))\n",
    "print('There are {} unique destination airports in the dataset'.format(FlightsNx.Dest.nunique()))\n",
    "FlightsNx[\"Journey\"] = FlightsNx[\"Origin\"]+FlightsNx[\"Dest\"]\n",
    "print('There are {} unique journeys in the dataset'.format(FlightsNx.Journey.nunique()))"
   ]
  },
  {
   "cell_type": "markdown",
   "metadata": {},
   "source": [
    "### Using NetworkX"
   ]
  },
  {
   "cell_type": "code",
   "execution_count": 4,
   "metadata": {},
   "outputs": [
    {
     "name": "stdout",
     "output_type": "stream",
     "text": [
      "Name: \n",
      "Type: Graph\n",
      "Number of nodes: 355\n",
      "Number of edges: 3110\n",
      "Average degree:  17.5211\n"
     ]
    }
   ],
   "source": [
    "Network = nx.from_pandas_edgelist(FlightsNx, source = \"Origin\", target = \"Dest\", edge_attr = True)\n",
    "print(nx.info(Network))"
   ]
  },
  {
   "cell_type": "markdown",
   "metadata": {},
   "source": [
    "### Sparse"
   ]
  },
  {
   "cell_type": "code",
   "execution_count": 5,
   "metadata": {},
   "outputs": [
    {
     "name": "stdout",
     "output_type": "stream",
     "text": [
      "L_max = 62835.0\n",
      "0.05988098966489195\n"
     ]
    }
   ],
   "source": [
    "# calculate L_max:  \n",
    "print(\"L_max = {}\".format(len(Network.nodes)*(len(Network.nodes)-1)*(1/2)))\n",
    "print(2868/47895)"
   ]
  },
  {
   "cell_type": "markdown",
   "metadata": {},
   "source": [
    "### Degree distribution"
   ]
  },
  {
   "cell_type": "code",
   "execution_count": 6,
   "metadata": {},
   "outputs": [],
   "source": [
    "degrees = pd.read_pickle(\"Data/Degrees18.pkl\")"
   ]
  },
  {
   "cell_type": "code",
   "execution_count": 7,
   "metadata": {},
   "outputs": [
    {
     "name": "stdout",
     "output_type": "stream",
     "text": [
      "No. airports w. degree < 5:   163\n",
      "No. airports w. degree > 100: 10\n"
     ]
    },
    {
     "data": {
      "text/html": [
       "<div>\n",
       "<style scoped>\n",
       "    .dataframe tbody tr th:only-of-type {\n",
       "        vertical-align: middle;\n",
       "    }\n",
       "\n",
       "    .dataframe tbody tr th {\n",
       "        vertical-align: top;\n",
       "    }\n",
       "\n",
       "    .dataframe thead th {\n",
       "        text-align: right;\n",
       "    }\n",
       "</style>\n",
       "<table border=\"1\" class=\"dataframe\">\n",
       "  <thead>\n",
       "    <tr style=\"text-align: right;\">\n",
       "      <th></th>\n",
       "      <th>degree</th>\n",
       "      <th>degree_unnormalized</th>\n",
       "      <th>airport</th>\n",
       "    </tr>\n",
       "  </thead>\n",
       "  <tbody>\n",
       "    <tr>\n",
       "      <th>6</th>\n",
       "      <td>0.485876</td>\n",
       "      <td>172.0</td>\n",
       "      <td>ORD</td>\n",
       "    </tr>\n",
       "    <tr>\n",
       "      <th>25</th>\n",
       "      <td>0.468927</td>\n",
       "      <td>166.0</td>\n",
       "      <td>ATL</td>\n",
       "    </tr>\n",
       "    <tr>\n",
       "      <th>36</th>\n",
       "      <td>0.466102</td>\n",
       "      <td>165.0</td>\n",
       "      <td>DFW</td>\n",
       "    </tr>\n",
       "    <tr>\n",
       "      <th>15</th>\n",
       "      <td>0.457627</td>\n",
       "      <td>162.0</td>\n",
       "      <td>DEN</td>\n",
       "    </tr>\n",
       "    <tr>\n",
       "      <th>84</th>\n",
       "      <td>0.372881</td>\n",
       "      <td>132.0</td>\n",
       "      <td>CLT</td>\n",
       "    </tr>\n",
       "    <tr>\n",
       "      <th>51</th>\n",
       "      <td>0.370056</td>\n",
       "      <td>131.0</td>\n",
       "      <td>MSP</td>\n",
       "    </tr>\n",
       "    <tr>\n",
       "      <th>11</th>\n",
       "      <td>0.327684</td>\n",
       "      <td>116.0</td>\n",
       "      <td>LAS</td>\n",
       "    </tr>\n",
       "    <tr>\n",
       "      <th>1</th>\n",
       "      <td>0.322034</td>\n",
       "      <td>114.0</td>\n",
       "      <td>IAH</td>\n",
       "    </tr>\n",
       "    <tr>\n",
       "      <th>59</th>\n",
       "      <td>0.313559</td>\n",
       "      <td>111.0</td>\n",
       "      <td>DTW</td>\n",
       "    </tr>\n",
       "    <tr>\n",
       "      <th>5</th>\n",
       "      <td>0.290960</td>\n",
       "      <td>103.0</td>\n",
       "      <td>LAX</td>\n",
       "    </tr>\n",
       "  </tbody>\n",
       "</table>\n",
       "</div>"
      ],
      "text/plain": [
       "      degree  degree_unnormalized airport\n",
       "6   0.485876                172.0     ORD\n",
       "25  0.468927                166.0     ATL\n",
       "36  0.466102                165.0     DFW\n",
       "15  0.457627                162.0     DEN\n",
       "84  0.372881                132.0     CLT\n",
       "51  0.370056                131.0     MSP\n",
       "11  0.327684                116.0     LAS\n",
       "1   0.322034                114.0     IAH\n",
       "59  0.313559                111.0     DTW\n",
       "5   0.290960                103.0     LAX"
      ]
     },
     "execution_count": 7,
     "metadata": {},
     "output_type": "execute_result"
    }
   ],
   "source": [
    "print('No. airports w. degree < 5:  ', len(degrees.loc[(degrees[\"degree_unnormalized\"] < 5)].index))\n",
    "print('No. airports w. degree > 100:', len(degrees.loc[(degrees[\"degree_unnormalized\"] > 100)].index))\n",
    "\n",
    "# See most connected airports in dataset\n",
    "degrees.sort_values(by = \"degree_unnormalized\", ascending = False).head(10)"
   ]
  },
  {
   "cell_type": "code",
   "execution_count": 8,
   "metadata": {},
   "outputs": [
    {
     "data": {
      "image/png": "[encoded data removed]",
      "text/plain": [
       "<Figure size 432x432 with 1 Axes>"
      ]
     },
     "metadata": {
      "needs_background": "light"
     },
     "output_type": "display_data"
    }
   ],
   "source": [
    "# Degree distribution\n",
    "fig, ax = plt.subplots(figsize = (6,6))\n",
    "plt.hist(degrees[\"degree_unnormalized\"], bins = 70)\n",
    "plt.ylim(0,80)\n",
    "plt.show()"
   ]
  },
  {
   "cell_type": "markdown",
   "metadata": {},
   "source": [
    "### Betweenness centrality"
   ]
  },
  {
   "cell_type": "code",
   "execution_count": 9,
   "metadata": {},
   "outputs": [],
   "source": [
    "btwn = nx.betweenness_centrality(Network)\n",
    "betweenness = list(btwn.values())\n",
    "btwn_df = pd.DataFrame(betweenness)\n",
    "btwn_df.columns = [\"betweenness\"]\n",
    "btwn_df[\"airport\"] = btwn.keys()\n",
    "\n",
    "btwn_df.sort_values(by = \"betweenness\", ascending = False)\n",
    "Node_char = degrees.merge(btwn_df, on= \"airport\")\n"
   ]
  },
  {
   "cell_type": "markdown",
   "metadata": {},
   "source": [
    "Clustering Coefficient"
   ]
  },
  {
   "cell_type": "code",
   "execution_count": 10,
   "metadata": {},
   "outputs": [],
   "source": [
    "clusters = nx.algorithms.cluster.clustering(Network)\n",
    "clusters_df = pd.DataFrame(list(clusters.values()))\n",
    "clusters_df.columns = [\"clustering\"]\n",
    "clusters_df[\"airport\"] = clusters.keys()\n",
    "Node_char = Node_char.merge(clusters_df, on = \"airport\")"
   ]
  },
  {
   "cell_type": "code",
   "execution_count": 11,
   "metadata": {},
   "outputs": [
    {
     "data": {
      "image/png": "[encoded data removed]",
      "text/plain": [
       "<Figure size 864x432 with 1 Axes>"
      ]
     },
     "metadata": {
      "needs_background": "light"
     },
     "output_type": "display_data"
    },
    {
     "data": {
      "image/png": "[encoded data removed]",
      "text/plain": [
       "<Figure size 864x432 with 2 Axes>"
      ]
     },
     "metadata": {
      "needs_background": "light"
     },
     "output_type": "display_data"
    }
   ],
   "source": [
    "## Figure with degree distribution, betweenness centrality and clustering\n",
    "fig, ax = plt.subplots(figsize = (12,6))\n",
    "\n",
    "plt.hist(Node_char[\"degree_unnormalized\"], bins = 50)\n",
    "plt.xlabel(\"Degree\")\n",
    "plt.savefig(fname = \"Figures/degreeDistribution.png\", bbox_inches = \"tight\")\n",
    "plt.show()\n",
    "\n",
    "fig, ax = plt.subplots(figsize = (12,6))\n",
    "\n",
    "plt.subplot(1,2,1)\n",
    "plt.hist(Node_char[\"betweenness\"], bins = 50)\n",
    "plt.xlabel(\"Betweenness centrality\")\n",
    "\n",
    "plt.subplot(1,2,2)\n",
    "plt.hist(Node_char[\"clustering\"], bins = 50)\n",
    "plt.xlabel(\"Clustering coefficient\")\n",
    "plt.savefig(fname = \"Figures/Btwns_CC.png\", bbox_inches = \"tight\")\n",
    "plt.show()"
   ]
  },
  {
   "cell_type": "markdown",
   "metadata": {},
   "source": [
    "#### (node) betweenness centrality vs degree"
   ]
  },
  {
   "cell_type": "code",
   "execution_count": 12,
   "metadata": {},
   "outputs": [
    {
     "data": {
      "text/html": [
       "<div>\n",
       "<style scoped>\n",
       "    .dataframe tbody tr th:only-of-type {\n",
       "        vertical-align: middle;\n",
       "    }\n",
       "\n",
       "    .dataframe tbody tr th {\n",
       "        vertical-align: top;\n",
       "    }\n",
       "\n",
       "    .dataframe thead th {\n",
       "        text-align: right;\n",
       "    }\n",
       "</style>\n",
       "<table border=\"1\" class=\"dataframe\">\n",
       "  <thead>\n",
       "    <tr style=\"text-align: right;\">\n",
       "      <th></th>\n",
       "      <th>degree</th>\n",
       "      <th>degree_unnormalized</th>\n",
       "      <th>airport</th>\n",
       "      <th>betweenness</th>\n",
       "      <th>clustering</th>\n",
       "    </tr>\n",
       "  </thead>\n",
       "  <tbody>\n",
       "    <tr>\n",
       "      <th>0</th>\n",
       "      <td>0.220339</td>\n",
       "      <td>78.0</td>\n",
       "      <td>FLL</td>\n",
       "      <td>0.018337</td>\n",
       "      <td>0.399600</td>\n",
       "    </tr>\n",
       "    <tr>\n",
       "      <th>1</th>\n",
       "      <td>0.322034</td>\n",
       "      <td>114.0</td>\n",
       "      <td>IAH</td>\n",
       "      <td>0.038863</td>\n",
       "      <td>0.247322</td>\n",
       "    </tr>\n",
       "    <tr>\n",
       "      <th>2</th>\n",
       "      <td>0.231638</td>\n",
       "      <td>82.0</td>\n",
       "      <td>SEA</td>\n",
       "      <td>0.038347</td>\n",
       "      <td>0.394460</td>\n",
       "    </tr>\n",
       "    <tr>\n",
       "      <th>3</th>\n",
       "      <td>0.245763</td>\n",
       "      <td>87.0</td>\n",
       "      <td>SFO</td>\n",
       "      <td>0.028849</td>\n",
       "      <td>0.335472</td>\n",
       "    </tr>\n",
       "    <tr>\n",
       "      <th>4</th>\n",
       "      <td>0.248588</td>\n",
       "      <td>88.0</td>\n",
       "      <td>DCA</td>\n",
       "      <td>0.011112</td>\n",
       "      <td>0.352665</td>\n",
       "    </tr>\n",
       "  </tbody>\n",
       "</table>\n",
       "</div>"
      ],
      "text/plain": [
       "     degree  degree_unnormalized airport  betweenness  clustering\n",
       "0  0.220339                 78.0     FLL     0.018337    0.399600\n",
       "1  0.322034                114.0     IAH     0.038863    0.247322\n",
       "2  0.231638                 82.0     SEA     0.038347    0.394460\n",
       "3  0.245763                 87.0     SFO     0.028849    0.335472\n",
       "4  0.248588                 88.0     DCA     0.011112    0.352665"
      ]
     },
     "execution_count": 12,
     "metadata": {},
     "output_type": "execute_result"
    }
   ],
   "source": [
    "Node_char.head()"
   ]
  },
  {
   "cell_type": "code",
   "execution_count": 13,
   "metadata": {},
   "outputs": [
    {
     "data": {
      "image/png": "[encoded data removed]",
      "text/plain": [
       "<Figure size 540x540 with 12 Axes>"
      ]
     },
     "metadata": {
      "needs_background": "light"
     },
     "output_type": "display_data"
    }
   ],
   "source": [
    "cols = [\"degree\",\"betweenness\",\"clustering\"]\n",
    "sns.pairplot(Node_char[cols], height = 2.5)\n",
    "plt.tight_layout()\n",
    "plt.savefig(fname = \"Figures/NxPairPlot.png\")\n",
    "plt.show()"
   ]
  },
  {
   "cell_type": "code",
   "execution_count": 14,
   "metadata": {},
   "outputs": [
    {
     "data": {
      "image/png": "[encoded data removed]",
      "text/plain": [
       "<Figure size 504x504 with 1 Axes>"
      ]
     },
     "metadata": {
      "needs_background": "light"
     },
     "output_type": "display_data"
    }
   ],
   "source": [
    "# Betweenness vs. degree\n",
    "fig, ax = plt.subplots(figsize = (7,7))\n",
    "plt.scatter(Node_char[\"degree\"],Node_char[\"betweenness\"])\n",
    "plt.xlabel(\"$\\\\alpha$\", fontsize = 20)\n",
    "plt.ylabel(\"$R^2$\", fontsize = 20)\n",
    "plt.show()"
   ]
  },
  {
   "cell_type": "markdown",
   "metadata": {},
   "source": [
    "### Measures for entire network"
   ]
  },
  {
   "cell_type": "code",
   "execution_count": 15,
   "metadata": {},
   "outputs": [
    {
     "name": "stdout",
     "output_type": "stream",
     "text": [
      "The average shortest path is: 2.387602450863372\n",
      "The average clustering coefficient is: 0.5677439768425595\n",
      "The diameter of the network is: 6\n",
      "The global efficiency of the network is: 0.45555396408625337\n"
     ]
    }
   ],
   "source": [
    "# print(nx.info(Network))\n",
    "print(\"The average shortest path is: {}\".format(nx.average_shortest_path_length(Network)))\n",
    "print(\"The average clustering coefficient is: {}\".format(nx.average_clustering(Network)))\n",
    "print(\"The diameter of the network is: {}\".format(nx.diameter(Network)))\n",
    "print(\"The global efficiency of the network is: {}\".format(nx.global_efficiency(Network)))"
   ]
  },
  {
   "cell_type": "markdown",
   "metadata": {},
   "source": [
    "### Shortest path length: Atlanta example"
   ]
  },
  {
   "cell_type": "code",
   "execution_count": 16,
   "metadata": {},
   "outputs": [
    {
     "name": "stdout",
     "output_type": "stream",
     "text": [
      "2.387602450863372\n"
     ]
    }
   ],
   "source": [
    "avg_shrt_path_len = nx.average_shortest_path_length(Network)\n",
    "print(avg_shrt_path_len)"
   ]
  },
  {
   "cell_type": "markdown",
   "metadata": {},
   "source": [
    "## US airports data"
   ]
  },
  {
   "cell_type": "code",
   "execution_count": 17,
   "metadata": {},
   "outputs": [
    {
     "name": "stdout",
     "output_type": "stream",
     "text": [
      "No. airports in the openflights data: 1512\n",
      "- of which missing 3DigitId: 261\n",
      "- of which containing 3DigitId: 1252\n",
      "No. airports within the network: 355\n"
     ]
    },
    {
     "data": {
      "text/html": [
       "<div>\n",
       "<style scoped>\n",
       "    .dataframe tbody tr th:only-of-type {\n",
       "        vertical-align: middle;\n",
       "    }\n",
       "\n",
       "    .dataframe tbody tr th {\n",
       "        vertical-align: top;\n",
       "    }\n",
       "\n",
       "    .dataframe thead th {\n",
       "        text-align: right;\n",
       "    }\n",
       "</style>\n",
       "<table border=\"1\" class=\"dataframe\">\n",
       "  <thead>\n",
       "    <tr style=\"text-align: right;\">\n",
       "      <th></th>\n",
       "      <th>3DigitId</th>\n",
       "      <th>Lat</th>\n",
       "      <th>Lon</th>\n",
       "    </tr>\n",
       "  </thead>\n",
       "  <tbody>\n",
       "    <tr>\n",
       "      <th>0</th>\n",
       "      <td>FLL</td>\n",
       "      <td>26.072599</td>\n",
       "      <td>-80.152702</td>\n",
       "    </tr>\n",
       "    <tr>\n",
       "      <th>1</th>\n",
       "      <td>IAH</td>\n",
       "      <td>29.984400</td>\n",
       "      <td>-95.341400</td>\n",
       "    </tr>\n",
       "  </tbody>\n",
       "</table>\n",
       "</div>"
      ],
      "text/plain": [
       "  3DigitId        Lat        Lon\n",
       "0      FLL  26.072599 -80.152702\n",
       "1      IAH  29.984400 -95.341400"
      ]
     },
     "execution_count": 17,
     "metadata": {},
     "output_type": "execute_result"
    }
   ],
   "source": [
    "Airports = pd.read_pickle(\"Data/Airports.pkl\")\n",
    "\n",
    "# Get list of nodes, and add lat, lon from Airports dataset:\n",
    "nodes = pd.DataFrame(list(Network.nodes()))\n",
    "nodes.columns = [\"3DigitId\"]\n",
    "positions = nodes.merge(Airports[[\"3DigitId\",\"Lat\",\"Lon\"]], how = \"left\", on = \"3DigitId\")\n",
    "\n",
    "print('No. airports in the openflights data:', len(Airports))\n",
    "print('- of which missing 3DigitId:', Airports['3DigitId'].value_counts(dropna=False).nlargest(1)[0])\n",
    "print('- of which containing 3DigitId:', Airports['3DigitId'].nunique())\n",
    "print('No. airports within the network:', positions['3DigitId'].nunique())\n",
    "positions.head(2)"
   ]
  },
  {
   "cell_type": "code",
   "execution_count": 18,
   "metadata": {},
   "outputs": [],
   "source": [
    "test = pd.read_pickle(\"Scraping/missings_2018_del3.pkl\")"
   ]
  },
  {
   "cell_type": "code",
   "execution_count": 19,
   "metadata": {},
   "outputs": [
    {
     "data": {
      "text/plain": [
       "(720, 6)"
      ]
     },
     "execution_count": 19,
     "metadata": {},
     "output_type": "execute_result"
    }
   ],
   "source": [
    "test.shape"
   ]
  }
 ],
 "metadata": {
  "kernelspec": {
   "display_name": "Python 3",
   "language": "python",
   "name": "python3"
  },
  "language_info": {
   "codemirror_mode": {
    "name": "ipython",
    "version": 3
   },
   "file_extension": ".py",
   "mimetype": "text/x-python",
   "name": "python",
   "nbconvert_exporter": "python",
   "pygments_lexer": "ipython3",
   "version": "3.6.8"
  }
 },
 "nbformat": 4,
 "nbformat_minor": 2
}
