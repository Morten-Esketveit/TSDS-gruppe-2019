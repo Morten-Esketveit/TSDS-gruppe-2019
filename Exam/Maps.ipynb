{
 "cells": [
  {
   "cell_type": "markdown",
   "metadata": {},
   "source": [
    "# Plotting the flights network on a US map\n",
    "\n",
    "*Mapping the network for each of the years 1998, 2007, and 2018.*"
   ]
  },
  {
   "cell_type": "code",
   "execution_count": 2,
   "metadata": {},
   "outputs": [
    {
     "name": "stderr",
     "output_type": "stream",
     "text": [
      "Unable to open EPSG support file gcs.csv.  Try setting the GDAL_DATA environment variable to point to the directory containing EPSG csv files.\n"
     ]
    }
   ],
   "source": [
    "import numpy as np\n",
    "import pandas as pd\n",
    "import matplotlib.pyplot as plt\n",
    "import geopandas as gpd\n",
    "import networkx as nx\n",
    "from shapely.geometry import Point\n",
    "# import copy"
   ]
  },
  {
   "cell_type": "markdown",
   "metadata": {},
   "source": [
    "## Load data \n",
    "\n",
    "Airports data comes from https://openflights.org/data.html.\n",
    "\n",
    "Flights data comes from the US Bureau of Transportation Statistics (BTS), ([source](https://www.transtats.bts.gov/DL_SelectFields.asp?Table_ID=236)).\n",
    "\n",
    "See our [data compiling](https://github.com/Morten-Esketveit/TSDS-gruppe-2019/blob/master/Exam/Data_compiling_v3.ipynb) file."
   ]
  },
  {
   "cell_type": "code",
   "execution_count": 3,
   "metadata": {},
   "outputs": [
    {
     "data": {
      "text/html": [
       "<div>\n",
       "<style scoped>\n",
       "    .dataframe tbody tr th:only-of-type {\n",
       "        vertical-align: middle;\n",
       "    }\n",
       "\n",
       "    .dataframe tbody tr th {\n",
       "        vertical-align: top;\n",
       "    }\n",
       "\n",
       "    .dataframe thead th {\n",
       "        text-align: right;\n",
       "    }\n",
       "</style>\n",
       "<table border=\"1\" class=\"dataframe\">\n",
       "  <thead>\n",
       "    <tr style=\"text-align: right;\">\n",
       "      <th></th>\n",
       "      <th>Airport_id</th>\n",
       "      <th>Name</th>\n",
       "      <th>City</th>\n",
       "      <th>Country</th>\n",
       "      <th>3DigitId</th>\n",
       "      <th>Lat</th>\n",
       "      <th>Lon</th>\n",
       "      <th>Altitude_ft</th>\n",
       "    </tr>\n",
       "  </thead>\n",
       "  <tbody>\n",
       "    <tr>\n",
       "      <th>1510</th>\n",
       "      <td>13759</td>\n",
       "      <td>Oswego County Airport</td>\n",
       "      <td>Fulton</td>\n",
       "      <td>United States</td>\n",
       "      <td>\\N</td>\n",
       "      <td>43.350800</td>\n",
       "      <td>-76.388100</td>\n",
       "      <td>475</td>\n",
       "    </tr>\n",
       "    <tr>\n",
       "      <th>1511</th>\n",
       "      <td>13803</td>\n",
       "      <td>Mitchell Municipal Airport</td>\n",
       "      <td>Mitchell</td>\n",
       "      <td>United States</td>\n",
       "      <td>MHE</td>\n",
       "      <td>43.774799</td>\n",
       "      <td>-98.038597</td>\n",
       "      <td>1304</td>\n",
       "    </tr>\n",
       "  </tbody>\n",
       "</table>\n",
       "</div>"
      ],
      "text/plain": [
       "      Airport_id                        Name      City        Country  \\\n",
       "1510       13759       Oswego County Airport    Fulton  United States   \n",
       "1511       13803  Mitchell Municipal Airport  Mitchell  United States   \n",
       "\n",
       "     3DigitId        Lat        Lon  Altitude_ft  \n",
       "1510       \\N  43.350800 -76.388100          475  \n",
       "1511      MHE  43.774799 -98.038597         1304  "
      ]
     },
     "execution_count": 3,
     "metadata": {},
     "output_type": "execute_result"
    }
   ],
   "source": [
    "# Load airports data, 2007\n",
    "Airports = pd.read_pickle(\"Data/Airports.pkl\").reset_index(drop=True)\n",
    "Airports.tail(2)"
   ]
  },
  {
   "cell_type": "code",
   "execution_count": 4,
   "metadata": {},
   "outputs": [
    {
     "data": {
      "text/html": [
       "<div>\n",
       "<style scoped>\n",
       "    .dataframe tbody tr th:only-of-type {\n",
       "        vertical-align: middle;\n",
       "    }\n",
       "\n",
       "    .dataframe tbody tr th {\n",
       "        vertical-align: top;\n",
       "    }\n",
       "\n",
       "    .dataframe thead th {\n",
       "        text-align: right;\n",
       "    }\n",
       "</style>\n",
       "<table border=\"1\" class=\"dataframe\">\n",
       "  <thead>\n",
       "    <tr style=\"text-align: right;\">\n",
       "      <th></th>\n",
       "      <th>Origin</th>\n",
       "      <th>Dest</th>\n",
       "      <th>Distance</th>\n",
       "      <th>count</th>\n",
       "      <th>avg_time_mins</th>\n",
       "      <th>companies</th>\n",
       "      <th>Origin_flights</th>\n",
       "      <th>Destination_flights</th>\n",
       "      <th>origin_degree</th>\n",
       "      <th>dest_degree</th>\n",
       "      <th>origin_btwns</th>\n",
       "      <th>dest_btwns</th>\n",
       "      <th>origin_clustcoef</th>\n",
       "      <th>dest_clustcoef</th>\n",
       "    </tr>\n",
       "  </thead>\n",
       "  <tbody>\n",
       "    <tr>\n",
       "      <th>3155</th>\n",
       "      <td>EGE</td>\n",
       "      <td>SFO</td>\n",
       "      <td>847.0</td>\n",
       "      <td>9</td>\n",
       "      <td>154.125</td>\n",
       "      <td>1</td>\n",
       "      <td>2559.0</td>\n",
       "      <td>279737.0</td>\n",
       "      <td>12.0</td>\n",
       "      <td>51.0</td>\n",
       "      <td>0.000030</td>\n",
       "      <td>0.049559</td>\n",
       "      <td>0.969697</td>\n",
       "      <td>0.465098</td>\n",
       "    </tr>\n",
       "    <tr>\n",
       "      <th>3156</th>\n",
       "      <td>CLE</td>\n",
       "      <td>SRQ</td>\n",
       "      <td>967.0</td>\n",
       "      <td>17</td>\n",
       "      <td>155.000</td>\n",
       "      <td>1</td>\n",
       "      <td>122145.0</td>\n",
       "      <td>11971.0</td>\n",
       "      <td>42.0</td>\n",
       "      <td>10.0</td>\n",
       "      <td>0.003055</td>\n",
       "      <td>0.000005</td>\n",
       "      <td>0.706156</td>\n",
       "      <td>0.977778</td>\n",
       "    </tr>\n",
       "  </tbody>\n",
       "</table>\n",
       "</div>"
      ],
      "text/plain": [
       "     Origin Dest  Distance  count  avg_time_mins  companies  Origin_flights  \\\n",
       "3155    EGE  SFO     847.0      9        154.125          1          2559.0   \n",
       "3156    CLE  SRQ     967.0     17        155.000          1        122145.0   \n",
       "\n",
       "      Destination_flights  origin_degree  dest_degree  origin_btwns  \\\n",
       "3155             279737.0           12.0         51.0      0.000030   \n",
       "3156              11971.0           42.0         10.0      0.003055   \n",
       "\n",
       "      dest_btwns  origin_clustcoef  dest_clustcoef  \n",
       "3155    0.049559          0.969697        0.465098  \n",
       "3156    0.000005          0.706156        0.977778  "
      ]
     },
     "execution_count": 4,
     "metadata": {},
     "output_type": "execute_result"
    }
   ],
   "source": [
    "# Load flights data, 1998\n",
    "FlightsNx98 = pd.read_pickle(\"Data/FlightsNx98.pkl\")\n",
    "FlightsNx98.tail(2)"
   ]
  },
  {
   "cell_type": "code",
   "execution_count": 5,
   "metadata": {},
   "outputs": [
    {
     "data": {
      "text/html": [
       "<div>\n",
       "<style scoped>\n",
       "    .dataframe tbody tr th:only-of-type {\n",
       "        vertical-align: middle;\n",
       "    }\n",
       "\n",
       "    .dataframe tbody tr th {\n",
       "        vertical-align: top;\n",
       "    }\n",
       "\n",
       "    .dataframe thead th {\n",
       "        text-align: right;\n",
       "    }\n",
       "</style>\n",
       "<table border=\"1\" class=\"dataframe\">\n",
       "  <thead>\n",
       "    <tr style=\"text-align: right;\">\n",
       "      <th></th>\n",
       "      <th>Origin</th>\n",
       "      <th>Dest</th>\n",
       "      <th>Distance</th>\n",
       "      <th>count</th>\n",
       "      <th>avg_time_mins</th>\n",
       "      <th>companies</th>\n",
       "      <th>Origin_flights</th>\n",
       "      <th>Destination_flights</th>\n",
       "      <th>origin_degree</th>\n",
       "      <th>dest_degree</th>\n",
       "      <th>origin_btwns</th>\n",
       "      <th>dest_btwns</th>\n",
       "      <th>origin_clustcoef</th>\n",
       "      <th>dest_clustcoef</th>\n",
       "    </tr>\n",
       "  </thead>\n",
       "  <tbody>\n",
       "    <tr>\n",
       "      <th>4945</th>\n",
       "      <td>SYR</td>\n",
       "      <td>IAD</td>\n",
       "      <td>296.0</td>\n",
       "      <td>372</td>\n",
       "      <td>77.475410</td>\n",
       "      <td>1</td>\n",
       "      <td>27025</td>\n",
       "      <td>189940.0</td>\n",
       "      <td>14.0</td>\n",
       "      <td>66.0</td>\n",
       "      <td>0.000002</td>\n",
       "      <td>0.006780</td>\n",
       "      <td>0.967033</td>\n",
       "      <td>0.458275</td>\n",
       "    </tr>\n",
       "    <tr>\n",
       "      <th>4946</th>\n",
       "      <td>YUM</td>\n",
       "      <td>LAS</td>\n",
       "      <td>238.0</td>\n",
       "      <td>78</td>\n",
       "      <td>75.692308</td>\n",
       "      <td>1</td>\n",
       "      <td>6928</td>\n",
       "      <td>371600.0</td>\n",
       "      <td>4.0</td>\n",
       "      <td>87.0</td>\n",
       "      <td>0.000097</td>\n",
       "      <td>0.019032</td>\n",
       "      <td>0.666667</td>\n",
       "      <td>0.365678</td>\n",
       "    </tr>\n",
       "  </tbody>\n",
       "</table>\n",
       "</div>"
      ],
      "text/plain": [
       "     Origin Dest  Distance  count  avg_time_mins  companies  Origin_flights  \\\n",
       "4945    SYR  IAD     296.0    372      77.475410          1           27025   \n",
       "4946    YUM  LAS     238.0     78      75.692308          1            6928   \n",
       "\n",
       "      Destination_flights  origin_degree  dest_degree  origin_btwns  \\\n",
       "4945             189940.0           14.0         66.0      0.000002   \n",
       "4946             371600.0            4.0         87.0      0.000097   \n",
       "\n",
       "      dest_btwns  origin_clustcoef  dest_clustcoef  \n",
       "4945    0.006780          0.967033        0.458275  \n",
       "4946    0.019032          0.666667        0.365678  "
      ]
     },
     "execution_count": 5,
     "metadata": {},
     "output_type": "execute_result"
    }
   ],
   "source": [
    "# Load flights data, 2007\n",
    "FlightsNx07 = pd.read_pickle(\"Data/FlightsNx07.pkl\")\n",
    "FlightsNx07.tail(2)"
   ]
  },
  {
   "cell_type": "code",
   "execution_count": 6,
   "metadata": {},
   "outputs": [
    {
     "data": {
      "text/html": [
       "<div>\n",
       "<style scoped>\n",
       "    .dataframe tbody tr th:only-of-type {\n",
       "        vertical-align: middle;\n",
       "    }\n",
       "\n",
       "    .dataframe tbody tr th {\n",
       "        vertical-align: top;\n",
       "    }\n",
       "\n",
       "    .dataframe thead th {\n",
       "        text-align: right;\n",
       "    }\n",
       "</style>\n",
       "<table border=\"1\" class=\"dataframe\">\n",
       "  <thead>\n",
       "    <tr style=\"text-align: right;\">\n",
       "      <th></th>\n",
       "      <th>Origin</th>\n",
       "      <th>Dest</th>\n",
       "      <th>Distance</th>\n",
       "      <th>count</th>\n",
       "      <th>avg_time_mins</th>\n",
       "      <th>companies</th>\n",
       "      <th>Origin_flights</th>\n",
       "      <th>Destination_flights</th>\n",
       "      <th>origin_degree</th>\n",
       "      <th>dest_degree</th>\n",
       "      <th>origin_btwns</th>\n",
       "      <th>dest_btwns</th>\n",
       "      <th>origin_clustcoef</th>\n",
       "      <th>dest_clustcoef</th>\n",
       "    </tr>\n",
       "  </thead>\n",
       "  <tbody>\n",
       "    <tr>\n",
       "      <th>6223</th>\n",
       "      <td>LGA</td>\n",
       "      <td>SBN</td>\n",
       "      <td>651.0</td>\n",
       "      <td>3</td>\n",
       "      <td>195.000000</td>\n",
       "      <td>1</td>\n",
       "      <td>339632</td>\n",
       "      <td>13894</td>\n",
       "      <td>73.0</td>\n",
       "      <td>13.0</td>\n",
       "      <td>0.006823</td>\n",
       "      <td>0.000534</td>\n",
       "      <td>0.350457</td>\n",
       "      <td>0.461538</td>\n",
       "    </tr>\n",
       "    <tr>\n",
       "      <th>6224</th>\n",
       "      <td>ORD</td>\n",
       "      <td>ABE</td>\n",
       "      <td>654.0</td>\n",
       "      <td>225</td>\n",
       "      <td>118.458333</td>\n",
       "      <td>2</td>\n",
       "      <td>737786</td>\n",
       "      <td>8295</td>\n",
       "      <td>172.0</td>\n",
       "      <td>10.0</td>\n",
       "      <td>0.141068</td>\n",
       "      <td>0.000229</td>\n",
       "      <td>0.138923</td>\n",
       "      <td>0.511111</td>\n",
       "    </tr>\n",
       "  </tbody>\n",
       "</table>\n",
       "</div>"
      ],
      "text/plain": [
       "     Origin Dest  Distance  count  avg_time_mins  companies  Origin_flights  \\\n",
       "6223    LGA  SBN     651.0      3     195.000000          1          339632   \n",
       "6224    ORD  ABE     654.0    225     118.458333          2          737786   \n",
       "\n",
       "      Destination_flights  origin_degree  dest_degree  origin_btwns  \\\n",
       "6223                13894           73.0         13.0      0.006823   \n",
       "6224                 8295          172.0         10.0      0.141068   \n",
       "\n",
       "      dest_btwns  origin_clustcoef  dest_clustcoef  \n",
       "6223    0.000534          0.350457        0.461538  \n",
       "6224    0.000229          0.138923        0.511111  "
      ]
     },
     "execution_count": 6,
     "metadata": {},
     "output_type": "execute_result"
    }
   ],
   "source": [
    "# Load flights data, 2018\n",
    "FlightsNx18 = pd.read_pickle(\"Data/FlightsNx18.pkl\")\n",
    "FlightsNx18.tail(2)"
   ]
  },
  {
   "cell_type": "markdown",
   "metadata": {},
   "source": [
    "## Implement as network. \n",
    "For function documentation, see:  \n",
    "https://networkx.github.io/documentation/stable/reference/generated/networkx.convert_matrix.from_pandas_edgelist.html?highlight=from_pandas_edgelist#networkx.convert_matrix.from_pandas_edgelist"
   ]
  },
  {
   "cell_type": "code",
   "execution_count": 31,
   "metadata": {},
   "outputs": [],
   "source": [
    "class US_graph(object):\n",
    "    ''' Creates a map network of flights for the US.\n",
    "    '''\n",
    "    \n",
    "    def __init__(self, flights, airports, scalar=6, alpha=0.5):\n",
    "        \"\"\" Read the data and create the network\n",
    "            Optional: Set size-scalar and alpha for the nodes.\n",
    "        \"\"\"\n",
    "        self.f = flights # Dataset on flights\n",
    "        self.air = airports\n",
    "        self.s = scalar # scalar for the size of the nodes\n",
    "        self.a = alpha\n",
    "        self.G = nx.from_pandas_edgelist(self.f, source = \"Origin\", target = \"Dest\", edge_attr = True)\n",
    "        print(nx.info(self.G))\n",
    "\n",
    "\n",
    "    def setup(self):\n",
    "        \"\"\" Setup nodes, attributes and positions for drawing\n",
    "        \"\"\" \n",
    "        # Get list of nodes, and add lat, lon from Airports dataset:\n",
    "        nodes = pd.DataFrame(list(self.G.nodes()))\n",
    "        nodes.columns = [\"3DigitId\"]\n",
    "        positions = nodes.merge(self.air[[\"3DigitId\",\"Lat\",\"Lon\"]], how = \"left\", on = \"3DigitId\")\n",
    "\n",
    "        # Create a positions dictionary, which is in the format necessary to add it as a node attribute.\n",
    "        pos_= dict()\n",
    "        for idx, row in positions.iterrows():\n",
    "            pos_[row['3DigitId']] = dict(pos=(row['Lat'], row['Lon']))\n",
    "\n",
    "        # Set the node attributes. \n",
    "        nx.set_node_attributes(self.G, pos_)\n",
    "        attributes = positions.merge(self.f[[\"Origin\",\"Origin_flights\",\"origin_degree\"]], how = \"left\", left_on = \"3DigitId\", right_on = \"Origin\").drop_duplicates()\n",
    "        attributes = attributes.sort_values(by = \"origin_degree\", ascending = False)\n",
    "\n",
    "        # Positions for drawing\n",
    "        pos = {city:(long, lat) for (city, (lat,long)) in nx.get_node_attributes(self.G, 'pos').items()}\n",
    "\n",
    "        return nodes, attributes, pos\n",
    "\n",
    "\n",
    "    def hubs(self):\n",
    "        \"\"\" Setup hubs and position dictionary for labels\n",
    "        \"\"\" \n",
    "        nodes, attributes, pos = self.setup()\n",
    "        # Split airports according to size/importance for plotting purposes:\n",
    "        airports = list(attributes.loc[attributes[\"origin_degree\"]<=25][\"Origin\"])\n",
    "        hubs_small = list(attributes.loc[attributes[\"origin_degree\"]>25][\"Origin\"])\n",
    "        hubs = list(attributes.loc[attributes[\"origin_degree\"]>50][\"Origin\"])\n",
    "        hubs_large = list(attributes.loc[attributes[\"origin_degree\"]>100][\"Origin\"])\n",
    "\n",
    "        # label location: how far above the center of the node\n",
    "        raise_by = .8 + self.s*.1\n",
    "        # Label large hubs for draw_networkx_labels\n",
    "        pos_large = dict((k, (pos[k][0], pos[k][1]+raise_by)) for k in hubs_large if k in pos)\n",
    "        # Label medium hubs for draw_networkx_labels (in case of no large hubs)\n",
    "        pos_med = dict((k, (pos[k][0], pos[k][1]+raise_by)) for k in hubs if k in pos)\n",
    "\n",
    "        return airports, hubs_small, hubs, hubs_large, pos_large, pos_med\n",
    "\n",
    "    \n",
    "    def degree(self, subset):\n",
    "        \"\"\" Function for degree size\n",
    "            Returning size = degree*scalar for a given threshold\n",
    "        \"\"\"\n",
    "        nodes, attributes, pos = self.setup()\n",
    "        attributes['origin_degree'].fillna(0, inplace=True)\n",
    "\n",
    "        return [int(attributes.loc[attributes[\"3DigitId\"]==i]['origin_degree'])*self.s for i in subset]\n",
    "\n",
    "    \n",
    "    def draw(self, path):\n",
    "        \"\"\" Draw the map with airports, small hubs, hubs, and large hubs\n",
    "            The options are given by the __init__ above\n",
    "        \"\"\"\n",
    "        nodes, attributes, pos = self.setup()\n",
    "        airports, hubs_small, hubs, hubs_large, pos_large, pos_med = self.hubs()\n",
    "        \n",
    "        # Get geographical file from GeoPandas\n",
    "        world = gpd.read_file(gpd.datasets.get_path('naturalearth_lowres'))\n",
    "        # Select US: \n",
    "        US = world[(world.pop_est>0) & (world.name == \"United States\")]\n",
    "\n",
    "        fig, ax = plt.subplots(figsize = (16,12))\n",
    "        ax.set_facecolor(\"lightblue\")\n",
    "        world.plot(ax = ax, color = \"lightgrey\", edgecolor = \"black\")\n",
    "        US.plot(ax = ax, color = \"whitesmoke\", edgecolor = \"black\")\n",
    "        plt.xlim(-126,-66)\n",
    "        plt.ylim(24,50)\n",
    "        nx.draw_networkx_edges(self.G, pos, width=0.05, with_labels=False, ax = ax)\n",
    "        nx.draw_networkx_nodes(self.G, pos, nodelist = airports, alpha=self.a, node_size=self.degree(airports), node_color = \"blue\", with_labels=False, ax = ax).set_label(\"Airport\")\n",
    "        nx.draw_networkx_nodes(self.G, pos, nodelist = hubs_small, alpha=self.a, node_size=self.degree(hubs_small), node_color = \"purple\", with_labels=False, ax = ax).set_label(\"Small hub, degree > 25\")\n",
    "        nx.draw_networkx_nodes(self.G, pos, nodelist = hubs, alpha=self.a, node_size=self.degree(hubs), node_color = \"yellow\", with_labels=False, ax = ax).set_label(\"Medium hub, degree > 50\")\n",
    "        if hubs_large != []:\n",
    "            nx.draw_networkx_nodes(self.G, pos, nodelist = hubs_large, alpha=self.a, node_size=self.degree(hubs_large), node_color = \"red\", with_labels=False, ax = ax).set_label(\"Large hub, degree > 100\")\n",
    "            nx.draw_networkx_labels(self.G.subgraph(hubs_large), pos_large, font_color='k', font_size=14)\n",
    "        else:\n",
    "            nx.draw_networkx_labels(self.G.subgraph(hubs), pos_med, font_color='k', font_size=14)\n",
    "        plt.xticks([])\n",
    "        plt.yticks([])\n",
    "        plt.legend(fontsize = 14, loc='lower left')\n",
    "        fig.savefig(path, bbox_inches='tight')\n",
    "        plt.show()\n",
    "\n",
    "    def ego(self, single_airport, path):\n",
    "        \"\"\" Draw the connections for a single airport\n",
    "            Using same map with airports, small hubs, hubs, and large hubs\n",
    "            The options are given by the __init__ above\n",
    "        \"\"\"\n",
    "        nodes, attributes, pos = self.setup()\n",
    "        airports, hubs_small, hubs, hubs_large, pos_large, pos_med = self.hubs()\n",
    "\n",
    "        # Setup the ego-graph containing one single airport and it's neighbors\n",
    "        ego = nx.ego_graph(self.G, single_airport)\n",
    "        neighbors = list(nx.all_neighbors(ego, single_airport))\n",
    "        neighbors = neighbors.append(single_airport)\n",
    "        airports = list(set(airports).intersection(neighbors))\n",
    "        hubs_small = list(set(hubs_small).intersection(neighbors))\n",
    "        hubs = list(set(hubs).intersection(neighbors))\n",
    "        hubs_large = list(set(hubs_large).intersection(ego_neighbors))\n",
    "        \n",
    "        # Get geographical file from GeoPandas\n",
    "        world = gpd.read_file(gpd.datasets.get_path('naturalearth_lowres'))\n",
    "        # Select US: \n",
    "        US = world[(world.pop_est>0) & (world.name == \"United States\")]\n",
    "\n",
    "        fig, ax = plt.subplots(figsize = (16,12))\n",
    "        ax.set_facecolor(\"lightblue\")\n",
    "        world.plot(ax = ax, color = \"lightgrey\", edgecolor = \"black\")\n",
    "        US.plot(ax = ax, color = \"whitesmoke\", edgecolor = \"black\")\n",
    "        plt.xlim(-126,-66)\n",
    "        plt.ylim(24,50)\n",
    "        nx.draw_networkx_edges(ego, pos, width=0.05, with_labels=False, ax = ax)\n",
    "        nx.draw_networkx_nodes(ego, pos, nodelist = airports, alpha=self.a, node_size=self.degree(airports), node_color = \"blue\", with_labels=False, ax = ax).set_label(\"Airport\")\n",
    "        nx.draw_networkx_nodes(ego, pos, nodelist = hubs_small, alpha=self.a, node_size=self.degree(hubs_small), node_color = \"purple\", with_labels=False, ax = ax).set_label(\"Small hub, degree > 25\")\n",
    "        nx.draw_networkx_nodes(ego, pos, nodelist = hubs, alpha=self.a, node_size=self.degree(hubs), node_color = \"yellow\", with_labels=False, ax = ax).set_label(\"Medium hub, degree > 50\")\n",
    "        if hubs_large != []:\n",
    "            nx.draw_networkx_nodes(self.G, pos, nodelist = hubs_large, alpha=self.a, node_size=self.degree(hubs_large), node_color = \"red\", with_labels=False, ax = ax).set_label(\"Large hub, degree > 100\")\n",
    "            nx.draw_networkx_labels(self.G.subgraph(hubs_large), pos_large, font_color='k', font_size=14)\n",
    "        else:\n",
    "            nx.draw_networkx_labels(self.G.subgraph(hubs), pos_med, font_color='k', font_size=14)\n",
    "        plt.xticks([])\n",
    "        plt.yticks([])\n",
    "        plt.legend(fontsize = 14, loc='lower left')\n",
    "        fig.savefig(path, bbox_inches='tight')\n",
    "        plt.show()\n"
   ]
  },
  {
   "cell_type": "markdown",
   "metadata": {},
   "source": [
    "## Draw general maps"
   ]
  },
  {
   "cell_type": "code",
   "execution_count": 30,
   "metadata": {},
   "outputs": [
    {
     "name": "stdout",
     "output_type": "stream",
     "text": [
      "['PHL', 'PDX', 'LAX']\n"
     ]
    }
   ],
   "source": [
    "single_airport = 'LAX'\n",
    "neighbors = ['PHL', 'PDX']\n",
    "neighbors.append(single_airport)\n",
    "print(neighbors)"
   ]
  },
  {
   "cell_type": "markdown",
   "metadata": {},
   "source": [
    "### 1998"
   ]
  },
  {
   "cell_type": "code",
   "execution_count": 32,
   "metadata": {},
   "outputs": [
    {
     "name": "stdout",
     "output_type": "stream",
     "text": [
      "Name: \n",
      "Type: Graph\n",
      "Number of nodes: 209\n",
      "Number of edges: 1614\n",
      "Average degree:  15.4450\n"
     ]
    },
    {
     "ename": "TypeError",
     "evalue": "'NoneType' object is not iterable",
     "output_type": "error",
     "traceback": [
      "\u001b[1;31m---------------------------------------------------------------------------\u001b[0m",
      "\u001b[1;31mTypeError\u001b[0m                                 Traceback (most recent call last)",
      "\u001b[1;32m<ipython-input-32-6ede218594d5>\u001b[0m in \u001b[0;36m<module>\u001b[1;34m\u001b[0m\n\u001b[0;32m      1\u001b[0m \u001b[0mG98\u001b[0m \u001b[1;33m=\u001b[0m \u001b[0mUS_graph\u001b[0m\u001b[1;33m(\u001b[0m\u001b[0mFlightsNx98\u001b[0m\u001b[1;33m,\u001b[0m \u001b[0mAirports\u001b[0m\u001b[1;33m)\u001b[0m\u001b[1;33m\u001b[0m\u001b[1;33m\u001b[0m\u001b[0m\n\u001b[1;32m----> 2\u001b[1;33m \u001b[0mG98\u001b[0m\u001b[1;33m.\u001b[0m\u001b[0mego\u001b[0m\u001b[1;33m(\u001b[0m\u001b[1;34m'LAX'\u001b[0m\u001b[1;33m,\u001b[0m \u001b[0mpath\u001b[0m\u001b[1;33m=\u001b[0m\u001b[1;34m'Figures/map_LAX_98.png'\u001b[0m\u001b[1;33m)\u001b[0m\u001b[1;33m\u001b[0m\u001b[1;33m\u001b[0m\u001b[0m\n\u001b[0m\u001b[0;32m      3\u001b[0m \u001b[0mG98\u001b[0m\u001b[1;33m.\u001b[0m\u001b[0mdraw\u001b[0m\u001b[1;33m(\u001b[0m\u001b[0mpath\u001b[0m\u001b[1;33m=\u001b[0m\u001b[1;34m'Figures/map_general_98.png'\u001b[0m\u001b[1;33m)\u001b[0m\u001b[1;33m\u001b[0m\u001b[1;33m\u001b[0m\u001b[0m\n",
      "\u001b[1;32m<ipython-input-31-957d177b34d3>\u001b[0m in \u001b[0;36mego\u001b[1;34m(self, single_airport, path)\u001b[0m\n\u001b[0;32m    114\u001b[0m         \u001b[0mneighbors\u001b[0m \u001b[1;33m=\u001b[0m \u001b[0mlist\u001b[0m\u001b[1;33m(\u001b[0m\u001b[0mnx\u001b[0m\u001b[1;33m.\u001b[0m\u001b[0mall_neighbors\u001b[0m\u001b[1;33m(\u001b[0m\u001b[0mego\u001b[0m\u001b[1;33m,\u001b[0m \u001b[0msingle_airport\u001b[0m\u001b[1;33m)\u001b[0m\u001b[1;33m)\u001b[0m\u001b[1;33m\u001b[0m\u001b[1;33m\u001b[0m\u001b[0m\n\u001b[0;32m    115\u001b[0m         \u001b[0mneighbors\u001b[0m \u001b[1;33m=\u001b[0m \u001b[0mneighbors\u001b[0m\u001b[1;33m.\u001b[0m\u001b[0mappend\u001b[0m\u001b[1;33m(\u001b[0m\u001b[0msingle_airport\u001b[0m\u001b[1;33m)\u001b[0m\u001b[1;33m\u001b[0m\u001b[1;33m\u001b[0m\u001b[0m\n\u001b[1;32m--> 116\u001b[1;33m         \u001b[0mairports\u001b[0m \u001b[1;33m=\u001b[0m \u001b[0mlist\u001b[0m\u001b[1;33m(\u001b[0m\u001b[0mset\u001b[0m\u001b[1;33m(\u001b[0m\u001b[0mairports\u001b[0m\u001b[1;33m)\u001b[0m\u001b[1;33m.\u001b[0m\u001b[0mintersection\u001b[0m\u001b[1;33m(\u001b[0m\u001b[0mego_neighbors\u001b[0m\u001b[1;33m)\u001b[0m\u001b[1;33m)\u001b[0m\u001b[1;33m\u001b[0m\u001b[1;33m\u001b[0m\u001b[0m\n\u001b[0m\u001b[0;32m    117\u001b[0m         \u001b[0mhubs_small\u001b[0m \u001b[1;33m=\u001b[0m \u001b[0mlist\u001b[0m\u001b[1;33m(\u001b[0m\u001b[0mset\u001b[0m\u001b[1;33m(\u001b[0m\u001b[0mhubs_small\u001b[0m\u001b[1;33m)\u001b[0m\u001b[1;33m.\u001b[0m\u001b[0mintersection\u001b[0m\u001b[1;33m(\u001b[0m\u001b[0mego_neighbors\u001b[0m\u001b[1;33m)\u001b[0m\u001b[1;33m)\u001b[0m\u001b[1;33m\u001b[0m\u001b[1;33m\u001b[0m\u001b[0m\n\u001b[0;32m    118\u001b[0m         \u001b[0mhubs\u001b[0m \u001b[1;33m=\u001b[0m \u001b[0mlist\u001b[0m\u001b[1;33m(\u001b[0m\u001b[0mset\u001b[0m\u001b[1;33m(\u001b[0m\u001b[0mhubs\u001b[0m\u001b[1;33m)\u001b[0m\u001b[1;33m.\u001b[0m\u001b[0mintersection\u001b[0m\u001b[1;33m(\u001b[0m\u001b[0mego_neighbors\u001b[0m\u001b[1;33m)\u001b[0m\u001b[1;33m)\u001b[0m\u001b[1;33m\u001b[0m\u001b[1;33m\u001b[0m\u001b[0m\n",
      "\u001b[1;31mTypeError\u001b[0m: 'NoneType' object is not iterable"
     ]
    }
   ],
   "source": [
    "G98 = US_graph(FlightsNx98, Airports)\n",
    "G98.ego('LAX', path='Figures/map_LAX_98.png')\n",
    "G98.draw(path='Figures/map_general_98.png')"
   ]
  },
  {
   "cell_type": "markdown",
   "metadata": {},
   "source": [
    "### 2007"
   ]
  },
  {
   "cell_type": "code",
   "execution_count": null,
   "metadata": {
    "scrolled": false
   },
   "outputs": [],
   "source": [
    "G07 = US_graph(FlightsNx07, Airports)\n",
    "\n",
    "G07.draw(path='Figures/map_general_07.png')"
   ]
  },
  {
   "cell_type": "markdown",
   "metadata": {},
   "source": [
    "### 2018"
   ]
  },
  {
   "cell_type": "code",
   "execution_count": null,
   "metadata": {},
   "outputs": [],
   "source": [
    "G18 = US_graph(FlightsNx18, Airports)\n",
    "\n",
    "G18.draw(path='Figures/map_general_18.png')"
   ]
  },
  {
   "cell_type": "markdown",
   "metadata": {},
   "source": [
    "## Draw ego maps\n",
    "\n",
    "For Los Angeles International Airport and it's neighbors"
   ]
  },
  {
   "cell_type": "code",
   "execution_count": null,
   "metadata": {},
   "outputs": [],
   "source": [
    "# 1998\n",
    "G98.ego('LAX', path='Figures/map_LAX_98.png')"
   ]
  }
 ],
 "metadata": {
  "kernelspec": {
   "display_name": "Python 3",
   "language": "python",
   "name": "python3"
  }
 },
 "nbformat": 4,
 "nbformat_minor": 2
}
