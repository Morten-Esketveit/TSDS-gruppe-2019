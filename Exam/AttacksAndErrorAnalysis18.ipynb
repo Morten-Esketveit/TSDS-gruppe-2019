{
 "cells": [
  {
   "cell_type": "code",
   "execution_count": 1,
   "metadata": {},
   "outputs": [],
   "source": [
    "import numpy as np\n",
    "import pandas as pd\n",
    "import matplotlib.pyplot as plt\n",
    "from shapely.geometry import Point\n",
    "import geopandas as gpd\n",
    "import copy\n",
    "import networkx as nx\n",
    "import random\n",
    "from random import sample"
   ]
  },
  {
   "cell_type": "markdown",
   "metadata": {},
   "source": [
    "#### Load data"
   ]
  },
  {
   "cell_type": "code",
   "execution_count": 2,
   "metadata": {},
   "outputs": [],
   "source": [
    "FlightsNx = pd.read_pickle(\"FlightsNx18.pkl\")"
   ]
  },
  {
   "cell_type": "markdown",
   "metadata": {},
   "source": [
    "#### Implement as network. \n"
   ]
  },
  {
   "cell_type": "code",
   "execution_count": 3,
   "metadata": {},
   "outputs": [
    {
     "name": "stdout",
     "output_type": "stream",
     "text": [
      "Name: \n",
      "Type: Graph\n",
      "Number of nodes: 358\n",
      "Number of edges: 3220\n",
      "Average degree:  17.9888\n"
     ]
    }
   ],
   "source": [
    "Network = nx.from_pandas_edgelist(FlightsNx, source = \"Origin\", target = \"Dest\", edge_attr = True)\n",
    "print(nx.info(Network))"
   ]
  },
  {
   "cell_type": "code",
   "execution_count": 4,
   "metadata": {},
   "outputs": [],
   "source": [
    "degree_dict = nx.algorithms.centrality.degree_centrality(Network) \n",
    "degree_values = list(degree_dict.values())\n",
    "# Create dataframe\n",
    "degrees = pd.DataFrame(degree_values)\n",
    "degrees.columns = [\"degree\"]\n",
    "degrees[\"degree_unnormalized\"] = degrees[\"degree\"]*(len(Network.nodes)-1)\n",
    "degrees[\"airport\"] = degree_dict.keys()"
   ]
  },
  {
   "cell_type": "markdown",
   "metadata": {},
   "source": [
    "## Attacks and Errors\n",
    "### Analysis of how removing certain airports affect network characteristics"
   ]
  },
  {
   "cell_type": "markdown",
   "metadata": {},
   "source": [
    "#### Measures for entire network"
   ]
  },
  {
   "cell_type": "code",
   "execution_count": null,
   "metadata": {},
   "outputs": [
    {
     "name": "stdout",
     "output_type": "stream",
     "text": [
      "Name: \n",
      "Type: Graph\n",
      "Number of nodes: 358\n",
      "Number of edges: 3220\n",
      "Average degree:  17.9888\n",
      "The average shortest path is: 2.3794657527815595\n",
      "The average clustering coefficient is: 0.5671628544291067\n",
      "The diameter of the network is: 6\n",
      "The global efficiency of the network is: 0.4571454652628847\n"
     ]
    }
   ],
   "source": [
    "print(nx.info(Network))\n",
    "print(\"The average shortest path is: {}\".format(nx.average_shortest_path_length(Network)))\n",
    "print(\"The average clustering coefficient is: {}\".format(nx.average_clustering(Network)))\n",
    "print(\"The diameter of the network is: {}\".format(nx.diameter(Network)))\n",
    "print(\"The global efficiency of the network is: {}\".format(nx.global_efficiency(Network)))"
   ]
  },
  {
   "cell_type": "code",
   "execution_count": null,
   "metadata": {},
   "outputs": [
    {
     "name": "stdout",
     "output_type": "stream",
     "text": [
      "0\n"
     ]
    }
   ],
   "source": [
    "# What happens to network characteristics as the most important airports are removed? \n",
    "degrees.sort_values(by = \"degree_unnormalized\", inplace = True, ascending = False)\n",
    "average_clustering = list()\n",
    "average_shortest_path_length = list()\n",
    "global_efficiency = list()\n",
    "average_degree = list()\n",
    "for i in range(30):\n",
    "    net = Network.subgraph(nodes = list(degrees[\"airport\"])[i:])\n",
    "    average_clustering.append(nx.average_clustering(net))\n",
    "    \n",
    "    #average_shortest_path_length.append(nx.average_shortest_path_length(net))\n",
    "    \n",
    "    global_efficiency.append(nx.global_efficiency(net))\n",
    "    \n",
    "    average_degree.append(sum(dict(net.degree()).values())/len(dict(net.degree()).values()))\n",
    "    if i%5 == 0:\n",
    "        print(i)\n",
    "    \n",
    "measures_attacks = pd.DataFrame({\"average_degree\":average_degree,\n",
    "                                \"average_clustering\":average_clustering,\n",
    "                                \"global_efficiency\":global_efficiency})\n",
    "#measures_attacks.head()"
   ]
  },
  {
   "cell_type": "code",
   "execution_count": null,
   "metadata": {},
   "outputs": [],
   "source": [
    "measures_attacks.to_pickle(\"measures_attacks.pkl\")"
   ]
  },
  {
   "cell_type": "code",
   "execution_count": null,
   "metadata": {},
   "outputs": [],
   "source": [
    "## What happens to network characteristics if nodes are randomly removed? \n",
    "random.seed(a = 12345)\n",
    "degrees.sort_values(by = \"degree_unnormalized\", inplace = True, ascending = False)\n",
    "average_clustering = list()\n",
    "#average_shortest_path_length = list()\n",
    "#global_efficiency = list()\n",
    "average_degree = list()\n",
    "for i in range(300):\n",
    "    net = Network.subgraph(nodes = sample(list(degrees[\"airport\"]), len(list(degrees[\"airport\"]))-i))\n",
    "    average_clustering.append(nx.average_clustering(net))\n",
    "    \n",
    "    #average_shortest_path_length.append(nx.average_shortest_path_length(net))\n",
    "    \n",
    "    #global_efficiency.append(nx.global_efficiency(net))\n",
    "    \n",
    "    average_degree.append(sum(dict(net.degree()).values())/len(dict(net.degree()).values()))\n",
    "    if i%5 == 0:\n",
    "        print(i)\n",
    "    \n",
    "measures_random = pd.DataFrame({\"average_degree\":average_degree,\n",
    "                                \"average_clustering\":average_clustering})\n",
    "measures_random.head()"
   ]
  },
  {
   "cell_type": "code",
   "execution_count": null,
   "metadata": {},
   "outputs": [],
   "source": [
    "measures_random.to_pickle(\"measures_random.pkl\")"
   ]
  },
  {
   "cell_type": "code",
   "execution_count": null,
   "metadata": {},
   "outputs": [],
   "source": [
    "# What happens to network characteristics as the least important nodes are removed?\n",
    "degrees.sort_values(by = \"degree_unnormalized\", inplace = True, ascending = False)\n",
    "average_clustering = list()\n",
    "average_shortest_path_length = list()\n",
    "global_efficiency = list()\n",
    "average_degree = list()\n",
    "for i in range(30):\n",
    "    net = Network.subgraph(nodes = list(degrees[\"airport\"])[:len(degrees[\"airport\"])-i])\n",
    "    average_clustering.append(nx.average_clustering(net))\n",
    "    \n",
    "    #average_shortest_path_length.append(nx.average_shortest_path_length(net))\n",
    "    \n",
    "    global_efficiency.append(nx.global_efficiency(net))\n",
    "    \n",
    "    average_degree.append(sum(dict(net.degree()).values())/len(dict(net.degree()).values()))\n",
    "    if i%5 == 0:\n",
    "        print(i)\n",
    "    \n",
    "measures_errors = pd.DataFrame({\"average_degree\":average_degree,\n",
    "                                \"average_clustering\":average_clustering,\n",
    "                                \"global_efficiency\":global_efficiency})\n",
    "measures_errors.head()"
   ]
  },
  {
   "cell_type": "code",
   "execution_count": null,
   "metadata": {},
   "outputs": [],
   "source": [
    "measures_errors.to_pickle(\"measures_errors.pkl\")"
   ]
  },
  {
   "cell_type": "markdown",
   "metadata": {},
   "source": [
    "#### Mapping airport network geographically"
   ]
  },
  {
   "cell_type": "code",
   "execution_count": null,
   "metadata": {},
   "outputs": [],
   "source": [
    "attack_effect = pd.read_pickle(\"measures_attacks.pkl\")\n",
    "error_effect = pd.read_pickle(\"measures_errors.pkl\")\n",
    "random_effect = pd.read_pickle(\"measures_random.pkl\")\n",
    "plist = list(range(1,31))\n",
    "plist = [(x-1) * 1/310 for x in plist]\n",
    "plist2 = list(range(1,301))\n",
    "plist2 = [(x-1) * 1/310 for x in plist2]"
   ]
  },
  {
   "cell_type": "code",
   "execution_count": null,
   "metadata": {},
   "outputs": [],
   "source": [
    "len(plist)"
   ]
  },
  {
   "cell_type": "code",
   "execution_count": null,
   "metadata": {},
   "outputs": [],
   "source": [
    "fig, ax = plt.subplots(figsize = (18,6))\n",
    "plt.plot(plist2, random_effect[\"average_degree\"], label = \"Random\", marker = \"x\")\n",
    "#plt.title(\"Effect of attacks and errors on network average degree\")\n",
    "plt.legend(loc = \"lower left\")\n",
    "plt.xlabel(\"Fraction of airports removed\")\n",
    "plt.ylabel(\"Average degree\")\n",
    "plt.ylim(0,20)\n",
    "plt.show()"
   ]
  },
  {
   "cell_type": "code",
   "execution_count": null,
   "metadata": {},
   "outputs": [],
   "source": [
    "fig, ax = plt.subplots(figsize = (18,6))\n",
    "plt.subplot(1,2,1)\n",
    "plt.plot(plist, attack_effect[\"average_degree\"], label = \"Attacks\", marker = \"*\")\n",
    "plt.plot(plist, error_effect[\"average_degree\"], label = \"Errors\", marker = \"o\")\n",
    "plt.plot(plist, random_effect[\"average_degree\"][0:30], label = \"Random\", marker = \"x\")\n",
    "#plt.title(\"Effect of attacks and errors on network average degree\")\n",
    "plt.legend(loc = \"lower left\")\n",
    "plt.xlabel(\"Fraction of airports removed\")\n",
    "plt.ylabel(\"Average degree\")\n",
    "\n",
    "plt.subplot(1,2,2)\n",
    "plt.plot(plist, attack_effect[\"average_clustering\"], label = \"Attacks\", marker = \"*\")\n",
    "plt.plot(plist, error_effect[\"average_clustering\"], label = \"Errors\", marker = \"o\")\n",
    "plt.plot(plist, random_effect[\"average_clustering\"][0:30], label = \"Random\", marker = \"x\")\n",
    "#plt.title(\"Effect of attacks and errors on network clustering coefficient\")\n",
    "plt.legend(loc = \"lower left\")\n",
    "plt.xlabel(\"Fraction of airports removed\")\n",
    "plt.ylabel(\"Clustering coefficient\")\n",
    "\n",
    "plt.savefig(fname = \"Figures/attacksanderrors.png\", format = \"png\", bbox_inches = \"tight\")\n",
    "\n",
    "plt.show()"
   ]
  }
 ],
 "metadata": {
  "kernelspec": {
   "display_name": "Python 3",
   "language": "python",
   "name": "python3"
  },
  "language_info": {
   "codemirror_mode": {
    "name": "ipython",
    "version": 3
   },
   "file_extension": ".py",
   "mimetype": "text/x-python",
   "name": "python",
   "nbconvert_exporter": "python",
   "pygments_lexer": "ipython3",
   "version": "3.7.1"
  }
 },
 "nbformat": 4,
 "nbformat_minor": 2
}
