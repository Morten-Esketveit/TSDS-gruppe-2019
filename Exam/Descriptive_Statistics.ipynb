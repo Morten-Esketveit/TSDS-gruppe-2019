{
 "cells": [
  {
   "cell_type": "markdown",
   "metadata": {},
   "source": [
    "# Basic description of the data sets\n",
    "\n",
    "Data comes from [Bureau of Transportation Statistics (BTS)](https://www.transtats.bts.gov/DL_SelectFields.asp?Table_ID=236). See [our data compiling](https://github.com/Morten-Esketveit/TSDS-gruppe-2019/blob/master/Exam/Data_compiling_v3.ipynb)."
   ]
  },
  {
   "cell_type": "code",
   "execution_count": 1,
   "metadata": {},
   "outputs": [],
   "source": [
    "# Import required packages\n",
    "\n",
    "import numpy as np\n",
    "import pandas as pd\n",
    "import matplotlib.pyplot as plt\n",
    "from shapely.geometry import Point\n",
    "import geopandas as gpd\n",
    "import copy\n",
    "import networkx as nx\n",
    "import seaborn as sns\n",
    "from scipy.stats import powerlaw"
   ]
  },
  {
   "cell_type": "code",
   "execution_count": 2,
   "metadata": {},
   "outputs": [],
   "source": [
    "# Import data for each of the three years (1998, 2008, 2018)\n",
    "FlightsNx98 = pd.read_pickle(\"Data/FlightsNx98.pkl\")\n",
    "FlightsNx08 = pd.read_pickle(\"Data/FlightsNx08.pkl\")\n",
    "FlightsNx18 = pd.read_pickle(\"Data/FlightsNx18.pkl\")"
   ]
  },
  {
   "cell_type": "code",
   "execution_count": 3,
   "metadata": {},
   "outputs": [
    {
     "data": {
      "text/html": [
       "<div>\n",
       "<style scoped>\n",
       "    .dataframe tbody tr th:only-of-type {\n",
       "        vertical-align: middle;\n",
       "    }\n",
       "\n",
       "    .dataframe tbody tr th {\n",
       "        vertical-align: top;\n",
       "    }\n",
       "\n",
       "    .dataframe thead th {\n",
       "        text-align: right;\n",
       "    }\n",
       "</style>\n",
       "<table border=\"1\" class=\"dataframe\">\n",
       "  <thead>\n",
       "    <tr style=\"text-align: right;\">\n",
       "      <th></th>\n",
       "      <th>Origin</th>\n",
       "      <th>Dest</th>\n",
       "      <th>Distance</th>\n",
       "      <th>count</th>\n",
       "      <th>avg_time_mins</th>\n",
       "      <th>companies</th>\n",
       "      <th>Origin_flights</th>\n",
       "      <th>Destination_flights</th>\n",
       "      <th>origin_degree</th>\n",
       "      <th>dest_degree</th>\n",
       "      <th>origin_btwns</th>\n",
       "      <th>dest_btwns</th>\n",
       "      <th>origin_clustcoef</th>\n",
       "      <th>dest_clustcoef</th>\n",
       "    </tr>\n",
       "  </thead>\n",
       "  <tbody>\n",
       "    <tr>\n",
       "      <th>0</th>\n",
       "      <td>FLL</td>\n",
       "      <td>IAH</td>\n",
       "      <td>966.0</td>\n",
       "      <td>2096</td>\n",
       "      <td>161.333493</td>\n",
       "      <td>2</td>\n",
       "      <td>187977</td>\n",
       "      <td>342658</td>\n",
       "      <td>78.0</td>\n",
       "      <td>114.0</td>\n",
       "      <td>0.018337</td>\n",
       "      <td>0.038863</td>\n",
       "      <td>0.399600</td>\n",
       "      <td>0.247322</td>\n",
       "    </tr>\n",
       "    <tr>\n",
       "      <th>1</th>\n",
       "      <td>SEA</td>\n",
       "      <td>SFO</td>\n",
       "      <td>679.0</td>\n",
       "      <td>9186</td>\n",
       "      <td>127.618916</td>\n",
       "      <td>5</td>\n",
       "      <td>277642</td>\n",
       "      <td>346640</td>\n",
       "      <td>82.0</td>\n",
       "      <td>87.0</td>\n",
       "      <td>0.038347</td>\n",
       "      <td>0.028849</td>\n",
       "      <td>0.394460</td>\n",
       "      <td>0.335472</td>\n",
       "    </tr>\n",
       "    <tr>\n",
       "      <th>2</th>\n",
       "      <td>DCA</td>\n",
       "      <td>IAH</td>\n",
       "      <td>1208.0</td>\n",
       "      <td>2718</td>\n",
       "      <td>200.285501</td>\n",
       "      <td>3</td>\n",
       "      <td>263507</td>\n",
       "      <td>342658</td>\n",
       "      <td>88.0</td>\n",
       "      <td>114.0</td>\n",
       "      <td>0.011112</td>\n",
       "      <td>0.038863</td>\n",
       "      <td>0.352665</td>\n",
       "      <td>0.247322</td>\n",
       "    </tr>\n",
       "    <tr>\n",
       "      <th>3</th>\n",
       "      <td>LAX</td>\n",
       "      <td>ORD</td>\n",
       "      <td>1744.0</td>\n",
       "      <td>8257</td>\n",
       "      <td>240.317673</td>\n",
       "      <td>5</td>\n",
       "      <td>436008</td>\n",
       "      <td>737786</td>\n",
       "      <td>103.0</td>\n",
       "      <td>172.0</td>\n",
       "      <td>0.030602</td>\n",
       "      <td>0.141068</td>\n",
       "      <td>0.287455</td>\n",
       "      <td>0.138923</td>\n",
       "    </tr>\n",
       "    <tr>\n",
       "      <th>4</th>\n",
       "      <td>JAX</td>\n",
       "      <td>EWR</td>\n",
       "      <td>820.0</td>\n",
       "      <td>1008</td>\n",
       "      <td>141.658462</td>\n",
       "      <td>3</td>\n",
       "      <td>61453</td>\n",
       "      <td>284883</td>\n",
       "      <td>40.0</td>\n",
       "      <td>94.0</td>\n",
       "      <td>0.001380</td>\n",
       "      <td>0.012404</td>\n",
       "      <td>0.741026</td>\n",
       "      <td>0.332876</td>\n",
       "    </tr>\n",
       "  </tbody>\n",
       "</table>\n",
       "</div>"
      ],
      "text/plain": [
       "  Origin Dest  Distance  count  avg_time_mins  companies  Origin_flights  \\\n",
       "0    FLL  IAH     966.0   2096     161.333493          2          187977   \n",
       "1    SEA  SFO     679.0   9186     127.618916          5          277642   \n",
       "2    DCA  IAH    1208.0   2718     200.285501          3          263507   \n",
       "3    LAX  ORD    1744.0   8257     240.317673          5          436008   \n",
       "4    JAX  EWR     820.0   1008     141.658462          3           61453   \n",
       "\n",
       "   Destination_flights  origin_degree  dest_degree  origin_btwns  dest_btwns  \\\n",
       "0               342658           78.0        114.0      0.018337    0.038863   \n",
       "1               346640           82.0         87.0      0.038347    0.028849   \n",
       "2               342658           88.0        114.0      0.011112    0.038863   \n",
       "3               737786          103.0        172.0      0.030602    0.141068   \n",
       "4               284883           40.0         94.0      0.001380    0.012404   \n",
       "\n",
       "   origin_clustcoef  dest_clustcoef  \n",
       "0          0.399600        0.247322  \n",
       "1          0.394460        0.335472  \n",
       "2          0.352665        0.247322  \n",
       "3          0.287455        0.138923  \n",
       "4          0.741026        0.332876  "
      ]
     },
     "execution_count": 3,
     "metadata": {},
     "output_type": "execute_result"
    }
   ],
   "source": [
    "# Show data-structure. The structure is similar across years.\n",
    "FlightsNx18.head()"
   ]
  },
  {
   "cell_type": "code",
   "execution_count": 4,
   "metadata": {},
   "outputs": [],
   "source": [
    "# Define networks for each year\n",
    "net1998 = nx.from_pandas_edgelist(FlightsNx98, source = \"Origin\", target = \"Dest\", edge_attr = True)\n",
    "net2008 = nx.from_pandas_edgelist(FlightsNx08, source = \"Origin\", target = \"Dest\", edge_attr = True)\n",
    "net2018 = nx.from_pandas_edgelist(FlightsNx18, source = \"Origin\", target = \"Dest\", edge_attr = True)"
   ]
  },
  {
   "cell_type": "code",
   "execution_count": 5,
   "metadata": {},
   "outputs": [
    {
     "name": "stdout",
     "output_type": "stream",
     "text": [
      "Name: \n",
      "Type: Graph\n",
      "Number of nodes: 209\n",
      "Number of edges: 1614\n",
      "Average degree:  15.4450\n",
      "Name: \n",
      "Type: Graph\n",
      "Number of nodes: 304\n",
      "Number of edges: 2754\n",
      "Average degree:  18.1184\n",
      "Name: \n",
      "Type: Graph\n",
      "Number of nodes: 355\n",
      "Number of edges: 3110\n",
      "Average degree:  17.5211\n"
     ]
    }
   ],
   "source": [
    "# Basic information on each network: \n",
    "print(nx.info(net1998))\n",
    "print(nx.info(net2008))\n",
    "print(nx.info(net2018))"
   ]
  },
  {
   "cell_type": "code",
   "execution_count": 11,
   "metadata": {},
   "outputs": [
    {
     "name": "stdout",
     "output_type": "stream",
     "text": [
      "------1998------\n",
      "Average Clustering Coefficient: 0.63\n",
      "Global Efficiency of network: 0.45\n",
      "Maximum degree: 99.00\n",
      "Number of unique departure airports: 207.00\n",
      "Share of possible edges existing: 0.074\n",
      "------2008------\n",
      "Average Clustering Coefficient: 0.65\n",
      "Global Efficiency of network: 0.47\n",
      "Average shortest path length: 2.33\n",
      "Diameter: 5.00\n",
      "Maximum degree: 172.00\n",
      "Number of unique departure airports: 302.00\n",
      "Share of possible edges existing: 0.060\n",
      "------2018------\n",
      "Average Clustering Coefficient: 0.57\n",
      "Global Efficiency of network: 0.46\n",
      "Average shortest path length: 2.39\n",
      "Diameter: 6.00\n",
      "Maximum degree: 172.00\n",
      "Number of unique departure airports: 355.00\n",
      "Share of possible edges existing: 0.049\n"
     ]
    }
   ],
   "source": [
    "# Further information on each network\n",
    "# Certain measures not included for 1998 because graph is not connected\n",
    "# 1998\n",
    "print(\"------1998------\")\n",
    "print(\"Average Clustering Coefficient: {:.2f}\".format(nx.average_clustering(net1998)))\n",
    "print(\"Global Efficiency of network: {:.2f}\".format(nx.global_efficiency(net1998)))\n",
    "print(\"Maximum degree: {:.2f}\".format(max(dict(net1998.degree()).values())))\n",
    "print('Number of unique departure airports: {:.2f}'.format(FlightsNx98.Origin.nunique()))\n",
    "print(\"Share of possible edges existing: {:.3f}\".format(len(net1998.edges)/(len(net1998.nodes)*(len(net1998.nodes)-1)*(1/2))))\n",
    "\n",
    "print(\"------2008------\")\n",
    "print(\"Average Clustering Coefficient: {:.2f}\".format(nx.average_clustering(net2008)))\n",
    "print(\"Global Efficiency of network: {:.2f}\".format(nx.global_efficiency(net2008)))\n",
    "print(\"Average shortest path length: {:.2f}\".format(nx.average_shortest_path_length(net2008)))\n",
    "print(\"Diameter: {:.2f}\".format(nx.diameter(net2008)))\n",
    "print(\"Maximum degree: {:.2f}\".format(max(dict(net2008.degree()).values())))\n",
    "print('Number of unique departure airports: {:.2f}'.format(FlightsNx08.Origin.nunique()))\n",
    "print(\"Share of possible edges existing: {:.3f}\".format(len(net2008.edges)/(len(net2008.nodes)*(len(net2008.nodes)-1)*(1/2))))\n",
    "\n",
    "print(\"------2018------\")\n",
    "print(\"Average Clustering Coefficient: {:.2f}\".format(nx.average_clustering(net2018)))\n",
    "print(\"Global Efficiency of network: {:.2f}\".format(nx.global_efficiency(net2018)))\n",
    "print(\"Average shortest path length: {:.2f}\".format(nx.average_shortest_path_length(net2018)))\n",
    "print(\"Diameter: {:.2f}\".format(nx.diameter(net2018)))\n",
    "print(\"Maximum degree: {:.2f}\".format(max(dict(net2018.degree()).values())))\n",
    "print('Number of unique departure airports: {:.2f}'.format(FlightsNx18.Origin.nunique()))\n",
    "print(\"Share of possible edges existing: {:.3f}\".format(len(net2018.edges)/(len(net2018.nodes)*(len(net2018.nodes)-1)*(1/2))))"
   ]
  },
  {
   "cell_type": "code",
   "execution_count": 13,
   "metadata": {},
   "outputs": [
    {
     "data": {
      "image/png": "[encoded data removed]",
      "text/plain": [
       "<Figure size 1152x288 with 3 Axes>"
      ]
     },
     "metadata": {
      "needs_background": "light"
     },
     "output_type": "display_data"
    }
   ],
   "source": [
    "# Plotting degree distributions\n",
    "fig, ax = plt.subplots(figsize = (16,4))\n",
    "\n",
    "plt.subplot(131)\n",
    "plt.title(\"Degree distribution, 1998\")\n",
    "sns.distplot(list(dict(net1998.degree).values()), bins = 50, kde = False, fit = powerlaw)\n",
    "plt.xlabel(\"Degree\")\n",
    "plt.yticks([0, 0.05, 0.1, 0.15, 0.2])\n",
    "plt.ylim(0,.2)\n",
    "plt.xlim(0,200)\n",
    "\n",
    "plt.subplot(132)\n",
    "plt.title(\"Degree distribution, 2008\")\n",
    "sns.distplot(list(dict(net2008.degree).values()), bins = 50, kde = False, fit = powerlaw)\n",
    "plt.xlabel(\"Degree\")\n",
    "plt.yticks([0, 0.05, 0.1, 0.15, 0.2])\n",
    "plt.ylim(0,.2)\n",
    "plt.xlim(0,200)\n",
    "\n",
    "plt.subplot(133)\n",
    "plt.title(\"Degree distribution, 2018\")\n",
    "sns.distplot(list(dict(net2018.degree).values()), bins = 50, kde = False, fit = powerlaw)\n",
    "plt.xlabel(\"Degree\")\n",
    "plt.yticks([0, 0.05, 0.1, 0.15, 0.2])\n",
    "plt.ylim(0,.2)\n",
    "plt.xlim(0,200)\n",
    "\n",
    "plt.savefig(fname = \"Figures/degree_distributionv2.png\", bbox_inches = \"tight\")\n",
    "plt.show()"
   ]
  },
  {
   "cell_type": "code",
   "execution_count": 8,
   "metadata": {},
   "outputs": [],
   "source": [
    "degrees = nx.degree_centrality(net2018)\n",
    "degrees_df = pd.DataFrame(list(degrees.values()))\n",
    "degrees_df.columns = [\"degrees\"]\n",
    "degrees_df[\"airport\"] = degrees.keys()\n",
    "\n",
    "btwn = nx.betweenness_centrality(net2018)\n",
    "betweenness = list(btwn.values())\n",
    "btwn_df = pd.DataFrame(betweenness)\n",
    "btwn_df.columns = [\"betweenness\"]\n",
    "btwn_df[\"airport\"] = btwn.keys()\n",
    "\n",
    "node_char = degrees_df.merge(btwn_df, on= \"airport\")\n",
    "\n",
    "clustr = nx.algorithms.cluster.clustering(net2018)\n",
    "clustr_df = pd.DataFrame(list(clustr.values()))\n",
    "clustr_df.columns = [\"clustering\"]\n",
    "clustr_df[\"airport\"] = clustr.keys()\n",
    "\n",
    "node_char = node_char.merge(clustr_df, on = \"airport\")"
   ]
  },
  {
   "cell_type": "code",
   "execution_count": 9,
   "metadata": {},
   "outputs": [
    {
     "data": {
      "image/png": "[encoded data removed]",
      "text/plain": [
       "<Figure size 540x540 with 12 Axes>"
      ]
     },
     "metadata": {
      "needs_background": "light"
     },
     "output_type": "display_data"
    }
   ],
   "source": [
    "cols = [\"degrees\",\"betweenness\",\"clustering\"]\n",
    "sns.pairplot(node_char[cols], height = 2.5)\n",
    "plt.tight_layout()\n",
    "plt.savefig(fname = \"Figures/NxPairPlot.png\")\n",
    "plt.show()"
   ]
  }
 ],
 "metadata": {
  "kernelspec": {
   "display_name": "Python 3",
   "language": "python",
   "name": "python3"
  },
  "language_info": {
   "codemirror_mode": {
    "name": "ipython",
    "version": 3
   },
   "file_extension": ".py",
   "mimetype": "text/x-python",
   "name": "python",
   "nbconvert_exporter": "python",
   "pygments_lexer": "ipython3",
   "version": "3.7.1"
  }
 },
 "nbformat": 4,
 "nbformat_minor": 2
}
