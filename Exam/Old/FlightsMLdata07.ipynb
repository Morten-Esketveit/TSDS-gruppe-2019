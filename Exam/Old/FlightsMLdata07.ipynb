{
 "cells": [
  {
   "cell_type": "code",
   "execution_count": 1,
   "metadata": {},
   "outputs": [
    {
     "name": "stderr",
     "output_type": "stream",
     "text": [
      "Unable to open EPSG support file gcs.csv.  Try setting the GDAL_DATA environment variable to point to the directory containing EPSG csv files.\n"
     ]
    }
   ],
   "source": [
    "import numpy as np\n",
    "import pandas as pd\n",
    "import matplotlib.pyplot as plt\n",
    "from shapely.geometry import Point\n",
    "import geopandas as gpd\n",
    "import copy\n",
    "import networkx as nx"
   ]
  },
  {
   "cell_type": "markdown",
   "metadata": {},
   "source": [
    "### Dataset for prediction\n",
    "Each observation/row is a connection (edge in the network). \n",
    "We want the following **route-specific** information: \n",
    "* Number of flights (\"count\") **done**\n",
    "* Distance (average distance?) **done**\n",
    "* Tid (average time?)  **done** \n",
    "\n",
    "\n",
    "We want the following **airport-specific** information: \n",
    "* Degree **done** \n",
    "* Clustering coefficient **done**\n",
    "* Betweenness centrality **done** \n",
    "* State? (administrative border?) **excluded**\n"
   ]
  },
  {
   "cell_type": "markdown",
   "metadata": {},
   "source": [
    "## Load data \n",
    "Data comes from http://stat-computing.org/dataexpo/2009/. \n",
    "Flight data relates to the year 2007 (see file StatComp_MER) "
   ]
  },
  {
   "cell_type": "code",
   "execution_count": 2,
   "metadata": {},
   "outputs": [],
   "source": [
    "# Load data\n",
    "Flights = pd.read_pickle(\"Data/Flights18.pkl\")\n",
    "#Airports = pd.read_pickle(\"Data/Airports.pkl\")\n",
    "\n",
    "# Select variables from which to create network. Must contain two columns of nodes, since \n",
    "# nx.from_pandas_edgelist() views each row as an edge. Can also contains attributes, e.g. Distance. \n",
    "FlightsNx = Flights[[\"Origin\",\"Dest\",\"Distance\"]]\n",
    "\n",
    "# Take counts (i.e. how many origin to destination flights in the dataset)\n",
    "counts = pd.DataFrame(Flights.groupby([\"Origin\",\"Dest\"])[\"Year\"].count())\n",
    "counts.columns = [\"count\"]\n",
    "FlightsNx = FlightsNx.merge(counts, how = 'left', on = [\"Origin\",\"Dest\"])\n",
    "\n",
    "# Drop duplicates \n",
    "FlightsNx = FlightsNx.drop_duplicates()"
   ]
  },
  {
   "cell_type": "code",
   "execution_count": 3,
   "metadata": {},
   "outputs": [
    {
     "data": {
      "text/plain": [
       "Index(['Year', 'Month', 'DayofMonth', 'DayOfWeek', 'DepTime', 'UniqueCarrier',\n",
       "       'Origin', 'Dest', 'Distance'],\n",
       "      dtype='object')"
      ]
     },
     "execution_count": 3,
     "metadata": {},
     "output_type": "execute_result"
    }
   ],
   "source": [
    "Flights.columns"
   ]
  },
  {
   "cell_type": "code",
   "execution_count": 4,
   "metadata": {},
   "outputs": [
    {
     "data": {
      "text/plain": [
       "(7175430, 9)"
      ]
     },
     "execution_count": 4,
     "metadata": {},
     "output_type": "execute_result"
    }
   ],
   "source": [
    "Flights.shape"
   ]
  },
  {
   "cell_type": "code",
   "execution_count": 5,
   "metadata": {},
   "outputs": [
    {
     "ename": "KeyError",
     "evalue": "'Column not found: ActualElapsedTime'",
     "output_type": "error",
     "traceback": [
      "\u001b[1;31m---------------------------------------------------------------------------\u001b[0m",
      "\u001b[1;31mKeyError\u001b[0m                                  Traceback (most recent call last)",
      "\u001b[1;32m<ipython-input-5-13bbbf980813>\u001b[0m in \u001b[0;36m<module>\u001b[1;34m\u001b[0m\n\u001b[0;32m      1\u001b[0m \u001b[1;31m# Create average time for each route\u001b[0m\u001b[1;33m\u001b[0m\u001b[1;33m\u001b[0m\u001b[1;33m\u001b[0m\u001b[0m\n\u001b[1;32m----> 2\u001b[1;33m \u001b[0mTimeMeans\u001b[0m \u001b[1;33m=\u001b[0m \u001b[0mpd\u001b[0m\u001b[1;33m.\u001b[0m\u001b[0mDataFrame\u001b[0m\u001b[1;33m(\u001b[0m\u001b[0mFlights\u001b[0m\u001b[1;33m.\u001b[0m\u001b[0mgroupby\u001b[0m\u001b[1;33m(\u001b[0m\u001b[1;33m[\u001b[0m\u001b[1;34m\"Origin\"\u001b[0m\u001b[1;33m,\u001b[0m\u001b[1;34m\"Dest\"\u001b[0m\u001b[1;33m]\u001b[0m\u001b[1;33m)\u001b[0m\u001b[1;33m[\u001b[0m\u001b[1;34m\"ActualElapsedTime\"\u001b[0m\u001b[1;33m]\u001b[0m\u001b[1;33m.\u001b[0m\u001b[0mmean\u001b[0m\u001b[1;33m(\u001b[0m\u001b[1;33m)\u001b[0m\u001b[1;33m)\u001b[0m\u001b[1;33m\u001b[0m\u001b[1;33m\u001b[0m\u001b[0m\n\u001b[0m\u001b[0;32m      3\u001b[0m \u001b[1;31m# Merge to FlightsNx\u001b[0m\u001b[1;33m\u001b[0m\u001b[1;33m\u001b[0m\u001b[1;33m\u001b[0m\u001b[0m\n\u001b[0;32m      4\u001b[0m \u001b[0mFlightsNx\u001b[0m \u001b[1;33m=\u001b[0m \u001b[0mFlightsNx\u001b[0m\u001b[1;33m.\u001b[0m\u001b[0mmerge\u001b[0m\u001b[1;33m(\u001b[0m\u001b[0mTimeMeans\u001b[0m\u001b[1;33m,\u001b[0m \u001b[0mhow\u001b[0m \u001b[1;33m=\u001b[0m \u001b[1;34m\"left\"\u001b[0m\u001b[1;33m,\u001b[0m \u001b[0mon\u001b[0m \u001b[1;33m=\u001b[0m \u001b[1;33m[\u001b[0m\u001b[1;34m\"Origin\"\u001b[0m\u001b[1;33m,\u001b[0m \u001b[1;34m\"Dest\"\u001b[0m\u001b[1;33m]\u001b[0m\u001b[1;33m)\u001b[0m\u001b[1;33m\u001b[0m\u001b[1;33m\u001b[0m\u001b[0m\n",
      "\u001b[1;32m~\\Anaconda3\\lib\\site-packages\\pandas\\core\\base.py\u001b[0m in \u001b[0;36m__getitem__\u001b[1;34m(self, key)\u001b[0m\n\u001b[0;32m    273\u001b[0m         \u001b[1;32melse\u001b[0m\u001b[1;33m:\u001b[0m\u001b[1;33m\u001b[0m\u001b[1;33m\u001b[0m\u001b[0m\n\u001b[0;32m    274\u001b[0m             \u001b[1;32mif\u001b[0m \u001b[0mkey\u001b[0m \u001b[1;32mnot\u001b[0m \u001b[1;32min\u001b[0m \u001b[0mself\u001b[0m\u001b[1;33m.\u001b[0m\u001b[0mobj\u001b[0m\u001b[1;33m:\u001b[0m\u001b[1;33m\u001b[0m\u001b[1;33m\u001b[0m\u001b[0m\n\u001b[1;32m--> 275\u001b[1;33m                 \u001b[1;32mraise\u001b[0m \u001b[0mKeyError\u001b[0m\u001b[1;33m(\u001b[0m\u001b[1;34m\"Column not found: {key}\"\u001b[0m\u001b[1;33m.\u001b[0m\u001b[0mformat\u001b[0m\u001b[1;33m(\u001b[0m\u001b[0mkey\u001b[0m\u001b[1;33m=\u001b[0m\u001b[0mkey\u001b[0m\u001b[1;33m)\u001b[0m\u001b[1;33m)\u001b[0m\u001b[1;33m\u001b[0m\u001b[1;33m\u001b[0m\u001b[0m\n\u001b[0m\u001b[0;32m    276\u001b[0m             \u001b[1;32mreturn\u001b[0m \u001b[0mself\u001b[0m\u001b[1;33m.\u001b[0m\u001b[0m_gotitem\u001b[0m\u001b[1;33m(\u001b[0m\u001b[0mkey\u001b[0m\u001b[1;33m,\u001b[0m \u001b[0mndim\u001b[0m\u001b[1;33m=\u001b[0m\u001b[1;36m1\u001b[0m\u001b[1;33m)\u001b[0m\u001b[1;33m\u001b[0m\u001b[1;33m\u001b[0m\u001b[0m\n\u001b[0;32m    277\u001b[0m \u001b[1;33m\u001b[0m\u001b[0m\n",
      "\u001b[1;31mKeyError\u001b[0m: 'Column not found: ActualElapsedTime'"
     ]
    }
   ],
   "source": [
    "# Create average time for each route\n",
    "TimeMeans = pd.DataFrame(Flights.groupby([\"Origin\",\"Dest\"])[\"ActualElapsedTime\"].mean())\n",
    "# Merge to FlightsNx\n",
    "FlightsNx = FlightsNx.merge(TimeMeans, how = \"left\", on = [\"Origin\", \"Dest\"])"
   ]
  },
  {
   "cell_type": "code",
   "execution_count": null,
   "metadata": {},
   "outputs": [],
   "source": [
    "# Create number of distinct companies on each route \n",
    "companies = pd.DataFrame(Flights.groupby([\"Origin\",\"Dest\"])[\"UniqueCarrier\"].nunique())\n",
    "companies.columns = [\"companies\"]\n",
    "FlightsNx = FlightsNx.merge(companies, how = \"left\", on = [\"Origin\", \"Dest\"])"
   ]
  },
  {
   "cell_type": "code",
   "execution_count": null,
   "metadata": {},
   "outputs": [],
   "source": [
    "# Count number of take-offs from origin: \n",
    "orig_takeoff = pd.DataFrame(FlightsNx.groupby([\"Origin\"])[\"count\"].sum())\n",
    "orig_takeoff.columns = [\"origin_takeoff\"]\n",
    "# Merge to network dataset: \n",
    "FlightsNx = FlightsNx.merge(orig_takeoff, how = \"left\", on = \"Origin\")\n",
    "\n",
    "# Count number of take-offs from dest\n",
    "dest_takeoff = pd.DataFrame(FlightsNx.groupby([\"Origin\"])[\"count\"].sum())\n",
    "dest_takeoff.columns = [\"dest_takeoff\"]\n",
    "FlightsNx = FlightsNx.merge(dest_takeoff, how = \"left\", left_on = \"Dest\", right_on = \"Origin\")\n",
    "\n",
    "# Count number of landings at destination\n",
    "dest_lands = pd.DataFrame(FlightsNx.groupby([\"Dest\"])[\"count\"].sum())\n",
    "dest_lands.columns = [\"dest_landing\"]\n",
    "FlightsNx = FlightsNx.merge(dest_lands, how = \"left\", on = \"Dest\")\n",
    "\n",
    "orig_lands = pd.DataFrame(FlightsNx.groupby([\"Dest\"])[\"count\"].sum())\n",
    "orig_lands.columns = [\"orig_landing\"]\n",
    "FlightsNx = FlightsNx.merge(orig_lands, how = \"left\", left_on = \"Origin\", right_on = \"Dest\")\n",
    "\n",
    "# Construct totals (flights)\n",
    "FlightsNx[\"Origin_flights\"] = FlightsNx[\"origin_takeoff\"]+FlightsNx[\"orig_landing\"]\n",
    "FlightsNx[\"Destination_flights\"] = FlightsNx[\"dest_takeoff\"]+FlightsNx[\"dest_landing\"]\n",
    "\n",
    "# Drop auxiliary vars\n",
    "FlightsNx.drop([\"origin_takeoff\",\"dest_takeoff\",\"dest_landing\",\"orig_landing\"], axis = 1, inplace = True)"
   ]
  },
  {
   "cell_type": "markdown",
   "metadata": {},
   "source": [
    "### Degree distribution"
   ]
  },
  {
   "cell_type": "code",
   "execution_count": null,
   "metadata": {},
   "outputs": [],
   "source": [
    "Network = nx.from_pandas_edgelist(FlightsNx, source = \"Origin\", target = \"Dest\", edge_attr = True)\n",
    "# docs: https://networkx.github.io/documentation/stable/reference/algorithms/generated/networkx.algorithms.centrality.degree_centrality.html#networkx.algorithms.centrality.degree_centrality \n",
    "# Find degree: \n",
    "degree_dict = nx.algorithms.centrality.degree_centrality(Network) \n",
    "degree_values = list(degree_dict.values())\n",
    "# Create dataframe\n",
    "degrees = pd.DataFrame(degree_values)\n",
    "degrees.columns = [\"degree\"]\n",
    "degrees[\"degree_unnormalized\"] = degrees[\"degree\"]*(len(Network.nodes)-1)\n",
    "degrees[\"airport\"] = degree_dict.keys()"
   ]
  },
  {
   "cell_type": "code",
   "execution_count": null,
   "metadata": {},
   "outputs": [],
   "source": [
    "# Add degree to FlightsNx data\n",
    "FlightsNx = FlightsNx.merge(degrees, how = \"left\", left_on = \"Origin\", right_on = \"airport\")\n",
    "FlightsNx = FlightsNx.drop(\"airport\", axis = 1)\n",
    "FlightsNx = FlightsNx.rename(columns = {\"degree\": \"origin_degree\", \"degree_unnormalized\": \"origin_degree_unn\"})\n",
    "\n",
    "FlightsNx = FlightsNx.merge(degrees, how = \"left\", left_on = \"Dest\", right_on = \"airport\")\n",
    "FlightsNx = FlightsNx.drop(\"airport\", axis = 1)\n",
    "FlightsNx = FlightsNx.rename(columns = {\"degree\": \"dest_degree\", \"degree_unnormalized\": \"dest_degree_unn\"})\n"
   ]
  },
  {
   "cell_type": "markdown",
   "metadata": {},
   "source": [
    "#### Betweenness centrality"
   ]
  },
  {
   "cell_type": "code",
   "execution_count": null,
   "metadata": {},
   "outputs": [],
   "source": [
    "btwn_dict = nx.betweenness_centrality(Network)\n",
    "btwns = pd.DataFrame(list(btwn_dict.values()))\n",
    "btwns.columns = [\"betweenness\"]\n",
    "btwns[\"airport\"] = btwn_dict.keys()\n",
    "\n",
    "FlightsNx = FlightsNx.merge(btwns, how = \"left\", left_on = \"Origin\", right_on = \"airport\")\n",
    "FlightsNx = FlightsNx.drop(\"airport\", axis = 1)\n",
    "FlightsNx = FlightsNx.rename(columns = ({\"betweenness\":\"origin_btwns\"}))\n",
    "\n",
    "FlightsNx = FlightsNx.merge(btwns, how = \"left\", left_on = \"Dest\", right_on = \"airport\")\n",
    "FlightsNx = FlightsNx.drop(\"airport\", axis = 1)\n",
    "FlightsNx = FlightsNx.rename(columns = ({\"betweenness\":\"dest_btwns\"}))"
   ]
  },
  {
   "cell_type": "code",
   "execution_count": null,
   "metadata": {},
   "outputs": [],
   "source": [
    "FlightsNx.drop([\"origin_degree\",\"dest_degree\"], axis = 1, inplace = True)"
   ]
  },
  {
   "cell_type": "code",
   "execution_count": null,
   "metadata": {},
   "outputs": [],
   "source": [
    "FlightsNx = FlightsNx.rename(columns = ({\"ActualElapsedTime\":\"avg_time_mins\",\n",
    "                             \"origin_degree_unn\":\"origin_degree\",\n",
    "                             \"dest_degree_unn\":\"dest_degree\"}))"
   ]
  },
  {
   "cell_type": "markdown",
   "metadata": {},
   "source": [
    "#### Clustering Coefficients "
   ]
  },
  {
   "cell_type": "code",
   "execution_count": null,
   "metadata": {},
   "outputs": [],
   "source": [
    "clusters = nx.algorithms.cluster.clustering(Network)\n",
    "clusters_df = pd.DataFrame(list(clusters.values()))\n",
    "clusters_df.columns = [\"clustering\"]\n",
    "clusters_df[\"airport\"] = clusters.keys()\n",
    "\n",
    "FlightsNx = FlightsNx.merge(clusters_df, how = \"left\", left_on = \"Origin\", right_on = \"airport\")\n",
    "FlightsNx = FlightsNx.drop(\"airport\", axis = 1)\n",
    "FlightsNx = FlightsNx.rename(columns = ({\"clustering\":\"origin_clustcoef\"}))\n",
    "\n",
    "FlightsNx = FlightsNx.merge(clusters_df, how = \"left\", left_on = \"Dest\", right_on = \"airport\")\n",
    "FlightsNx = FlightsNx.drop(\"airport\", axis = 1)\n",
    "FlightsNx = FlightsNx.rename(columns = ({\"clustering\":\"dest_clustcoef\"}))\n"
   ]
  },
  {
   "cell_type": "code",
   "execution_count": null,
   "metadata": {},
   "outputs": [],
   "source": [
    "FlightsNx.to_pickle(\"Data/FlightsML.pkl\")\n",
    "FlightsNx.tail(2)"
   ]
  },
  {
   "cell_type": "code",
   "execution_count": null,
   "metadata": {},
   "outputs": [],
   "source": [
    "## Homophily? \n",
    "## \" Does these features contribute? i.e. raise predictive performance?\"\n",
    "## Number of different companies?"
   ]
  }
 ],
 "metadata": {
  "kernelspec": {
   "display_name": "Python 3",
   "language": "python",
   "name": "python3"
  },
  "language_info": {
   "codemirror_mode": {
    "name": "ipython",
    "version": 3
   },
   "file_extension": ".py",
   "mimetype": "text/x-python",
   "name": "python",
   "nbconvert_exporter": "python",
   "pygments_lexer": "ipython3",
   "version": "3.6.8"
  }
 },
 "nbformat": 4,
 "nbformat_minor": 2
}
