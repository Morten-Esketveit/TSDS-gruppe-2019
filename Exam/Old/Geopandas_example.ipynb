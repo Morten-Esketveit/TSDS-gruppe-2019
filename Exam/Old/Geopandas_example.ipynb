{
 "cells": [
  {
   "cell_type": "code",
   "execution_count": 2,
   "metadata": {},
   "outputs": [],
   "source": [
    "%matplotlib inline\n",
    "import pandas as pd\n",
    "import numpy as np\n",
    "import matplotlib.pyplot as plt\n",
    "import matplotlib.pylab as plt\n",
    "import networkx as nx           # pip install networkx\n",
    "import pandas as pd\n",
    "from collections import Counter\n",
    "from netwulf import visualize   # pip install netwulf\n",
    "from operator import itemgetter"
   ]
  },
  {
   "cell_type": "markdown",
   "metadata": {},
   "source": [
    "spatial join eller restrict x-y grænser på kortet (se excercises)\n",
    "\n",
    "geopandas plotter prikker.\n",
    "\n",
    "network-X: Overskriv 'pos' (dictionary: Node & XY-position) med XY-prikker. (vi har edge-attributes, men ikke note-attributes).\n",
    "\n",
    "Google \"drawing notes with coordinates in correct position\" "
   ]
  },
  {
   "cell_type": "code",
   "execution_count": null,
   "metadata": {},
   "outputs": [],
   "source": []
  }
 ],
 "metadata": {
  "kernelspec": {
   "display_name": "Python 3",
   "language": "python",
   "name": "python3"
  },
  "language_info": {
   "codemirror_mode": {
    "name": "ipython",
    "version": 3
   },
   "file_extension": ".py",
   "mimetype": "text/x-python",
   "name": "python",
   "nbconvert_exporter": "python",
   "pygments_lexer": "ipython3",
   "version": "3.6.8"
  }
 },
 "nbformat": 4,
 "nbformat_minor": 2
}
